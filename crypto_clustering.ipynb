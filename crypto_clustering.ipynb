{
 "cells": [
  {
   "cell_type": "markdown",
   "metadata": {},
   "source": [
    "# Clustering Crypto"
   ]
  },
  {
   "cell_type": "code",
   "execution_count": 31,
   "metadata": {},
   "outputs": [],
   "source": [
    "# Initial imports\n",
    "import requests\n",
    "import pandas as pd\n",
    "from pathlib import Path\n",
    "import matplotlib.pyplot as plt\n",
    "import hvplot.pandas\n",
    "import plotly.express as px\n",
    "from sklearn.preprocessing import StandardScaler, MinMaxScaler, LabelEncoder\n",
    "from sklearn.decomposition import PCA\n",
    "from sklearn.cluster import KMeans"
   ]
  },
  {
   "cell_type": "markdown",
   "metadata": {},
   "source": [
    "### Fetching Cryptocurrency Data"
   ]
  },
  {
   "cell_type": "code",
   "execution_count": 7,
   "metadata": {},
   "outputs": [],
   "source": [
    "# Using the following endpoint to fetch json data\n",
    "#url = \"https://min-api.cryptocompare.com/data/all/coinlist\""
   ]
  },
  {
   "cell_type": "code",
   "execution_count": 18,
   "metadata": {},
   "outputs": [],
   "source": [
    "# Creating a DataFrame \n",
    "# HINT: You will need to use the 'Data' key from the json response, then transpose the DataFrame.\n",
    "#crypto_df = pd.read_csv(file_path, encoding=\"ISO-8859-1\")\n",
    "#df_shopping.head(10)"
   ]
  },
  {
   "cell_type": "code",
   "execution_count": 17,
   "metadata": {},
   "outputs": [
    {
     "output_type": "execute_result",
     "data": {
      "text/plain": [
       "       CoinName Algorithm  IsTrading ProofType  TotalCoinsMined  \\\n",
       "42      42 Coin    Scrypt       True   PoW/PoS     4.199995e+01   \n",
       "365     365Coin       X11       True   PoW/PoS              NaN   \n",
       "404     404Coin    Scrypt       True   PoW/PoS     1.055185e+09   \n",
       "611   SixEleven   SHA-256       True       PoW              NaN   \n",
       "808         808   SHA-256       True   PoW/PoS     0.000000e+00   \n",
       "1337  EliteCoin       X13       True   PoW/PoS     2.927942e+10   \n",
       "2015  2015 coin       X11       True   PoW/PoS              NaN   \n",
       "BTC     Bitcoin   SHA-256       True       PoW     1.792718e+07   \n",
       "ETH    Ethereum    Ethash       True       PoW     1.076842e+08   \n",
       "LTC    Litecoin    Scrypt       True       PoW     6.303924e+07   \n",
       "\n",
       "     TotalCoinSupply  \n",
       "42                42  \n",
       "365       2300000000  \n",
       "404        532000000  \n",
       "611           611000  \n",
       "808                0  \n",
       "1337    314159265359  \n",
       "2015               0  \n",
       "BTC         21000000  \n",
       "ETH                0  \n",
       "LTC         84000000  "
      ],
      "text/html": "<div>\n<style scoped>\n    .dataframe tbody tr th:only-of-type {\n        vertical-align: middle;\n    }\n\n    .dataframe tbody tr th {\n        vertical-align: top;\n    }\n\n    .dataframe thead th {\n        text-align: right;\n    }\n</style>\n<table border=\"1\" class=\"dataframe\">\n  <thead>\n    <tr style=\"text-align: right;\">\n      <th></th>\n      <th>CoinName</th>\n      <th>Algorithm</th>\n      <th>IsTrading</th>\n      <th>ProofType</th>\n      <th>TotalCoinsMined</th>\n      <th>TotalCoinSupply</th>\n    </tr>\n  </thead>\n  <tbody>\n    <tr>\n      <th>42</th>\n      <td>42 Coin</td>\n      <td>Scrypt</td>\n      <td>True</td>\n      <td>PoW/PoS</td>\n      <td>4.199995e+01</td>\n      <td>42</td>\n    </tr>\n    <tr>\n      <th>365</th>\n      <td>365Coin</td>\n      <td>X11</td>\n      <td>True</td>\n      <td>PoW/PoS</td>\n      <td>NaN</td>\n      <td>2300000000</td>\n    </tr>\n    <tr>\n      <th>404</th>\n      <td>404Coin</td>\n      <td>Scrypt</td>\n      <td>True</td>\n      <td>PoW/PoS</td>\n      <td>1.055185e+09</td>\n      <td>532000000</td>\n    </tr>\n    <tr>\n      <th>611</th>\n      <td>SixEleven</td>\n      <td>SHA-256</td>\n      <td>True</td>\n      <td>PoW</td>\n      <td>NaN</td>\n      <td>611000</td>\n    </tr>\n    <tr>\n      <th>808</th>\n      <td>808</td>\n      <td>SHA-256</td>\n      <td>True</td>\n      <td>PoW/PoS</td>\n      <td>0.000000e+00</td>\n      <td>0</td>\n    </tr>\n    <tr>\n      <th>1337</th>\n      <td>EliteCoin</td>\n      <td>X13</td>\n      <td>True</td>\n      <td>PoW/PoS</td>\n      <td>2.927942e+10</td>\n      <td>314159265359</td>\n    </tr>\n    <tr>\n      <th>2015</th>\n      <td>2015 coin</td>\n      <td>X11</td>\n      <td>True</td>\n      <td>PoW/PoS</td>\n      <td>NaN</td>\n      <td>0</td>\n    </tr>\n    <tr>\n      <th>BTC</th>\n      <td>Bitcoin</td>\n      <td>SHA-256</td>\n      <td>True</td>\n      <td>PoW</td>\n      <td>1.792718e+07</td>\n      <td>21000000</td>\n    </tr>\n    <tr>\n      <th>ETH</th>\n      <td>Ethereum</td>\n      <td>Ethash</td>\n      <td>True</td>\n      <td>PoW</td>\n      <td>1.076842e+08</td>\n      <td>0</td>\n    </tr>\n    <tr>\n      <th>LTC</th>\n      <td>Litecoin</td>\n      <td>Scrypt</td>\n      <td>True</td>\n      <td>PoW</td>\n      <td>6.303924e+07</td>\n      <td>84000000</td>\n    </tr>\n  </tbody>\n</table>\n</div>"
     },
     "metadata": {},
     "execution_count": 17
    }
   ],
   "source": [
    "# Alternatively, using the provided csv file:\n",
    "file_path = Path(\"Resources/crypto_data.csv\")\n",
    "# Creating a DataFrame\n",
    "crypto_df = pd.read_csv(file_path)\n",
    "crypto_df.set_index(\"Unnamed: 0\", inplace = True)\n",
    "crypto_df.index.name = None\n",
    "crypto_df.head(10)"
   ]
  },
  {
   "cell_type": "markdown",
   "metadata": {},
   "source": [
    "### Data Preprocessing"
   ]
  },
  {
   "cell_type": "code",
   "execution_count": 13,
   "metadata": {},
   "outputs": [
    {
     "output_type": "execute_result",
     "data": {
      "text/plain": [
       "  Unnamed: 0   CoinName Algorithm  IsTrading ProofType  TotalCoinsMined  \\\n",
       "0         42    42 Coin    Scrypt       True   PoW/PoS     4.199995e+01   \n",
       "1        365    365Coin       X11       True   PoW/PoS              NaN   \n",
       "2        404    404Coin    Scrypt       True   PoW/PoS     1.055185e+09   \n",
       "3        611  SixEleven   SHA-256       True       PoW              NaN   \n",
       "4        808        808   SHA-256       True   PoW/PoS     0.000000e+00   \n",
       "\n",
       "  TotalCoinSupply  \n",
       "0              42  \n",
       "1      2300000000  \n",
       "2       532000000  \n",
       "3          611000  \n",
       "4               0  "
      ],
      "text/html": "<div>\n<style scoped>\n    .dataframe tbody tr th:only-of-type {\n        vertical-align: middle;\n    }\n\n    .dataframe tbody tr th {\n        vertical-align: top;\n    }\n\n    .dataframe thead th {\n        text-align: right;\n    }\n</style>\n<table border=\"1\" class=\"dataframe\">\n  <thead>\n    <tr style=\"text-align: right;\">\n      <th></th>\n      <th>Unnamed: 0</th>\n      <th>CoinName</th>\n      <th>Algorithm</th>\n      <th>IsTrading</th>\n      <th>ProofType</th>\n      <th>TotalCoinsMined</th>\n      <th>TotalCoinSupply</th>\n    </tr>\n  </thead>\n  <tbody>\n    <tr>\n      <th>0</th>\n      <td>42</td>\n      <td>42 Coin</td>\n      <td>Scrypt</td>\n      <td>True</td>\n      <td>PoW/PoS</td>\n      <td>4.199995e+01</td>\n      <td>42</td>\n    </tr>\n    <tr>\n      <th>1</th>\n      <td>365</td>\n      <td>365Coin</td>\n      <td>X11</td>\n      <td>True</td>\n      <td>PoW/PoS</td>\n      <td>NaN</td>\n      <td>2300000000</td>\n    </tr>\n    <tr>\n      <th>2</th>\n      <td>404</td>\n      <td>404Coin</td>\n      <td>Scrypt</td>\n      <td>True</td>\n      <td>PoW/PoS</td>\n      <td>1.055185e+09</td>\n      <td>532000000</td>\n    </tr>\n    <tr>\n      <th>3</th>\n      <td>611</td>\n      <td>SixEleven</td>\n      <td>SHA-256</td>\n      <td>True</td>\n      <td>PoW</td>\n      <td>NaN</td>\n      <td>611000</td>\n    </tr>\n    <tr>\n      <th>4</th>\n      <td>808</td>\n      <td>808</td>\n      <td>SHA-256</td>\n      <td>True</td>\n      <td>PoW/PoS</td>\n      <td>0.000000e+00</td>\n      <td>0</td>\n    </tr>\n  </tbody>\n</table>\n</div>"
     },
     "metadata": {},
     "execution_count": 13
    }
   ],
   "source": [
    "# Keeping only necessary columns:\n",
    "'CoinName','Algorithm','IsTrading','ProofType','TotalCoinsMined','TotalCoinSupply'\n",
    "crypto_df.set_index(\"Unnamed: 0\", drop=True, inplace=False)\n",
    "#crypto_df = crypto_df.drop([\"Unnamed: 0\"], axis=1)\n",
    "crypto_df.head()"
   ]
  },
  {
   "cell_type": "code",
   "execution_count": 19,
   "metadata": {},
   "outputs": [
    {
     "output_type": "execute_result",
     "data": {
      "text/plain": [
       "      CoinName Algorithm  IsTrading ProofType  TotalCoinsMined TotalCoinSupply\n",
       "42     42 Coin    Scrypt       True   PoW/PoS     4.199995e+01              42\n",
       "365    365Coin       X11       True   PoW/PoS              NaN      2300000000\n",
       "404    404Coin    Scrypt       True   PoW/PoS     1.055185e+09       532000000\n",
       "611  SixEleven   SHA-256       True       PoW              NaN          611000\n",
       "808        808   SHA-256       True   PoW/PoS     0.000000e+00               0"
      ],
      "text/html": "<div>\n<style scoped>\n    .dataframe tbody tr th:only-of-type {\n        vertical-align: middle;\n    }\n\n    .dataframe tbody tr th {\n        vertical-align: top;\n    }\n\n    .dataframe thead th {\n        text-align: right;\n    }\n</style>\n<table border=\"1\" class=\"dataframe\">\n  <thead>\n    <tr style=\"text-align: right;\">\n      <th></th>\n      <th>CoinName</th>\n      <th>Algorithm</th>\n      <th>IsTrading</th>\n      <th>ProofType</th>\n      <th>TotalCoinsMined</th>\n      <th>TotalCoinSupply</th>\n    </tr>\n  </thead>\n  <tbody>\n    <tr>\n      <th>42</th>\n      <td>42 Coin</td>\n      <td>Scrypt</td>\n      <td>True</td>\n      <td>PoW/PoS</td>\n      <td>4.199995e+01</td>\n      <td>42</td>\n    </tr>\n    <tr>\n      <th>365</th>\n      <td>365Coin</td>\n      <td>X11</td>\n      <td>True</td>\n      <td>PoW/PoS</td>\n      <td>NaN</td>\n      <td>2300000000</td>\n    </tr>\n    <tr>\n      <th>404</th>\n      <td>404Coin</td>\n      <td>Scrypt</td>\n      <td>True</td>\n      <td>PoW/PoS</td>\n      <td>1.055185e+09</td>\n      <td>532000000</td>\n    </tr>\n    <tr>\n      <th>611</th>\n      <td>SixEleven</td>\n      <td>SHA-256</td>\n      <td>True</td>\n      <td>PoW</td>\n      <td>NaN</td>\n      <td>611000</td>\n    </tr>\n    <tr>\n      <th>808</th>\n      <td>808</td>\n      <td>SHA-256</td>\n      <td>True</td>\n      <td>PoW/PoS</td>\n      <td>0.000000e+00</td>\n      <td>0</td>\n    </tr>\n  </tbody>\n</table>\n</div>"
     },
     "metadata": {},
     "execution_count": 19
    }
   ],
   "source": [
    "# Keeping only cryptocurrencies that are trading\n",
    "crypto_df = crypto_df[crypto_df[\"IsTrading\"] == True]\n",
    "crypto_df.head()\n",
    "#crypto_df.drop(crypto_df[crypto_df['IsTrading'] ==True].index, inplace = True)\n",
    "#crypto_df.head (100)"
   ]
  },
  {
   "cell_type": "code",
   "execution_count": 20,
   "metadata": {},
   "outputs": [
    {
     "output_type": "execute_result",
     "data": {
      "text/plain": [
       "False"
      ]
     },
     "metadata": {},
     "execution_count": 20
    }
   ],
   "source": [
    "# Keeping only cryptocurrencies with a working algorithm\n",
    "crypto_df['Algorithm'].isnull().values.any()"
   ]
  },
  {
   "cell_type": "code",
   "execution_count": 21,
   "metadata": {},
   "outputs": [
    {
     "output_type": "execute_result",
     "data": {
      "text/plain": [
       "      CoinName Algorithm ProofType  TotalCoinsMined TotalCoinSupply\n",
       "42     42 Coin    Scrypt   PoW/PoS     4.199995e+01              42\n",
       "365    365Coin       X11   PoW/PoS              NaN      2300000000\n",
       "404    404Coin    Scrypt   PoW/PoS     1.055185e+09       532000000\n",
       "611  SixEleven   SHA-256       PoW              NaN          611000\n",
       "808        808   SHA-256   PoW/PoS     0.000000e+00               0"
      ],
      "text/html": "<div>\n<style scoped>\n    .dataframe tbody tr th:only-of-type {\n        vertical-align: middle;\n    }\n\n    .dataframe tbody tr th {\n        vertical-align: top;\n    }\n\n    .dataframe thead th {\n        text-align: right;\n    }\n</style>\n<table border=\"1\" class=\"dataframe\">\n  <thead>\n    <tr style=\"text-align: right;\">\n      <th></th>\n      <th>CoinName</th>\n      <th>Algorithm</th>\n      <th>ProofType</th>\n      <th>TotalCoinsMined</th>\n      <th>TotalCoinSupply</th>\n    </tr>\n  </thead>\n  <tbody>\n    <tr>\n      <th>42</th>\n      <td>42 Coin</td>\n      <td>Scrypt</td>\n      <td>PoW/PoS</td>\n      <td>4.199995e+01</td>\n      <td>42</td>\n    </tr>\n    <tr>\n      <th>365</th>\n      <td>365Coin</td>\n      <td>X11</td>\n      <td>PoW/PoS</td>\n      <td>NaN</td>\n      <td>2300000000</td>\n    </tr>\n    <tr>\n      <th>404</th>\n      <td>404Coin</td>\n      <td>Scrypt</td>\n      <td>PoW/PoS</td>\n      <td>1.055185e+09</td>\n      <td>532000000</td>\n    </tr>\n    <tr>\n      <th>611</th>\n      <td>SixEleven</td>\n      <td>SHA-256</td>\n      <td>PoW</td>\n      <td>NaN</td>\n      <td>611000</td>\n    </tr>\n    <tr>\n      <th>808</th>\n      <td>808</td>\n      <td>SHA-256</td>\n      <td>PoW/PoS</td>\n      <td>0.000000e+00</td>\n      <td>0</td>\n    </tr>\n  </tbody>\n</table>\n</div>"
     },
     "metadata": {},
     "execution_count": 21
    }
   ],
   "source": [
    "# Removing the \"IsTrading\" column\n",
    "crypto_df.drop(['IsTrading'], axis=1, inplace=True)\n",
    "crypto_df.head()"
   ]
  },
  {
   "cell_type": "code",
   "execution_count": 23,
   "metadata": {},
   "outputs": [
    {
     "output_type": "stream",
     "name": "stdout",
     "text": [
      "Column CoinName has 0 null values\nColumn Algorithm has 0 null values\nColumn ProofType has 0 null values\nColumn TotalCoinsMined has 459 null values\nColumn TotalCoinSupply has 0 null values\n"
     ]
    }
   ],
   "source": [
    "# Removing rows with at least 1 null value\n",
    "    # Finding null values\n",
    "for column in crypto_df.columns:\n",
    "    print(f\"Column {column} has {crypto_df[column].isnull().sum()} null values\")"
   ]
  },
  {
   "cell_type": "code",
   "execution_count": 24,
   "metadata": {},
   "outputs": [
    {
     "output_type": "execute_result",
     "data": {
      "text/plain": [
       "       CoinName Algorithm ProofType  TotalCoinsMined TotalCoinSupply\n",
       "42      42 Coin    Scrypt   PoW/PoS     4.199995e+01              42\n",
       "404     404Coin    Scrypt   PoW/PoS     1.055185e+09       532000000\n",
       "808         808   SHA-256   PoW/PoS     0.000000e+00               0\n",
       "1337  EliteCoin       X13   PoW/PoS     2.927942e+10    314159265359\n",
       "BTC     Bitcoin   SHA-256       PoW     1.792718e+07        21000000"
      ],
      "text/html": "<div>\n<style scoped>\n    .dataframe tbody tr th:only-of-type {\n        vertical-align: middle;\n    }\n\n    .dataframe tbody tr th {\n        vertical-align: top;\n    }\n\n    .dataframe thead th {\n        text-align: right;\n    }\n</style>\n<table border=\"1\" class=\"dataframe\">\n  <thead>\n    <tr style=\"text-align: right;\">\n      <th></th>\n      <th>CoinName</th>\n      <th>Algorithm</th>\n      <th>ProofType</th>\n      <th>TotalCoinsMined</th>\n      <th>TotalCoinSupply</th>\n    </tr>\n  </thead>\n  <tbody>\n    <tr>\n      <th>42</th>\n      <td>42 Coin</td>\n      <td>Scrypt</td>\n      <td>PoW/PoS</td>\n      <td>4.199995e+01</td>\n      <td>42</td>\n    </tr>\n    <tr>\n      <th>404</th>\n      <td>404Coin</td>\n      <td>Scrypt</td>\n      <td>PoW/PoS</td>\n      <td>1.055185e+09</td>\n      <td>532000000</td>\n    </tr>\n    <tr>\n      <th>808</th>\n      <td>808</td>\n      <td>SHA-256</td>\n      <td>PoW/PoS</td>\n      <td>0.000000e+00</td>\n      <td>0</td>\n    </tr>\n    <tr>\n      <th>1337</th>\n      <td>EliteCoin</td>\n      <td>X13</td>\n      <td>PoW/PoS</td>\n      <td>2.927942e+10</td>\n      <td>314159265359</td>\n    </tr>\n    <tr>\n      <th>BTC</th>\n      <td>Bitcoin</td>\n      <td>SHA-256</td>\n      <td>PoW</td>\n      <td>1.792718e+07</td>\n      <td>21000000</td>\n    </tr>\n  </tbody>\n</table>\n</div>"
     },
     "metadata": {},
     "execution_count": 24
    }
   ],
   "source": [
    "# Removing rows with at least 1 null value, # Dropping rows where there are 'N/A' text values\n",
    "crypto_df.dropna(inplace=True)\n",
    "crypto_df.head()"
   ]
  },
  {
   "cell_type": "code",
   "execution_count": 25,
   "metadata": {},
   "outputs": [
    {
     "output_type": "execute_result",
     "data": {
      "text/plain": [
       "       CoinName Algorithm ProofType  TotalCoinsMined TotalCoinSupply\n",
       "42      42 Coin    Scrypt   PoW/PoS     4.199995e+01              42\n",
       "404     404Coin    Scrypt   PoW/PoS     1.055185e+09       532000000\n",
       "1337  EliteCoin       X13   PoW/PoS     2.927942e+10    314159265359\n",
       "BTC     Bitcoin   SHA-256       PoW     1.792718e+07        21000000\n",
       "ETH    Ethereum    Ethash       PoW     1.076842e+08               0"
      ],
      "text/html": "<div>\n<style scoped>\n    .dataframe tbody tr th:only-of-type {\n        vertical-align: middle;\n    }\n\n    .dataframe tbody tr th {\n        vertical-align: top;\n    }\n\n    .dataframe thead th {\n        text-align: right;\n    }\n</style>\n<table border=\"1\" class=\"dataframe\">\n  <thead>\n    <tr style=\"text-align: right;\">\n      <th></th>\n      <th>CoinName</th>\n      <th>Algorithm</th>\n      <th>ProofType</th>\n      <th>TotalCoinsMined</th>\n      <th>TotalCoinSupply</th>\n    </tr>\n  </thead>\n  <tbody>\n    <tr>\n      <th>42</th>\n      <td>42 Coin</td>\n      <td>Scrypt</td>\n      <td>PoW/PoS</td>\n      <td>4.199995e+01</td>\n      <td>42</td>\n    </tr>\n    <tr>\n      <th>404</th>\n      <td>404Coin</td>\n      <td>Scrypt</td>\n      <td>PoW/PoS</td>\n      <td>1.055185e+09</td>\n      <td>532000000</td>\n    </tr>\n    <tr>\n      <th>1337</th>\n      <td>EliteCoin</td>\n      <td>X13</td>\n      <td>PoW/PoS</td>\n      <td>2.927942e+10</td>\n      <td>314159265359</td>\n    </tr>\n    <tr>\n      <th>BTC</th>\n      <td>Bitcoin</td>\n      <td>SHA-256</td>\n      <td>PoW</td>\n      <td>1.792718e+07</td>\n      <td>21000000</td>\n    </tr>\n    <tr>\n      <th>ETH</th>\n      <td>Ethereum</td>\n      <td>Ethash</td>\n      <td>PoW</td>\n      <td>1.076842e+08</td>\n      <td>0</td>\n    </tr>\n  </tbody>\n</table>\n</div>"
     },
     "metadata": {},
     "execution_count": 25
    }
   ],
   "source": [
    "# Removing rows with cryptocurrencies having no coins mined\n",
    "crypto_df = crypto_df[crypto_df[\"TotalCoinsMined\"] > 0]\n",
    "crypto_df.head()"
   ]
  },
  {
   "cell_type": "code",
   "execution_count": 26,
   "metadata": {},
   "outputs": [
    {
     "output_type": "execute_result",
     "data": {
      "text/plain": [
       "       CoinName\n",
       "42      42 Coin\n",
       "404     404Coin\n",
       "1337  EliteCoin\n",
       "BTC     Bitcoin\n",
       "ETH    Ethereum"
      ],
      "text/html": "<div>\n<style scoped>\n    .dataframe tbody tr th:only-of-type {\n        vertical-align: middle;\n    }\n\n    .dataframe tbody tr th {\n        vertical-align: top;\n    }\n\n    .dataframe thead th {\n        text-align: right;\n    }\n</style>\n<table border=\"1\" class=\"dataframe\">\n  <thead>\n    <tr style=\"text-align: right;\">\n      <th></th>\n      <th>CoinName</th>\n    </tr>\n  </thead>\n  <tbody>\n    <tr>\n      <th>42</th>\n      <td>42 Coin</td>\n    </tr>\n    <tr>\n      <th>404</th>\n      <td>404Coin</td>\n    </tr>\n    <tr>\n      <th>1337</th>\n      <td>EliteCoin</td>\n    </tr>\n    <tr>\n      <th>BTC</th>\n      <td>Bitcoin</td>\n    </tr>\n    <tr>\n      <th>ETH</th>\n      <td>Ethereum</td>\n    </tr>\n  </tbody>\n</table>\n</div>"
     },
     "metadata": {},
     "execution_count": 26
    }
   ],
   "source": [
    "# Storing the 'CoinName'column in its own DataFrame prior to dropping it from crypto_df\n",
    "coins_name = crypto_df[[\"CoinName\"]]\n",
    "coins_name.head()"
   ]
  },
  {
   "cell_type": "code",
   "execution_count": 30,
   "metadata": {},
   "outputs": [
    {
     "output_type": "execute_result",
     "data": {
      "text/plain": [
       "     Algorithm ProofType  TotalCoinsMined TotalCoinSupply\n",
       "42      Scrypt   PoW/PoS     4.199995e+01              42\n",
       "404     Scrypt   PoW/PoS     1.055185e+09       532000000\n",
       "1337       X13   PoW/PoS     2.927942e+10    314159265359\n",
       "BTC    SHA-256       PoW     1.792718e+07        21000000\n",
       "ETH     Ethash       PoW     1.076842e+08               0"
      ],
      "text/html": "<div>\n<style scoped>\n    .dataframe tbody tr th:only-of-type {\n        vertical-align: middle;\n    }\n\n    .dataframe tbody tr th {\n        vertical-align: top;\n    }\n\n    .dataframe thead th {\n        text-align: right;\n    }\n</style>\n<table border=\"1\" class=\"dataframe\">\n  <thead>\n    <tr style=\"text-align: right;\">\n      <th></th>\n      <th>Algorithm</th>\n      <th>ProofType</th>\n      <th>TotalCoinsMined</th>\n      <th>TotalCoinSupply</th>\n    </tr>\n  </thead>\n  <tbody>\n    <tr>\n      <th>42</th>\n      <td>Scrypt</td>\n      <td>PoW/PoS</td>\n      <td>4.199995e+01</td>\n      <td>42</td>\n    </tr>\n    <tr>\n      <th>404</th>\n      <td>Scrypt</td>\n      <td>PoW/PoS</td>\n      <td>1.055185e+09</td>\n      <td>532000000</td>\n    </tr>\n    <tr>\n      <th>1337</th>\n      <td>X13</td>\n      <td>PoW/PoS</td>\n      <td>2.927942e+10</td>\n      <td>314159265359</td>\n    </tr>\n    <tr>\n      <th>BTC</th>\n      <td>SHA-256</td>\n      <td>PoW</td>\n      <td>1.792718e+07</td>\n      <td>21000000</td>\n    </tr>\n    <tr>\n      <th>ETH</th>\n      <td>Ethash</td>\n      <td>PoW</td>\n      <td>1.076842e+08</td>\n      <td>0</td>\n    </tr>\n  </tbody>\n</table>\n</div>"
     },
     "metadata": {},
     "execution_count": 30
    }
   ],
   "source": [
    "# Dropping the 'CoinName' column since it's not going to be used on the clustering algorithm\n",
    "crypto_df.drop(\"CoinName\", axis=1, inplace=True)\n",
    "crypto_df.head()"
   ]
  },
  {
   "cell_type": "code",
   "execution_count": 37,
   "metadata": {},
   "outputs": [
    {
     "output_type": "execute_result",
     "data": {
      "text/plain": [
       "      Algorithm  ProofType  TotalCoinsMined TotalCoinSupply\n",
       "42           52         15     4.199995e+01              42\n",
       "404          52         15     1.055185e+09       532000000\n",
       "1337         66         15     2.927942e+10    314159265359\n",
       "BTC          47         12     1.792718e+07        21000000\n",
       "ETH          20         12     1.076842e+08               0"
      ],
      "text/html": "<div>\n<style scoped>\n    .dataframe tbody tr th:only-of-type {\n        vertical-align: middle;\n    }\n\n    .dataframe tbody tr th {\n        vertical-align: top;\n    }\n\n    .dataframe thead th {\n        text-align: right;\n    }\n</style>\n<table border=\"1\" class=\"dataframe\">\n  <thead>\n    <tr style=\"text-align: right;\">\n      <th></th>\n      <th>Algorithm</th>\n      <th>ProofType</th>\n      <th>TotalCoinsMined</th>\n      <th>TotalCoinSupply</th>\n    </tr>\n  </thead>\n  <tbody>\n    <tr>\n      <th>42</th>\n      <td>52</td>\n      <td>15</td>\n      <td>4.199995e+01</td>\n      <td>42</td>\n    </tr>\n    <tr>\n      <th>404</th>\n      <td>52</td>\n      <td>15</td>\n      <td>1.055185e+09</td>\n      <td>532000000</td>\n    </tr>\n    <tr>\n      <th>1337</th>\n      <td>66</td>\n      <td>15</td>\n      <td>2.927942e+10</td>\n      <td>314159265359</td>\n    </tr>\n    <tr>\n      <th>BTC</th>\n      <td>47</td>\n      <td>12</td>\n      <td>1.792718e+07</td>\n      <td>21000000</td>\n    </tr>\n    <tr>\n      <th>ETH</th>\n      <td>20</td>\n      <td>12</td>\n      <td>1.076842e+08</td>\n      <td>0</td>\n    </tr>\n  </tbody>\n</table>\n</div>"
     },
     "metadata": {},
     "execution_count": 37
    }
   ],
   "source": [
    "# Creating dummy variables for text features\n",
    "LE = LabelEncoder()\n",
    "X = crypto_df.copy()\n",
    "X['Algorithm'] = LE.fit_transform(X['Algorithm']) \n",
    "X['ProofType'] = LE.fit_transform(X['ProofType']) \n",
    "X.head()"
   ]
  },
  {
   "cell_type": "code",
   "execution_count": 38,
   "metadata": {},
   "outputs": [
    {
     "output_type": "stream",
     "name": "stdout",
     "text": [
      "[[ 3.76459118e-01  8.91356555e-01 -1.17108170e-01 -1.52870298e-01]\n [ 3.76459118e-01  8.91356555e-01 -9.39695522e-02 -1.45008997e-01]\n [ 1.21543803e+00  8.91356555e-01  5.24945609e-01  4.48942416e+00]\n [ 7.68237937e-02  1.67233875e-03 -1.16715055e-01 -1.52559984e-01]\n [-1.54120696e+00  1.67233875e-03 -1.14746818e-01 -1.52870298e-01]]\n"
     ]
    }
   ],
   "source": [
    "# Standardizing data\n",
    "X_scaled = StandardScaler().fit_transform(X)\n",
    "print(X_scaled[0:5])"
   ]
  },
  {
   "cell_type": "markdown",
   "metadata": {},
   "source": [
    "### Reducing Dimensions Using PCA"
   ]
  },
  {
   "cell_type": "code",
   "execution_count": 39,
   "metadata": {},
   "outputs": [],
   "source": [
    "# Using PCA to reduce dimensions to 3 principal components\n",
    "    # Initializing PCS model\n",
    "pca = PCA(n_components=3)"
   ]
  },
  {
   "cell_type": "code",
   "execution_count": 41,
   "metadata": {},
   "outputs": [
    {
     "output_type": "execute_result",
     "data": {
      "text/plain": [
       "          PC 1      PC 2      PC 3\n",
       "42   -0.417875  0.810296  0.372138\n",
       "404  -0.396564  0.815135  0.373256\n",
       "1337  3.124076  2.209780  0.504335\n",
       "BTC  -0.192083  0.016266 -0.072910\n",
       "ETH  -0.044116 -1.167492  1.012525\n",
       "LTC  -0.217954  0.235824 -0.273789\n",
       "DASH -0.482771  1.336609 -0.110253\n",
       "XMR  -0.001979 -1.518631  1.334156\n",
       "ETC  -0.041907 -1.167016  1.012991\n",
       "ZEC  -0.034542 -1.255502  1.092984"
      ],
      "text/html": "<div>\n<style scoped>\n    .dataframe tbody tr th:only-of-type {\n        vertical-align: middle;\n    }\n\n    .dataframe tbody tr th {\n        vertical-align: top;\n    }\n\n    .dataframe thead th {\n        text-align: right;\n    }\n</style>\n<table border=\"1\" class=\"dataframe\">\n  <thead>\n    <tr style=\"text-align: right;\">\n      <th></th>\n      <th>PC 1</th>\n      <th>PC 2</th>\n      <th>PC 3</th>\n    </tr>\n  </thead>\n  <tbody>\n    <tr>\n      <th>42</th>\n      <td>-0.417875</td>\n      <td>0.810296</td>\n      <td>0.372138</td>\n    </tr>\n    <tr>\n      <th>404</th>\n      <td>-0.396564</td>\n      <td>0.815135</td>\n      <td>0.373256</td>\n    </tr>\n    <tr>\n      <th>1337</th>\n      <td>3.124076</td>\n      <td>2.209780</td>\n      <td>0.504335</td>\n    </tr>\n    <tr>\n      <th>BTC</th>\n      <td>-0.192083</td>\n      <td>0.016266</td>\n      <td>-0.072910</td>\n    </tr>\n    <tr>\n      <th>ETH</th>\n      <td>-0.044116</td>\n      <td>-1.167492</td>\n      <td>1.012525</td>\n    </tr>\n    <tr>\n      <th>LTC</th>\n      <td>-0.217954</td>\n      <td>0.235824</td>\n      <td>-0.273789</td>\n    </tr>\n    <tr>\n      <th>DASH</th>\n      <td>-0.482771</td>\n      <td>1.336609</td>\n      <td>-0.110253</td>\n    </tr>\n    <tr>\n      <th>XMR</th>\n      <td>-0.001979</td>\n      <td>-1.518631</td>\n      <td>1.334156</td>\n    </tr>\n    <tr>\n      <th>ETC</th>\n      <td>-0.041907</td>\n      <td>-1.167016</td>\n      <td>1.012991</td>\n    </tr>\n    <tr>\n      <th>ZEC</th>\n      <td>-0.034542</td>\n      <td>-1.255502</td>\n      <td>1.092984</td>\n    </tr>\n  </tbody>\n</table>\n</div>"
     },
     "metadata": {},
     "execution_count": 41
    }
   ],
   "source": [
    "# Creating a DataFrame with the principal components data\n",
    "    # Getting two principal components for the data.\n",
    "X_pca = pca.fit_transform(X_scaled)\n",
    "pcs_df = pd.DataFrame(data= X_pca, index=X.index, columns = [\"PC 1\", \"PC 2\",\"PC 3\"])\n",
    "pcs_df.head(10)"
   ]
  },
  {
   "cell_type": "code",
   "execution_count": 42,
   "metadata": {},
   "outputs": [
    {
     "output_type": "execute_result",
     "data": {
      "text/plain": [
       "array([0.4350467 , 0.28670411, 0.20538956])"
      ]
     },
     "metadata": {},
     "execution_count": 42
    }
   ],
   "source": [
    "# Fetching the explained variance\n",
    "pca.explained_variance_ratio_"
   ]
  },
  {
   "source": [
    "### Sample Conclusions\n",
    "#Defining three principal components, we have 0.93% of the information in the original dataset, so we can conclude that using three principal components is a better approach to reduce the dimensions in this case."
   ],
   "cell_type": "markdown",
   "metadata": {}
  },
  {
   "cell_type": "markdown",
   "metadata": {},
   "source": [
    "### Clustering Crytocurrencies Using K-Means\n",
    "\n",
    "#### Finding the Best Value for `k` Using the Elbow Curve"
   ]
  },
  {
   "cell_type": "code",
   "execution_count": 44,
   "metadata": {},
   "outputs": [
    {
     "output_type": "display_data",
     "data": {},
     "metadata": {}
    },
    {
     "output_type": "execute_result",
     "data": {
      "text/html": "<div id='1001'>\n\n\n\n\n\n  <div class=\"bk-root\" id=\"e8f9169b-3d9f-45e1-84c2-7bd456903f5d\" data-root-id=\"1001\"></div>\n</div>\n<script type=\"application/javascript\">(function(root) {\n  function embed_document(root) {\n    var docs_json = {\"a4e27d0e-94b4-405c-8d98-58f135815478\":{\"roots\":{\"references\":[{\"attributes\":{},\"id\":\"1013\",\"type\":\"LinearScale\"},{\"attributes\":{},\"id\":\"1025\",\"type\":\"WheelZoomTool\"},{\"attributes\":{\"margin\":[5,5,5,5],\"name\":\"HSpacer01539\",\"sizing_mode\":\"stretch_width\"},\"id\":\"1065\",\"type\":\"Spacer\"},{\"attributes\":{\"axis_label\":\"inertia\",\"bounds\":\"auto\",\"formatter\":{\"id\":\"1050\"},\"major_label_orientation\":\"horizontal\",\"ticker\":{\"id\":\"1020\"}},\"id\":\"1019\",\"type\":\"LinearAxis\"},{\"attributes\":{},\"id\":\"1024\",\"type\":\"PanTool\"},{\"attributes\":{},\"id\":\"1050\",\"type\":\"BasicTickFormatter\"},{\"attributes\":{\"axis\":{\"id\":\"1015\"},\"grid_line_color\":null,\"ticker\":null},\"id\":\"1018\",\"type\":\"Grid\"},{\"attributes\":{\"end\":10.0,\"reset_end\":10.0,\"reset_start\":1.0,\"start\":1.0,\"tags\":[[[\"k\",\"k\",null]]]},\"id\":\"1003\",\"type\":\"Range1d\"},{\"attributes\":{},\"id\":\"1046\",\"type\":\"BasicTickFormatter\"},{\"attributes\":{},\"id\":\"1057\",\"type\":\"UnionRenderers\"},{\"attributes\":{\"end\":2152.5043407902754,\"reset_end\":2152.5043407902754,\"reset_start\":-2.0909915771286762,\"start\":-2.0909915771286762,\"tags\":[[[\"inertia\",\"inertia\",null]]]},\"id\":\"1004\",\"type\":\"Range1d\"},{\"attributes\":{\"ticks\":[1,2,3,4,5,6,7,8,9,10]},\"id\":\"1044\",\"type\":\"FixedTicker\"},{\"attributes\":{\"line_alpha\":0.1,\"line_color\":\"#1f77b3\",\"line_width\":2,\"x\":{\"field\":\"k\"},\"y\":{\"field\":\"inertia\"}},\"id\":\"1040\",\"type\":\"Line\"},{\"attributes\":{},\"id\":\"1020\",\"type\":\"BasicTicker\"},{\"attributes\":{\"margin\":[5,5,5,5],\"name\":\"HSpacer01538\",\"sizing_mode\":\"stretch_width\"},\"id\":\"1002\",\"type\":\"Spacer\"},{\"attributes\":{\"axis\":{\"id\":\"1019\"},\"dimension\":1,\"grid_line_color\":null,\"ticker\":null},\"id\":\"1022\",\"type\":\"Grid\"},{\"attributes\":{\"text\":\"Elbow Curve\",\"text_color\":{\"value\":\"black\"},\"text_font_size\":{\"value\":\"12pt\"}},\"id\":\"1007\",\"type\":\"Title\"},{\"attributes\":{\"callback\":null,\"renderers\":[{\"id\":\"1042\"}],\"tags\":[\"hv_created\"],\"tooltips\":[[\"k\",\"@{k}\"],[\"inertia\",\"@{inertia}\"]]},\"id\":\"1005\",\"type\":\"HoverTool\"},{\"attributes\":{\"below\":[{\"id\":\"1015\"}],\"center\":[{\"id\":\"1018\"},{\"id\":\"1022\"}],\"left\":[{\"id\":\"1019\"}],\"margin\":[5,5,5,5],\"min_border_bottom\":10,\"min_border_left\":10,\"min_border_right\":10,\"min_border_top\":10,\"plot_height\":300,\"plot_width\":700,\"renderers\":[{\"id\":\"1042\"}],\"sizing_mode\":\"fixed\",\"title\":{\"id\":\"1007\"},\"toolbar\":{\"id\":\"1029\"},\"x_range\":{\"id\":\"1003\"},\"x_scale\":{\"id\":\"1011\"},\"y_range\":{\"id\":\"1004\"},\"y_scale\":{\"id\":\"1013\"}},\"id\":\"1006\",\"subtype\":\"Figure\",\"type\":\"Plot\"},{\"attributes\":{\"data_source\":{\"id\":\"1036\"},\"glyph\":{\"id\":\"1039\"},\"hover_glyph\":null,\"muted_glyph\":{\"id\":\"1041\"},\"nonselection_glyph\":{\"id\":\"1040\"},\"selection_glyph\":null,\"view\":{\"id\":\"1043\"}},\"id\":\"1042\",\"type\":\"GlyphRenderer\"},{\"attributes\":{\"data\":{\"inertia\":{\"__ndarray__\":\"AZmtpNHTnkB86/QhbDmUQAPjqAAzgIpAnTfxKHrpgUCgrZm3n2N6QFGOm8I7x3VAU98t2v5vckDf4w9CPuNvQP/HLoJPb2lAV0G0Aq0uZkA=\",\"dtype\":\"float64\",\"order\":\"little\",\"shape\":[10]},\"k\":[1,2,3,4,5,6,7,8,9,10]},\"selected\":{\"id\":\"1037\"},\"selection_policy\":{\"id\":\"1057\"}},\"id\":\"1036\",\"type\":\"ColumnDataSource\"},{\"attributes\":{\"source\":{\"id\":\"1036\"}},\"id\":\"1043\",\"type\":\"CDSView\"},{\"attributes\":{},\"id\":\"1037\",\"type\":\"Selection\"},{\"attributes\":{\"line_alpha\":0.2,\"line_color\":\"#1f77b3\",\"line_width\":2,\"x\":{\"field\":\"k\"},\"y\":{\"field\":\"inertia\"}},\"id\":\"1041\",\"type\":\"Line\"},{\"attributes\":{\"line_color\":\"#1f77b3\",\"line_width\":2,\"x\":{\"field\":\"k\"},\"y\":{\"field\":\"inertia\"}},\"id\":\"1039\",\"type\":\"Line\"},{\"attributes\":{\"active_drag\":\"auto\",\"active_inspect\":\"auto\",\"active_multi\":null,\"active_scroll\":\"auto\",\"active_tap\":\"auto\",\"tools\":[{\"id\":\"1005\"},{\"id\":\"1023\"},{\"id\":\"1024\"},{\"id\":\"1025\"},{\"id\":\"1026\"},{\"id\":\"1027\"}]},\"id\":\"1029\",\"type\":\"Toolbar\"},{\"attributes\":{},\"id\":\"1023\",\"type\":\"SaveTool\"},{\"attributes\":{},\"id\":\"1027\",\"type\":\"ResetTool\"},{\"attributes\":{\"children\":[{\"id\":\"1002\"},{\"id\":\"1006\"},{\"id\":\"1065\"}],\"margin\":[0,0,0,0],\"name\":\"Row01534\",\"tags\":[\"embedded\"]},\"id\":\"1001\",\"type\":\"Row\"},{\"attributes\":{},\"id\":\"1011\",\"type\":\"LinearScale\"},{\"attributes\":{\"bottom_units\":\"screen\",\"fill_alpha\":0.5,\"fill_color\":\"lightgrey\",\"left_units\":\"screen\",\"level\":\"overlay\",\"line_alpha\":1.0,\"line_color\":\"black\",\"line_dash\":[4,4],\"line_width\":2,\"right_units\":\"screen\",\"top_units\":\"screen\"},\"id\":\"1028\",\"type\":\"BoxAnnotation\"},{\"attributes\":{\"axis_label\":\"k\",\"bounds\":\"auto\",\"formatter\":{\"id\":\"1046\"},\"major_label_orientation\":\"horizontal\",\"ticker\":{\"id\":\"1044\"}},\"id\":\"1015\",\"type\":\"LinearAxis\"},{\"attributes\":{\"overlay\":{\"id\":\"1028\"}},\"id\":\"1026\",\"type\":\"BoxZoomTool\"}],\"root_ids\":[\"1001\"]},\"title\":\"Bokeh Application\",\"version\":\"2.2.3\"}};\n    var render_items = [{\"docid\":\"a4e27d0e-94b4-405c-8d98-58f135815478\",\"root_ids\":[\"1001\"],\"roots\":{\"1001\":\"e8f9169b-3d9f-45e1-84c2-7bd456903f5d\"}}];\n    root.Bokeh.embed.embed_items_notebook(docs_json, render_items);\n  }\n  if (root.Bokeh !== undefined && root.Bokeh.Panel !== undefined) {\n    embed_document(root);\n  } else {\n    var attempts = 0;\n    var timer = setInterval(function(root) {\n      if (root.Bokeh !== undefined && root.Bokeh.Panel !== undefined) {\n        clearInterval(timer);\n        embed_document(root);\n      } else if (document.readyState == \"complete\") {\n        attempts++;\n        if (attempts > 100) {\n          clearInterval(timer);\n          console.log(\"Bokeh: ERROR: Unable to run BokehJS code because BokehJS library is missing\");\n        }\n      }\n    }, 10, root)\n  }\n})(window);</script>",
      "application/vnd.holoviews_exec.v0+json": "",
      "text/plain": [
       ":Curve   [k]   (inertia)"
      ]
     },
     "metadata": {
      "application/vnd.holoviews_exec.v0+json": {
       "id": "1001"
      }
     },
     "execution_count": 44
    }
   ],
   "source": [
    "inertia = []\n",
    "k = list(range(1, 11))\n",
    "\n",
    "# Calculating the inertia for the range of k values\n",
    "for i in k:\n",
    "   km = KMeans(n_clusters=i, random_state=0)\n",
    "   km.fit(pcs_df)\n",
    "   inertia.append(km.inertia_)\n",
    "\n",
    "# Creating the Elbow Curve using hvPlot\n",
    "elbow_data = {\"k\": k, \"inertia\": inertia}\n",
    "df_elbow = pd.DataFrame(elbow_data)\n",
    "df_elbow.hvplot.line(x=\"k\", y=\"inertia\", xticks=k, title=\"Elbow Curve\")"
   ]
  },
  {
   "cell_type": "markdown",
   "metadata": {},
   "source": [
    "Running K-Means with `k=<your best value for k here>`"
   ]
  },
  {
   "cell_type": "code",
   "execution_count": 48,
   "metadata": {},
   "outputs": [],
   "source": [
    "# Initializing the K-Means model\n",
    "def get_clusters(k, data):\n",
    "    # Initialize the K-Means model\n",
    "    model = KMeans(n_clusters=k, random_state=0)\n",
    "# Fitting the model\n",
    "    model.fit(data)\n",
    "# Predicting clusters\n",
    "    predictions = model.predict(data)\n",
    "# Creating a new DataFrame including predicted clusters and cryptocurrencies features\n",
    "    data[\"class\"] = model.labels_\n",
    "\n",
    "    return data"
   ]
  },
  {
   "cell_type": "code",
   "execution_count": 50,
   "metadata": {},
   "outputs": [
    {
     "output_type": "execute_result",
     "data": {
      "text/plain": [
       "          PC 1      PC 2      PC 3  class\n",
       "42   -0.417875  0.810296  0.372138      4\n",
       "404  -0.396564  0.815135  0.373256      4\n",
       "1337  3.124076  2.209780  0.504335      1\n",
       "BTC  -0.192083  0.016266 -0.072910      4\n",
       "ETH  -0.044116 -1.167492  1.012525      3"
      ],
      "text/html": "<div>\n<style scoped>\n    .dataframe tbody tr th:only-of-type {\n        vertical-align: middle;\n    }\n\n    .dataframe tbody tr th {\n        vertical-align: top;\n    }\n\n    .dataframe thead th {\n        text-align: right;\n    }\n</style>\n<table border=\"1\" class=\"dataframe\">\n  <thead>\n    <tr style=\"text-align: right;\">\n      <th></th>\n      <th>PC 1</th>\n      <th>PC 2</th>\n      <th>PC 3</th>\n      <th>class</th>\n    </tr>\n  </thead>\n  <tbody>\n    <tr>\n      <th>42</th>\n      <td>-0.417875</td>\n      <td>0.810296</td>\n      <td>0.372138</td>\n      <td>4</td>\n    </tr>\n    <tr>\n      <th>404</th>\n      <td>-0.396564</td>\n      <td>0.815135</td>\n      <td>0.373256</td>\n      <td>4</td>\n    </tr>\n    <tr>\n      <th>1337</th>\n      <td>3.124076</td>\n      <td>2.209780</td>\n      <td>0.504335</td>\n      <td>1</td>\n    </tr>\n    <tr>\n      <th>BTC</th>\n      <td>-0.192083</td>\n      <td>0.016266</td>\n      <td>-0.072910</td>\n      <td>4</td>\n    </tr>\n    <tr>\n      <th>ETH</th>\n      <td>-0.044116</td>\n      <td>-1.167492</td>\n      <td>1.012525</td>\n      <td>3</td>\n    </tr>\n  </tbody>\n</table>\n</div>"
     },
     "metadata": {},
     "execution_count": 50
    }
   ],
   "source": [
    "# Looking for clusters the first best value of k\n",
    "five_clusters = get_clusters(5, pcs_df)\n",
    "five_clusters.head()"
   ]
  },
  {
   "cell_type": "code",
   "execution_count": 72,
   "metadata": {},
   "outputs": [
    {
     "output_type": "execute_result",
     "data": {
      "text/plain": [
       "      Algorithm  ProofType  TotalCoinsMined TotalCoinSupply      PC 1  \\\n",
       "42           52         15     4.199995e+01              42 -0.417875   \n",
       "404          52         15     1.055185e+09       532000000 -0.396564   \n",
       "1337         66         15     2.927942e+10    314159265359  3.124076   \n",
       "BTC          47         12     1.792718e+07        21000000 -0.192083   \n",
       "ETH          20         12     1.076842e+08               0 -0.044116   \n",
       "LTC          52         12     6.303924e+07        84000000 -0.217954   \n",
       "DASH         64         15     9.031294e+06        22000000 -0.482771   \n",
       "XMR          12         12     1.720114e+07               0 -0.001979   \n",
       "ETC          20         12     1.133597e+08       210000000 -0.041907   \n",
       "ZEC          18         12     7.383056e+06        21000000 -0.034542   \n",
       "\n",
       "          PC 2      PC 3          CoinName  class  \n",
       "42    0.810296  0.372138           42 Coin      4  \n",
       "404   0.815135  0.373256           404Coin      4  \n",
       "1337  2.209780  0.504335         EliteCoin      1  \n",
       "BTC   0.016266 -0.072910           Bitcoin      4  \n",
       "ETH  -1.167492  1.012525          Ethereum      3  \n",
       "LTC   0.235824 -0.273789          Litecoin      4  \n",
       "DASH  1.336609 -0.110253              Dash      4  \n",
       "XMR  -1.518631  1.334156            Monero      3  \n",
       "ETC  -1.167016  1.012991  Ethereum Classic      3  \n",
       "ZEC  -1.255502  1.092984             ZCash      3  "
      ],
      "text/html": "<div>\n<style scoped>\n    .dataframe tbody tr th:only-of-type {\n        vertical-align: middle;\n    }\n\n    .dataframe tbody tr th {\n        vertical-align: top;\n    }\n\n    .dataframe thead th {\n        text-align: right;\n    }\n</style>\n<table border=\"1\" class=\"dataframe\">\n  <thead>\n    <tr style=\"text-align: right;\">\n      <th></th>\n      <th>Algorithm</th>\n      <th>ProofType</th>\n      <th>TotalCoinsMined</th>\n      <th>TotalCoinSupply</th>\n      <th>PC 1</th>\n      <th>PC 2</th>\n      <th>PC 3</th>\n      <th>CoinName</th>\n      <th>class</th>\n    </tr>\n  </thead>\n  <tbody>\n    <tr>\n      <th>42</th>\n      <td>52</td>\n      <td>15</td>\n      <td>4.199995e+01</td>\n      <td>42</td>\n      <td>-0.417875</td>\n      <td>0.810296</td>\n      <td>0.372138</td>\n      <td>42 Coin</td>\n      <td>4</td>\n    </tr>\n    <tr>\n      <th>404</th>\n      <td>52</td>\n      <td>15</td>\n      <td>1.055185e+09</td>\n      <td>532000000</td>\n      <td>-0.396564</td>\n      <td>0.815135</td>\n      <td>0.373256</td>\n      <td>404Coin</td>\n      <td>4</td>\n    </tr>\n    <tr>\n      <th>1337</th>\n      <td>66</td>\n      <td>15</td>\n      <td>2.927942e+10</td>\n      <td>314159265359</td>\n      <td>3.124076</td>\n      <td>2.209780</td>\n      <td>0.504335</td>\n      <td>EliteCoin</td>\n      <td>1</td>\n    </tr>\n    <tr>\n      <th>BTC</th>\n      <td>47</td>\n      <td>12</td>\n      <td>1.792718e+07</td>\n      <td>21000000</td>\n      <td>-0.192083</td>\n      <td>0.016266</td>\n      <td>-0.072910</td>\n      <td>Bitcoin</td>\n      <td>4</td>\n    </tr>\n    <tr>\n      <th>ETH</th>\n      <td>20</td>\n      <td>12</td>\n      <td>1.076842e+08</td>\n      <td>0</td>\n      <td>-0.044116</td>\n      <td>-1.167492</td>\n      <td>1.012525</td>\n      <td>Ethereum</td>\n      <td>3</td>\n    </tr>\n    <tr>\n      <th>LTC</th>\n      <td>52</td>\n      <td>12</td>\n      <td>6.303924e+07</td>\n      <td>84000000</td>\n      <td>-0.217954</td>\n      <td>0.235824</td>\n      <td>-0.273789</td>\n      <td>Litecoin</td>\n      <td>4</td>\n    </tr>\n    <tr>\n      <th>DASH</th>\n      <td>64</td>\n      <td>15</td>\n      <td>9.031294e+06</td>\n      <td>22000000</td>\n      <td>-0.482771</td>\n      <td>1.336609</td>\n      <td>-0.110253</td>\n      <td>Dash</td>\n      <td>4</td>\n    </tr>\n    <tr>\n      <th>XMR</th>\n      <td>12</td>\n      <td>12</td>\n      <td>1.720114e+07</td>\n      <td>0</td>\n      <td>-0.001979</td>\n      <td>-1.518631</td>\n      <td>1.334156</td>\n      <td>Monero</td>\n      <td>3</td>\n    </tr>\n    <tr>\n      <th>ETC</th>\n      <td>20</td>\n      <td>12</td>\n      <td>1.133597e+08</td>\n      <td>210000000</td>\n      <td>-0.041907</td>\n      <td>-1.167016</td>\n      <td>1.012991</td>\n      <td>Ethereum Classic</td>\n      <td>3</td>\n    </tr>\n    <tr>\n      <th>ZEC</th>\n      <td>18</td>\n      <td>12</td>\n      <td>7.383056e+06</td>\n      <td>21000000</td>\n      <td>-0.034542</td>\n      <td>-1.255502</td>\n      <td>1.092984</td>\n      <td>ZCash</td>\n      <td>3</td>\n    </tr>\n  </tbody>\n</table>\n</div>"
     },
     "metadata": {},
     "execution_count": 72
    }
   ],
   "source": [
    "# Creating a new DataFrame named clustered_df, that includes the following columns \"Algorithm\", \"ProofType\", \"TotalCoinsMined\", \"TotalCoinSupply\", \"PC 1\", \"PC 2\", \"PC 3\", \"CoinName\", \"Class\". You should maintain the index of the crypto_df DataFrames as is shown bellow.\n",
    "#clustered_df = coins_name.merge(five_clusters, how='outer', left_index=True, right_index=True)\n",
    "clustered_df = X.merge(five_clusters,how='outer', left_index=True, right_index=True)\n",
    "clustered_df['CoinName'] = coins_name.values\n",
    "reorder = ['Algorithm','ProofType','TotalCoinsMined','TotalCoinSupply','PC 1', 'PC 2', 'PC 3', 'CoinName', 'class']\n",
    "clustered_df = clustered_df.reindex(columns=reorder)\n",
    "clustered_df.head(10)"
   ]
  },
  {
   "cell_type": "markdown",
   "metadata": {},
   "source": [
    "### Visualizing Results\n",
    "\n",
    "#### 3D-Scatter with Clusters"
   ]
  },
  {
   "cell_type": "code",
   "execution_count": 74,
   "metadata": {},
   "outputs": [
    {
     "output_type": "display_data",
     "data": {
      "application/vnd.plotly.v1+json": {
       "config": {
        "plotlyServerURL": "https://plot.ly"
       },
       "data": [
        {
         "customdata": [
          [
           52
          ],
          [
           52
          ],
          [
           47
          ],
          [
           52
          ],
          [
           64
          ],
          [
           47
          ],
          [
           52
          ],
          [
           68
          ],
          [
           64
          ],
          [
           52
          ],
          [
           52
          ],
          [
           52
          ],
          [
           47
          ],
          [
           52
          ],
          [
           52
          ],
          [
           52
          ],
          [
           46
          ],
          [
           52
          ],
          [
           52
          ],
          [
           52
          ],
          [
           52
          ],
          [
           52
          ],
          [
           64
          ],
          [
           47
          ],
          [
           52
          ],
          [
           52
          ],
          [
           52
          ],
          [
           52
          ],
          [
           52
          ],
          [
           52
          ],
          [
           52
          ],
          [
           52
          ],
          [
           52
          ],
          [
           52
          ],
          [
           64
          ],
          [
           47
          ],
          [
           52
          ],
          [
           52
          ],
          [
           52
          ],
          [
           51
          ],
          [
           52
          ],
          [
           52
          ],
          [
           47
          ],
          [
           66
          ],
          [
           52
          ],
          [
           47
          ],
          [
           52
          ],
          [
           66
          ],
          [
           36
          ],
          [
           52
          ],
          [
           52
          ],
          [
           52
          ],
          [
           52
          ],
          [
           52
          ],
          [
           52
          ],
          [
           64
          ],
          [
           47
          ],
          [
           47
          ],
          [
           64
          ],
          [
           47
          ],
          [
           47
          ],
          [
           47
          ],
          [
           64
          ],
          [
           52
          ],
          [
           52
          ],
          [
           52
          ],
          [
           52
          ],
          [
           52
          ],
          [
           64
          ],
          [
           47
          ],
          [
           66
          ],
          [
           52
          ],
          [
           52
          ],
          [
           47
          ],
          [
           52
          ],
          [
           52
          ],
          [
           66
          ],
          [
           52
          ],
          [
           52
          ],
          [
           52
          ],
          [
           66
          ],
          [
           52
          ],
          [
           58
          ],
          [
           45
          ],
          [
           52
          ],
          [
           52
          ],
          [
           52
          ],
          [
           52
          ],
          [
           47
          ],
          [
           52
          ],
          [
           64
          ],
          [
           51
          ],
          [
           64
          ],
          [
           47
          ],
          [
           44
          ],
          [
           64
          ],
          [
           52
          ],
          [
           52
          ],
          [
           66
          ],
          [
           47
          ],
          [
           68
          ],
          [
           64
          ],
          [
           47
          ],
          [
           52
          ],
          [
           47
          ],
          [
           64
          ],
          [
           52
          ],
          [
           47
          ],
          [
           47
          ],
          [
           35
          ],
          [
           52
          ],
          [
           64
          ],
          [
           52
          ],
          [
           65
          ],
          [
           64
          ],
          [
           47
          ],
          [
           52
          ],
          [
           64
          ],
          [
           64
          ],
          [
           47
          ],
          [
           47
          ],
          [
           35
          ],
          [
           64
          ],
          [
           52
          ],
          [
           52
          ],
          [
           52
          ],
          [
           52
          ],
          [
           64
          ],
          [
           64
          ],
          [
           52
          ],
          [
           47
          ],
          [
           47
          ],
          [
           64
          ],
          [
           52
          ],
          [
           52
          ],
          [
           52
          ],
          [
           47
          ],
          [
           52
          ],
          [
           52
          ],
          [
           49
          ],
          [
           52
          ],
          [
           64
          ],
          [
           67
          ],
          [
           49
          ],
          [
           64
          ],
          [
           52
          ],
          [
           64
          ],
          [
           66
          ],
          [
           64
          ],
          [
           52
          ],
          [
           52
          ],
          [
           64
          ],
          [
           64
          ],
          [
           47
          ],
          [
           52
          ],
          [
           64
          ],
          [
           52
          ],
          [
           52
          ],
          [
           64
          ],
          [
           52
          ],
          [
           52
          ],
          [
           52
          ],
          [
           45
          ],
          [
           52
          ],
          [
           52
          ],
          [
           47
          ],
          [
           64
          ],
          [
           52
          ],
          [
           64
          ],
          [
           52
          ],
          [
           52
          ],
          [
           52
          ],
          [
           64
          ],
          [
           52
          ],
          [
           52
          ],
          [
           64
          ],
          [
           64
          ],
          [
           52
          ],
          [
           64
          ],
          [
           64
          ],
          [
           52
          ],
          [
           52
          ],
          [
           52
          ],
          [
           64
          ],
          [
           52
          ],
          [
           47
          ],
          [
           52
          ],
          [
           68
          ],
          [
           52
          ],
          [
           35
          ],
          [
           64
          ],
          [
           35
          ],
          [
           55
          ],
          [
           52
          ],
          [
           66
          ],
          [
           52
          ],
          [
           64
          ],
          [
           64
          ],
          [
           52
          ],
          [
           66
          ],
          [
           60
          ],
          [
           64
          ],
          [
           55
          ],
          [
           47
          ],
          [
           64
          ],
          [
           63
          ],
          [
           52
          ],
          [
           52
          ],
          [
           52
          ],
          [
           52
          ],
          [
           52
          ],
          [
           52
          ],
          [
           52
          ],
          [
           52
          ],
          [
           64
          ],
          [
           36
          ],
          [
           64
          ],
          [
           52
          ],
          [
           52
          ],
          [
           47
          ],
          [
           35
          ],
          [
           38
          ],
          [
           52
          ],
          [
           46
          ],
          [
           52
          ],
          [
           52
          ],
          [
           64
          ],
          [
           64
          ],
          [
           35
          ],
          [
           66
          ],
          [
           52
          ],
          [
           64
          ],
          [
           52
          ],
          [
           52
          ],
          [
           52
          ],
          [
           64
          ],
          [
           64
          ],
          [
           52
          ],
          [
           52
          ],
          [
           52
          ],
          [
           64
          ],
          [
           47
          ],
          [
           52
          ],
          [
           56
          ],
          [
           52
          ],
          [
           52
          ],
          [
           48
          ],
          [
           52
          ],
          [
           52
          ],
          [
           64
          ],
          [
           64
          ],
          [
           70
          ],
          [
           52
          ],
          [
           35
          ],
          [
           52
          ],
          [
           52
          ],
          [
           52
          ],
          [
           64
          ],
          [
           46
          ],
          [
           52
          ],
          [
           61
          ],
          [
           52
          ],
          [
           49
          ],
          [
           52
          ],
          [
           69
          ],
          [
           64
          ],
          [
           69
          ],
          [
           46
          ],
          [
           52
          ],
          [
           52
          ],
          [
           70
          ],
          [
           64
          ],
          [
           47
          ],
          [
           64
          ],
          [
           52
          ],
          [
           50
          ],
          [
           69
          ],
          [
           47
          ],
          [
           70
          ],
          [
           46
          ],
          [
           52
          ],
          [
           52
          ],
          [
           46
          ],
          [
           52
          ],
          [
           45
          ],
          [
           52
          ],
          [
           70
          ],
          [
           49
          ],
          [
           64
          ],
          [
           47
          ],
          [
           66
          ],
          [
           47
          ],
          [
           64
          ],
          [
           52
          ],
          [
           52
          ],
          [
           64
          ],
          [
           52
          ],
          [
           52
          ],
          [
           52
          ],
          [
           64
          ],
          [
           52
          ],
          [
           52
          ],
          [
           47
          ],
          [
           64
          ],
          [
           47
          ],
          [
           52
          ],
          [
           52
          ],
          [
           52
          ],
          [
           64
          ],
          [
           52
          ],
          [
           52
          ],
          [
           52
          ],
          [
           64
          ],
          [
           47
          ],
          [
           52
          ],
          [
           36
          ],
          [
           66
          ],
          [
           52
          ]
         ],
         "hovertemplate": "<b>%{hovertext}</b><br><br>class=%{marker.color}<br>PC 1=%{x}<br>PC 2=%{y}<br>PC 3=%{z}<br>Algorithm=%{customdata[0]}<extra></extra>",
         "hovertext": [
          "42 Coin",
          "404Coin",
          "Bitcoin",
          "Litecoin",
          "Dash",
          "BitcoinDark",
          "ProsperCoin",
          "KoboCoin",
          "Spreadcoin",
          "Argentum",
          "Aurora Coin",
          "BlueCoin",
          "ZetaCoin",
          "SexCoin",
          "Quatloo",
          "EnergyCoin",
          "QuarkCoin",
          "Digitalcoin ",
          "BitBar",
          "Catcoin",
          "CryptoBullion",
          "CannaCoin",
          "CryptCoin",
          "DevCoin",
          "EarthCoin",
          "E-Gulden",
          "Einsteinium",
          "Emerald",
          "Franko",
          "GrandCoin",
          "GlobalCoin",
          "GoldCoin",
          "HoboNickels",
          "Infinite Coin",
          "IOCoin",
          "IXcoin",
          "KrugerCoin",
          "LuckyCoin",
          "Litebar ",
          "MaxCoin",
          "MegaCoin",
          "MinCoin",
          "MazaCoin",
          "NavCoin",
          "NobleCoin",
          "Namecoin",
          "NyanCoin",
          "OpalCoin",
          "Orbitcoin",
          "PotCoin",
          "PhoenixCoin",
          "Reddcoin",
          "RonPaulCoin",
          "StableCoin",
          "SmartCoin",
          "SyncCoin",
          "SysCoin",
          "TigerCoin",
          "TorCoin",
          "TerraCoin",
          "UnbreakableCoin",
          "Unobtanium",
          "UroCoin",
          "UnitaryStatus Dollar",
          "UltraCoin",
          "ViaCoin",
          "VeriCoin",
          "WorldCoin",
          "X11 Coin",
          "JouleCoin",
          "StealthCoin",
          "ZCC Coin",
          "MonaCoin",
          "Neutron",
          "Gulden",
          "PesetaCoin",
          "Kore",
          "Wild Beast Coin",
          "Flo",
          "8BIT Coin",
          "Sativa Coin",
          "ArtByte",
          "Folding Coin",
          "CypherPunkCoin",
          "OmniCron",
          "Vtorrent",
          "GreenCoin",
          "MasterCoin",
          "SoonCoin",
          "1Credit",
          "IslaCoin",
          "Nexus",
          "MarsCoin ",
          "Anarchists Prime",
          "Droidz",
          "BowsCoin",
          "Song Coin",
          "BitZeny",
          "Paycon",
          "Emercoin",
          "EverGreenCoin",
          "MindCoin",
          "I0coin",
          "Revolution VR",
          "EDRCoin",
          "Hitcoin",
          "Gamecredits",
          "DubaiCoin",
          "CarpeDiemCoin",
          "PWR Coin",
          "BillaryCoin",
          "Adzcoin",
          "YoCoin",
          "SibCoin",
          "EuropeCoin",
          "SwingCoin",
          "Francs",
          "BolivarCoin",
          "Ratecoin",
          "Revenu",
          "Clockcoin",
          "VIP Tokens",
          "BitSend",
          "Omni",
          "PutinCoin",
          "iBankCoin",
          "Frankywillcoin",
          "PizzaCoin",
          "GoldBlocks",
          "CarterCoin",
          "BitTokens",
          "ZayedCoin",
          "MustangCoin",
          "ZoneCoin",
          "RootCoin",
          "DopeCoin",
          "DollarCoin",
          "Swiscoin",
          "Shilling",
          "BuzzCoin",
          "PesoBit",
          "Halloween Coin",
          "GanjaCoin V2",
          "LanaCoin",
          "InsaneCoin",
          "KiloCoin",
          "ArtexCoin",
          "EmberCoin",
          "XenixCoin",
          "PLNCoin",
          "AquariusCoin",
          "Kurrent",
          "Eternity",
          "Eurocoin",
          "BitcoinFast",
          "Stakenet",
          "BitConnect Coin",
          "MoneyCoin",
          "Enigma",
          "Russiacoin",
          "GameUnits",
          "GAKHcoin",
          "LiteCreed",
          "OsmiumCoin",
          "Klingon Empire Darsek",
          "Internet of People",
          "KushCoin",
          "Printerium",
          "PacCoin",
          "Impeach",
          "FirstCoin",
          "BeaverCoin",
          "VaultCoin",
          "OpenChat",
          "Canada eCoin",
          "VirtacoinPlus",
          "Impact",
          "EB3coin",
          "HappyCoin",
          "Condensate",
          "Independent Money System",
          "ArgusCoin",
          "LomoCoin",
          "GoldReserve",
          "BenjiRolls",
          "ILCoin",
          "Degas Coin",
          "HTML5 Coin",
          "EquiTrader",
          "Denarius",
          "DigitalPrice",
          "Virta Unique Coin",
          "Bitcoin Planet",
          "Unify",
          "BritCoin",
          "SocialCoin",
          "ArcticCoin",
          "DAS",
          "Linda",
          "DeepOnion",
          "Bitcore",
          "Onix",
          "Cream",
          "Bitcoin Cash",
          "Monoeci",
          "Vechain",
          "Sojourn Coin",
          "NewYorkCoin",
          "FrazCoin",
          "Kronecoin",
          "AdCoin",
          "Linx",
          "CoinonatX",
          "Ethereum Dark",
          "Regalcoin",
          "TrezarCoin",
          "Elements",
          "TerraNovaCoin",
          "WomenCoin",
          "Theresa May Coin",
          "NamoCoin",
          "LUXCoin",
          "Xios",
          "Bitcloud 2.0",
          "eBoost",
          "BlackholeCoin",
          "Pura",
          "Magnet",
          "Electra",
          "Bitcoin Diamond",
          "Cash & Back Coin",
          "AC3",
          "GermanCoin",
          "LiteCoin Ultra",
          "PopularCoin",
          "PhantomX",
          "Sucre",
          "IrishCoin",
          "Trollcoin",
          "Litecoin Plus",
          "Pioneer Coin",
          "UnitedBitcoin",
          "My Big Coin",
          "MUNcoin",
          "Unified Society USDEX",
          "ShareChain",
          "LitecoinCash",
          "BitFlip",
          "LottoCoin",
          "Crypto Improvement Fund",
          "Pushi",
          "Ellerium",
          "Poseidon",
          "Bitspace",
          "Briacoin",
          "Ignition",
          "Abjcoin",
          "FuturoCoin",
          "Carebit",
          "iDealCash",
          "KEYCO",
          "Swisscoin",
          "TheVig",
          "EmaratCoin",
          "Motion",
          "Axe",
          "Trivechain",
          "Giant",
          "HexCoin",
          "TPCash",
          "Urals Coin",
          "EUNO",
          "Project Pai",
          "Azart",
          "ThunderStake",
          "Kcash",
          "Xchange",
          "Bitcoin SV",
          "BitMoney",
          "HerbCoin",
          "Block-Logic",
          "Oduwa",
          "Galilel",
          "Credit",
          "SLICE",
          "Nasdacoin",
          "Beetle Coin",
          "Titan Coin",
          "Award",
          "BLAST",
          "Bitcoin Rhodium",
          "GlobalToken",
          "Insane Coin",
          "LiteDoge",
          "SolarCoin",
          "TruckCoin",
          "OrangeCoin",
          "BitstarCoin",
          "HyperCoin",
          "PinkCoin",
          "Crypto Escudo",
          "AudioCoin",
          "IncaKoin",
          "Piggy Coin",
          "Crown Coin",
          "Genstake",
          "SmileyCoin",
          "XiaoMiCoin",
          "CapriCoin",
          " ClubCoin",
          "Bata",
          "Pakcoin",
          "Creditbit ",
          "OKCash",
          "WhiteCoin",
          "FriendshipCoin",
          "Triangles Coin",
          "Gapcoin"
         ],
         "legendgroup": "4",
         "marker": {
          "color": [
           4,
           4,
           4,
           4,
           4,
           4,
           4,
           4,
           4,
           4,
           4,
           4,
           4,
           4,
           4,
           4,
           4,
           4,
           4,
           4,
           4,
           4,
           4,
           4,
           4,
           4,
           4,
           4,
           4,
           4,
           4,
           4,
           4,
           4,
           4,
           4,
           4,
           4,
           4,
           4,
           4,
           4,
           4,
           4,
           4,
           4,
           4,
           4,
           4,
           4,
           4,
           4,
           4,
           4,
           4,
           4,
           4,
           4,
           4,
           4,
           4,
           4,
           4,
           4,
           4,
           4,
           4,
           4,
           4,
           4,
           4,
           4,
           4,
           4,
           4,
           4,
           4,
           4,
           4,
           4,
           4,
           4,
           4,
           4,
           4,
           4,
           4,
           4,
           4,
           4,
           4,
           4,
           4,
           4,
           4,
           4,
           4,
           4,
           4,
           4,
           4,
           4,
           4,
           4,
           4,
           4,
           4,
           4,
           4,
           4,
           4,
           4,
           4,
           4,
           4,
           4,
           4,
           4,
           4,
           4,
           4,
           4,
           4,
           4,
           4,
           4,
           4,
           4,
           4,
           4,
           4,
           4,
           4,
           4,
           4,
           4,
           4,
           4,
           4,
           4,
           4,
           4,
           4,
           4,
           4,
           4,
           4,
           4,
           4,
           4,
           4,
           4,
           4,
           4,
           4,
           4,
           4,
           4,
           4,
           4,
           4,
           4,
           4,
           4,
           4,
           4,
           4,
           4,
           4,
           4,
           4,
           4,
           4,
           4,
           4,
           4,
           4,
           4,
           4,
           4,
           4,
           4,
           4,
           4,
           4,
           4,
           4,
           4,
           4,
           4,
           4,
           4,
           4,
           4,
           4,
           4,
           4,
           4,
           4,
           4,
           4,
           4,
           4,
           4,
           4,
           4,
           4,
           4,
           4,
           4,
           4,
           4,
           4,
           4,
           4,
           4,
           4,
           4,
           4,
           4,
           4,
           4,
           4,
           4,
           4,
           4,
           4,
           4,
           4,
           4,
           4,
           4,
           4,
           4,
           4,
           4,
           4,
           4,
           4,
           4,
           4,
           4,
           4,
           4,
           4,
           4,
           4,
           4,
           4,
           4,
           4,
           4,
           4,
           4,
           4,
           4,
           4,
           4,
           4,
           4,
           4,
           4,
           4,
           4,
           4,
           4,
           4,
           4,
           4,
           4,
           4,
           4,
           4,
           4,
           4,
           4,
           4,
           4,
           4,
           4,
           4,
           4,
           4,
           4,
           4,
           4,
           4,
           4,
           4,
           4,
           4,
           4,
           4,
           4,
           4,
           4,
           4,
           4,
           4,
           4,
           4,
           4,
           4,
           4,
           4,
           4,
           4,
           4,
           4,
           4,
           4,
           4,
           4,
           4,
           4,
           4,
           4,
           4
          ],
          "coloraxis": "coloraxis",
          "symbol": "circle"
         },
         "mode": "markers",
         "name": "4",
         "scene": "scene",
         "showlegend": true,
         "type": "scatter3d",
         "x": [
          -0.4178746258673065,
          -0.39656383123363376,
          -0.19208254817717058,
          -0.21795407555531665,
          -0.48277085559300664,
          -0.3904431730842165,
          -0.21945572326652085,
          -0.5009573101629051,
          -0.284639580163371,
          -0.2189238146617702,
          -0.41743127807039976,
          -0.4082801670159263,
          -0.18827902396168716,
          -0.2152808341297794,
          -0.21863307532770787,
          -0.41601646403377396,
          -0.18071144674825443,
          -0.21876322107361584,
          -0.4178689292724749,
          -0.21943380440959515,
          -0.41784882751968144,
          -0.21955125583159785,
          -0.2847527013172541,
          0.3032054724583497,
          0.1060531000857599,
          -0.21922708702610835,
          -0.21341956410099758,
          -0.2191372286746554,
          -0.21962427699937534,
          -0.1920438287718778,
          -0.21805584440298756,
          -0.21839573740368518,
          -0.415313622246628,
          2.064095506459023,
          -0.4826407053190233,
          -0.19203480154431282,
          -0.21478510254539457,
          -0.21926111620371147,
          -0.2197247969216717,
          -0.41049797437079794,
          -0.21875445323368128,
          -0.21956638540567322,
          -0.34186041676326945,
          -0.4930075947021867,
          -0.03238716891794504,
          -0.19213072666529446,
          -0.21129435246952433,
          -0.49377661340794965,
          -0.3307812142369006,
          -0.4102663795896606,
          -0.4157671655291177,
          0.02477009252351132,
          -0.2195261487335631,
          -0.21686212056962623,
          -0.2188510671994044,
          -0.48312960224317175,
          -0.17508233815169538,
          -0.19143289350400455,
          -0.48300691550716135,
          -0.19179462872773803,
          -0.1917223790947244,
          -0.19255997387119272,
          -0.284991893187669,
          -0.38510605969075157,
          -0.4161051634911828,
          -0.21917303940698715,
          -0.15323178721983552,
          -0.21526587515103987,
          -0.4829690753352602,
          -0.19151878042925166,
          -0.4935057717040222,
          -0.40553061094140075,
          -0.21766272019249122,
          -0.38940688813635466,
          -0.19650451497972646,
          -0.21599662476126816,
          -0.4938536125815675,
          -0.21972580500113043,
          -0.21583842359249722,
          -0.41785246354564554,
          -0.4937972120617293,
          -0.19767889097738645,
          -0.23141045775764832,
          -0.1815935896138936,
          -0.21956792948129103,
          -0.4174972143555635,
          -0.04904751444571547,
          -0.2197395032526325,
          -0.19216505916530663,
          0.7103170932009983,
          -0.48310677424462145,
          -0.6088064991868211,
          -0.28418998693141145,
          -0.19179937748350076,
          -0.3741907661289336,
          -0.2845582910059454,
          -0.21713799195055258,
          -0.21608602653445003,
          -0.4931520633571682,
          -0.37992540314628986,
          -0.5044111371061605,
          -0.28460878009084956,
          -0.19203618874977724,
          -0.21446127739088705,
          -0.3904072242058374,
          -0.04868653336608116,
          -0.2178514477361189,
          -0.39050144831415307,
          0.3543230982993048,
          -0.17338834680848147,
          -0.41731415457219084,
          -0.28347979299264636,
          -0.21804356762993474,
          -0.28994474779786866,
          -0.479090452592654,
          -0.3902145727215983,
          -0.2194537155749269,
          -0.2845512189085269,
          -0.4803397339361934,
          -0.3884153598261388,
          -0.38512597554184413,
          -0.3232601439417299,
          -0.4813561766222064,
          -0.21973957963521193,
          -0.3853785647032861,
          -0.4173580962480516,
          -0.41535374971585015,
          -0.28473658048798367,
          -0.48238915313867203,
          -0.416313005884049,
          -0.3904637529073741,
          -0.19237283145361447,
          -0.483089371873813,
          -0.4176233421829396,
          -0.41784533594844364,
          -0.21596894446026488,
          -0.19232048229199053,
          -0.5085708944096978,
          -0.2192839433461433,
          0.09623944654193954,
          -0.41736845354007734,
          -0.46396896994628356,
          -0.4969225037139093,
          -0.3093393188311509,
          -0.4825493823951459,
          -0.11569649544554948,
          -0.2675135615334756,
          0.9066352241173463,
          -0.48303249248796254,
          -0.4172269670028223,
          -0.41741304243108485,
          -0.28177859837151087,
          -0.4824314171916094,
          -0.3902953715897497,
          -0.41723534383716443,
          -0.943493744440862,
          -0.4174242506574559,
          -0.41113200326744287,
          -0.4830667818273201,
          -0.41629236374022066,
          -0.41769076423375995,
          -0.41779103995683375,
          -0.37855580856497334,
          -0.21971418037791454,
          -0.4124580333929705,
          -0.39043460144015535,
          -0.4829496177419843,
          -0.41749393771556415,
          0.734044543466302,
          -0.41764823935072504,
          -0.48114149779273363,
          -0.219674113492444,
          -0.2744418560687456,
          -0.3926658548238369,
          -0.21723660674789025,
          -0.48191993513864206,
          -0.48034714677421786,
          -0.1783494492477156,
          -0.4817937264882806,
          -0.47623783319198415,
          -0.41757911653061613,
          -0.41756815730027397,
          -0.40775761117765447,
          -0.4824659755293265,
          -0.2190898722272232,
          -0.14739479688557378,
          -0.4164906304724918,
          1.0188936356475582,
          -0.21882077902560648,
          -0.32526595942736336,
          -0.2834686019849715,
          -0.3232665214790276,
          -0.4330746899721249,
          -0.21928644271614237,
          -0.4933810465787773,
          -0.21891887975910118,
          -0.28401033313626173,
          -0.28477945006326577,
          0.22417085796730846,
          -0.4934834816416198,
          -0.26277736040043326,
          -0.272040412883419,
          -0.43246275374668314,
          -0.19208151516348154,
          -0.4828437295493767,
          0.9060555562696865,
          -0.11359839913582376,
          1.9395463479137556,
          -0.21940640591078742,
          -0.21864238487712057,
          -0.21825122994037202,
          -0.21823507677925427,
          -0.41709179074957864,
          -0.41776875008324443,
          -0.4827470173091585,
          -0.32406645646644827,
          -0.22600183892277492,
          -0.41769834702396097,
          0.5665664289713828,
          -0.38828419245313994,
          -0.30483456415215876,
          -0.3410118104523468,
          -0.41762986934113894,
          -0.3827615090083797,
          -0.21723439329264285,
          -0.41747806227744855,
          -0.2788261717251195,
          -0.48109709473434886,
          0.4066614031251383,
          -0.48911123970641696,
          -0.4140759637061718,
          -0.2782371973915251,
          0.16175892336513248,
          -0.41623107987972213,
          -0.10935110133605741,
          -0.481942057537318,
          -0.28474609972543075,
          -0.21842135122214498,
          -0.3998520741111552,
          -0.41779637305775,
          -0.2846495915188267,
          -0.19205717476812334,
          -0.35138958359620653,
          -0.24126621655314162,
          -0.41198321516033337,
          0.03233260149001283,
          -0.2459122058939329,
          -0.2191628134160067,
          0.18513388017106364,
          -0.27676494198085866,
          -0.482844160787383,
          -0.515144232990756,
          -0.21948136336559804,
          -0.3247163787206337,
          -0.417831529983671,
          -0.4178062298981532,
          -0.4174221542143986,
          -0.2835189961273392,
          -0.3811152611788426,
          -0.34489263050600694,
          -0.2685023908438096,
          -0.16074515148325683,
          -0.4000480560097823,
          -0.41669929673479406,
          -0.31185383893361934,
          -0.2847224326443994,
          -0.5089271996035126,
          -0.3851056712795794,
          -0.21951025649638597,
          -0.4076835671631717,
          -0.31529197977196605,
          -0.48215953417246293,
          -0.13962711345163947,
          -0.2846816497506715,
          -0.21989966619492804,
          -0.9101087073406746,
          -0.3110414858767318,
          -0.1920815615938473,
          -0.06910540339288641,
          -0.3841680246593836,
          -0.21800920885893332,
          -0.417439197397738,
          -0.3847788925463067,
          0.8037602651790119,
          -0.18048358392541533,
          -0.41671519345729874,
          -0.5076985707578647,
          -0.3374791140811185,
          -0.478650819524446,
          -0.19112892839471674,
          -0.2958470561138366,
          -0.18958954547322154,
          -0.48246734564116955,
          0.16726125013366247,
          0.7728224985196052,
          -0.47946692948041564,
          -0.4157993251967486,
          -0.41701543517734735,
          -0.41772920249016515,
          -0.47148626017344847,
          -0.19786501332784484,
          -0.2969168523582971,
          -0.11788684556419743,
          -0.4655574729717247,
          -0.19179385061391171,
          -0.4168170265742334,
          0.7324158929277566,
          -0.40772594230004716,
          -0.47798639957798905,
          -0.41469249393356,
          -0.21962828211392987,
          -0.21686300978640344,
          -0.878946601294674,
          -0.3884959915639873,
          -0.4110366779682839,
          -0.330242771136873,
          -0.4940021252086206,
          -0.4151218119673287
         ],
         "y": [
          0.8102956393790149,
          0.8151352783213045,
          0.016265688164446682,
          0.23582418468471403,
          1.3366086693013604,
          0.5910839678621289,
          0.23548727971644812,
          1.5127909817174046,
          0.76173754239918,
          0.2356032798857794,
          0.810395403011966,
          0.8125131647424373,
          0.017120773686627115,
          0.23641525715493256,
          0.23566466902263278,
          0.8107251082121664,
          -0.02625226805893691,
          0.2356429518092454,
          0.8102968753457659,
          0.23549234572608707,
          0.8103014407069656,
          0.23546646781031141,
          0.7617117198775034,
          0.12735473038719092,
          0.30854603432809374,
          0.23554012341179525,
          0.23683741093934382,
          0.2355591172597791,
          0.23544989796493168,
          0.24159706063392766,
          0.23580292203037598,
          0.23572400172890293,
          0.8108681923797381,
          0.748660645903051,
          1.3366387503655666,
          0.016276723635096673,
          0.23652734546609072,
          0.23553241973484756,
          0.23542826019373353,
          0.7668747920142799,
          0.23564597309312504,
          0.23546347757990393,
          0.6019259281418446,
          1.4244655395226102,
          0.27630693249116545,
          0.01625455288097585,
          0.23732259882093457,
          1.4242877995889482,
          0.10867020232536646,
          0.8119863380638793,
          0.8107669163427651,
          0.9126021792565762,
          0.23547100258593567,
          0.23604978132864593,
          0.23562215881788778,
          1.336529303034517,
          0.020054992215139143,
          0.01641164328665094,
          1.336556045863136,
          0.016328845626687207,
          0.016339413517106716,
          0.016158690617286756,
          0.7616593405931126,
          0.8176111538019043,
          0.8106884736740874,
          0.2355522925254715,
          0.04390849494705732,
          0.23641622659421752,
          1.3365655177186466,
          0.016392117224149714,
          1.424350398048684,
          0.81298731942517,
          0.2358881169140217,
          0.5913160583174502,
          0.24052423214120178,
          0.23626330972579118,
          1.4242680670479537,
          0.23542782101051277,
          0.23630090437650283,
          0.8103007616663703,
          1.4242814253300935,
          0.24036251372372294,
          0.5032241647673696,
          -0.07152595013370595,
          0.23546419016100997,
          0.8103796420956072,
          0.2732629906180336,
          0.23542497904481438,
          0.016246617760244882,
          0.4355418823513907,
          1.3365345793314254,
          1.34170882415698,
          0.7618393575220329,
          0.016325850730281546,
          0.45951410839383755,
          0.7617561690687878,
          0.23599243518847596,
          0.23622915655228327,
          1.4244240822035545,
          0.5933571053166048,
          1.5120449392836455,
          0.7617453064381786,
          0.01627640301635831,
          0.23661113125139802,
          0.5910922765693297,
          1.4326567024341694,
          0.23584790460418978,
          0.5910723543521361,
          0.13906828102969743,
          0.09993868959447266,
          0.8104184024631573,
          0.7619952732960952,
          0.23578989168557465,
          0.805620383612705,
          1.33740090033891,
          0.5911338991775962,
          0.23548790508363485,
          0.7617571582589661,
          1.3371620129038546,
          0.5915202628708447,
          0.5922317553848927,
          0.06528495546684779,
          1.3369167613018125,
          0.23542496187969722,
          0.8174836356288729,
          0.8104078699598481,
          0.8108621446570938,
          0.7617143164469409,
          1.33669237305239,
          0.8106420493518777,
          0.5910793726757146,
          0.016200413572480248,
          1.3365381174507602,
          0.8103503293837113,
          0.8103024090367714,
          0.23626428413056993,
          0.016212367230360434,
          1.2026097024268707,
          0.23552553041514676,
          0.7905648744518131,
          0.8104126287843435,
          1.3407158091267009,
          1.468654216670442,
          0.6988409858350442,
          1.3366585667283766,
          0.25785870282534273,
          0.7656183619264035,
          1.7478217318023408,
          1.3365511260605025,
          0.81043911197532,
          0.8103955469443667,
          0.7623652302756346,
          1.3366809913644833,
          0.5911184512522085,
          0.8104380696878251,
          2.6783325611123128,
          0.8103952151707755,
          0.8117490560028024,
          1.3365430159131113,
          0.8106381080175902,
          0.8103360371252691,
          0.8103144232686665,
          0.5036029792319452,
          0.23543049383766138,
          0.8114668836395287,
          0.5910861103269717,
          1.336569393069748,
          0.8103803994110947,
          0.9810509600707267,
          0.8103444244278292,
          1.0025435183664648,
          0.2354396501435156,
          0.7639363863797567,
          0.8159606943011976,
          0.23598742870439018,
          1.3367927544487435,
          1.3371546527699842,
          0.2443460285410833,
          1.3368219245027027,
          1.3380414985668339,
          0.810360516842293,
          0.8103618578542209,
          0.8124726025902085,
          1.3366762308108724,
          0.23556949457357673,
          0.02619421548402666,
          0.8105985756837815,
          1.8496035210359396,
          0.23562580335660785,
          0.06483426715296198,
          0.7619952784136043,
          0.06527864130851196,
          0.94209532150858,
          0.23552668280846598,
          1.4243743850759614,
          0.23560264574807177,
          0.7618765239874052,
          0.7617053923523216,
          0.9506218969969058,
          1.4243525008538471,
          0.5863517132651468,
          0.7644752876313944,
          0.9422367556548498,
          0.01626592692038747,
          1.3365938418166183,
          2.632947001858998,
          0.25826295755888495,
          0.7344913839670245,
          0.23549883955961404,
          0.2356650987583518,
          0.2357529232787459,
          0.23575665668830273,
          0.8104687877555551,
          0.8103194323727549,
          1.3366133722487576,
          0.11015822791740715,
          0.7750030453507961,
          0.8103338435570725,
          1.033791744418064,
          0.5915703792433111,
          0.0693644938211253,
          0.19651587083941244,
          0.8103488207901535,
          0.547721032335886,
          0.235987940290631,
          0.8103849094819184,
          0.7630279284870091,
          1.3369758350756378,
          0.2291629080872714,
          1.4253322060077944,
          0.8111397265529205,
          0.7631317879115135,
          0.9361968992266787,
          0.8106513042593206,
          0.2601319770438978,
          1.3367957083053945,
          0.7617129552658194,
          0.23571941206534444,
          0.8143159086535345,
          0.8103130802629807,
          0.7617347445037325,
          0.016271687165683633,
          0.6187689747090841,
          0.4108856127148427,
          0.8116198649408126,
          0.2920720212689242,
          0.25569000723430724,
          0.235551913264688,
          0.32603194623418696,
          0.763480130782382,
          1.33659124257745,
          1.5997781018715271,
          0.2354813536323686,
          0.06495483581261537,
          0.8103051159344914,
          0.8103106407563222,
          0.8103953770360997,
          0.761983631035648,
          0.5481015224043588,
          0.8263372827283616,
          0.6301386427894146,
          0.8680792017742558,
          0.6790707424225407,
          0.8105537356644296,
          0.9809955286960167,
          0.7617182317290179,
          1.5561017332306872,
          0.5472106729386154,
          0.23547449736813908,
          0.8124897160597816,
          1.0252802136404782,
          1.3367454438808573,
          0.028054061499566296,
          0.7617270123482667,
          0.8531486392709691,
          2.261252869961574,
          0.9811707121426214,
          0.0162659161891399,
          2.5191380016462426,
          0.5474195058956767,
          0.23580563378991953,
          0.8103928899633964,
          0.5472839596988107,
          1.0805786771281738,
          -0.07128553318849394,
          0.8105500615244086,
          1.6014279964456704,
          0.6927414714296423,
          1.3374967026340279,
          0.016479156595847186,
          0.84936938896878,
          0.016818168272199986,
          1.336677527524909,
          0.9398887009749745,
          0.4490043205792656,
          1.337375840749491,
          0.810743026922878,
          0.8104854667916188,
          0.8103292504556024,
          1.339139708879242,
          0.24031949607802,
          0.8365580300177862,
          0.6540516162403278,
          1.34042933446257,
          0.016329025468736366,
          0.8105376576168026,
          0.4474256857884041,
          0.8125767249995965,
          1.3376844708118607,
          0.8110052975250571,
          0.2354499783551485,
          0.2360605468054647,
          2.486372518016374,
          0.5915206203491592,
          0.8118276629490333,
          0.10878555115144305,
          1.424235658671124,
          0.8108915506855697
         ],
         "z": [
          0.3721377359146021,
          0.3732558332587605,
          -0.07291010078361858,
          -0.2737891740434583,
          -0.11025277404054148,
          0.5732026086646993,
          -0.27392554435556926,
          -0.27033921138873257,
          -0.7563668509688364,
          -0.2738305539035783,
          0.3721738638993679,
          0.3721005217092708,
          -0.07258901300892447,
          -0.2734248708447838,
          -0.27375042744470407,
          0.3721305285514295,
          -0.03221978723444468,
          -0.27386691508385846,
          0.37213884225426314,
          -0.27392562937242926,
          0.3721398928153103,
          -0.2739429143024458,
          -0.7563709263243964,
          -0.027480321609627382,
          -0.24476518948306464,
          -0.27392643116893256,
          -0.2733197056146942,
          -0.27390195204572865,
          -0.27394692893850003,
          -0.2708728645417847,
          -0.27382037814865456,
          -0.2738139911235872,
          0.37239864960639035,
          -0.0783405565399197,
          -0.11025327885553486,
          -0.07291028597889646,
          -0.27339198797572806,
          -0.27392855623944606,
          -0.27396885192191306,
          0.41255915314432845,
          -0.2738808661223523,
          -0.27394994278694196,
          0.5784247940097578,
          -0.1907113704843275,
          -0.24084263034573594,
          -0.0729099139133,
          -0.27324396904490766,
          -0.19070838768482176,
          1.015397606623556,
          0.3730561907563405,
          0.37235075345350505,
          0.37042084592191193,
          -0.2739252711957011,
          -0.2734187374953922,
          -0.2738597264349611,
          -0.11030103562488454,
          -0.07101916881689532,
          -0.07285391003807319,
          -0.11027894315025864,
          -0.0728638192839185,
          -0.07277833124759299,
          -0.07295508297886394,
          -0.7564106256448415,
          0.37562193174514347,
          0.37235657856868193,
          -0.2739221266843424,
          -0.48934349573680713,
          -0.27339012319886413,
          -0.11028924669026602,
          -0.0728581180397628,
          -0.19070943820088157,
          0.37434691676134235,
          -0.2737426350234917,
          0.5733024139671427,
          -0.2702701032323076,
          -0.27361081629783146,
          -0.19068100431011312,
          -0.273965963489469,
          -0.2736258434978219,
          0.3721376498586167,
          -0.19068573719085533,
          -0.2718003488196876,
          -0.5130154532713767,
          0.007450463803892395,
          -0.2739648980865684,
          0.3721814131460905,
          -0.25206330861443327,
          -0.27397044371216384,
          -0.07290978074753525,
          -0.06992976080826228,
          -0.11030112642509965,
          1.0586197481366555,
          -0.7563392530328671,
          -0.0728372578418774,
          0.6937743054063709,
          -0.7563649092060155,
          -0.27350740816749386,
          -0.2734217477380393,
          -0.19059795714355576,
          0.5753692177633292,
          -0.27105642976487576,
          -0.7563759986724603,
          -0.07291028059833063,
          -0.2735183320577558,
          0.5732024692294737,
          -0.05206117883847813,
          -0.2737895721068683,
          0.5731768785098791,
          -0.026265040588728254,
          1.0550029396605063,
          0.3722303584256631,
          -0.7562268976195113,
          -0.2735984410032381,
          -0.7965615687587164,
          -0.10944999361149439,
          0.5732423490665176,
          -0.273927809202599,
          -0.7563559083975048,
          -0.11014257948485269,
          0.5736477916920154,
          0.5743172858734373,
          1.0557873840764784,
          -0.1099941851739586,
          -0.2739704502547892,
          0.37652581262429274,
          0.37223579533468676,
          0.37235366405357223,
          -0.7563551894339432,
          -0.1101910568793406,
          0.3723348141309791,
          0.5732004314280584,
          -0.07293439838071411,
          -0.11029442274448897,
          0.37218415941896443,
          0.37213762221274377,
          -0.2735350548542432,
          -0.07293256488733561,
          0.809713785080638,
          -0.2739058971018213,
          0.5359578023860654,
          0.37213577252482155,
          -0.1069897667236649,
          -0.23069480294356887,
          0.5093312193725594,
          -0.11023557659231759,
          -0.2518047966353465,
          -0.7553498891115081,
          -0.1942216763797923,
          -0.11029271735350818,
          0.37222221082364837,
          0.37223074198285677,
          -0.7559084794496267,
          -0.11016832235160288,
          0.5731975212662063,
          0.3722097392037725,
          1.397453073977725,
          0.3721991866193954,
          0.3735801612900818,
          -0.11028999624513984,
          0.3724566152941831,
          0.3721663644512241,
          0.37214489554839897,
          0.6537334279422437,
          -0.2739658138253356,
          0.3732452563252241,
          0.5732003183580103,
          -0.11028062345221307,
          0.3721814004369584,
          -0.5346571931858815,
          0.372186362576199,
          0.5877450959311901,
          -0.2739645118180127,
          -0.754194486386068,
          0.37429701812051486,
          -0.2737558439394634,
          -0.11008002385030578,
          -0.1100635536403488,
          -0.26510414275551514,
          -0.11008051337688989,
          -0.10919923915667391,
          0.3721844666503216,
          0.37220109902720294,
          0.37435555464642106,
          -0.11021332950545942,
          -0.27389418997434495,
          -0.06748818035894057,
          0.37236935898169166,
          -0.07388886121090057,
          -0.27381289707055945,
          1.055614599268032,
          -0.7561908280697055,
          1.0558551206064575,
          0.2517494287320613,
          -0.2739300903109154,
          -0.19064221017993363,
          -0.273805745387059,
          -0.7562790092435633,
          -0.756368791220003,
          0.4825004173982617,
          -0.1906668703183625,
          -0.595552098175602,
          -0.7539780949066222,
          0.2517470552097307,
          -0.07291010479037772,
          -0.1102806882198523,
          1.1958190893024938,
          -0.25068440465015057,
          -0.28234708261877894,
          -0.27392799270300255,
          -0.2737865042921383,
          -0.27375190851171083,
          -0.27375197116511646,
          0.37224360707891935,
          0.37214680480955775,
          -0.1102415812034041,
          1.0162658768307453,
          -0.7525767232763556,
          0.3721725631586348,
          0.42474587026044547,
          0.5733702852706134,
          1.0582212529754658,
          0.9351155561397858,
          0.37218418473590925,
          0.6137988935970545,
          -0.27375585252481144,
          0.37216957568811937,
          -0.7556445697593592,
          -0.10998390477822309,
          1.1204648890482785,
          -0.19025250075656117,
          0.37259698446961426,
          -0.7551954422634011,
          0.4827424951088373,
          0.37246991995061735,
          -0.2631147074676208,
          -0.11019279103291675,
          -0.7563668892224454,
          -0.2738325028128677,
          0.37409918539352194,
          0.37214646053907213,
          -0.7563600409583685,
          -0.07291208158753543,
          0.15683388173232546,
          -0.4347481717839834,
          0.37263852262286645,
          -0.2523789583740133,
          0.10403658727811123,
          -0.273883796331739,
          -0.23399657395556545,
          -0.7553140057021468,
          -0.11024571853171286,
          -0.35138737824153393,
          -0.2739254449050952,
          1.0557027499957512,
          0.37214433984276585,
          0.37214875583066326,
          0.37220369260746156,
          -0.7561906326055096,
          0.6137925082813588,
          0.3834152100117992,
          -0.6357609868584265,
          0.39416241524926166,
          0.49296726741276853,
          0.37232277008196896,
          -0.9573782259519054,
          -0.7563642725484225,
          -0.31113628013136135,
          0.6133682000786536,
          -0.2739228381923964,
          0.3743552674512617,
          -0.9971650572548576,
          -0.11019194750441098,
          -0.0684211328514626,
          -0.7563554024942695,
          0.41199692465333293,
          2.177662192824012,
          -0.9572054970293966,
          -0.07291010461028788,
          0.6651960871246503,
          0.6134748183337418,
          -0.2737077060453927,
          0.3721834451749931,
          0.6133982718719285,
          0.5362274414705311,
          0.007671864393127464,
          0.372322831740724,
          -0.35042315149327824,
          0.5037841736336176,
          -0.10937044466803506,
          -0.0728167460264202,
          -0.8368124282621461,
          -0.07258798262725673,
          -0.11023589478898485,
          0.4488652565014077,
          -0.05640413641261419,
          -0.11031524432246963,
          0.3725810982889441,
          0.3722568625734042,
          0.37213717176489464,
          -0.10921766912403966,
          -0.27179962690531706,
          0.39536770353696754,
          0.5725246281225339,
          -0.10811213527274038,
          -0.07286382230199533,
          0.3721674895969645,
          -0.16481198633190722,
          0.3730011959446716,
          -0.10985151843257614,
          0.37248652282178996,
          -0.27396098800653923,
          -0.2735722141113514,
          1.1819536108360729,
          0.5733823920765515,
          0.37278833134584444,
          1.015522812144336,
          -0.19070724214307663,
          0.372691323401471
         ]
        },
        {
         "customdata": [
          [
           66
          ],
          [
           52
          ],
          [
           10
          ],
          [
           52
          ],
          [
           10
          ],
          [
           11
          ]
         ],
         "hovertemplate": "<b>%{hovertext}</b><br><br>class=%{marker.color}<br>PC 1=%{x}<br>PC 2=%{y}<br>PC 3=%{z}<br>Algorithm=%{customdata[0]}<extra></extra>",
         "hovertext": [
          "EliteCoin",
          "MoonCoin",
          "ByteCoin",
          "gCn Coin",
          "TurtleCoin",
          "Qwertycoin"
         ],
         "legendgroup": "1",
         "marker": {
          "color": [
           1,
           1,
           1,
           1,
           1,
           1
          ],
          "coloraxis": "coloraxis",
          "symbol": "diamond"
         },
         "mode": "markers",
         "name": "1",
         "scene": "scene",
         "showlegend": true,
         "type": "scatter3d",
         "x": [
          3.124075969795504,
          3.662279862436136,
          4.652786103448568,
          4.264156912675372,
          10.920478120122986,
          3.371275565155651
         ],
         "y": [
          2.209780370521108,
          1.0707053858064965,
          -0.5627761751166165,
          1.2395008276802313,
          0.7542715422460716,
          -0.8138568731053956
         ],
         "z": [
          0.5043352582499541,
          0.5776818911336034,
          1.8129046674918567,
          0.16004838607688193,
          3.629299854236135,
          1.7776567266867125
         ]
        },
        {
         "customdata": [
          [
           20
          ],
          [
           12
          ],
          [
           20
          ],
          [
           18
          ],
          [
           34
          ],
          [
           34
          ],
          [
           23
          ],
          [
           23
          ],
          [
           34
          ],
          [
           36
          ],
          [
           25
          ],
          [
           31
          ],
          [
           10
          ],
          [
           9
          ],
          [
           23
          ],
          [
           34
          ],
          [
           33
          ],
          [
           30
          ],
          [
           20
          ],
          [
           6
          ],
          [
           3
          ],
          [
           0
          ],
          [
           15
          ],
          [
           18
          ],
          [
           10
          ],
          [
           34
          ],
          [
           32
          ],
          [
           20
          ],
          [
           18
          ],
          [
           10
          ],
          [
           10
          ],
          [
           30
          ],
          [
           12
          ],
          [
           18
          ],
          [
           30
          ],
          [
           16
          ],
          [
           5
          ],
          [
           35
          ],
          [
           12
          ],
          [
           1
          ],
          [
           2
          ],
          [
           6
          ],
          [
           8
          ],
          [
           10
          ],
          [
           10
          ],
          [
           28
          ],
          [
           10
          ],
          [
           18
          ],
          [
           36
          ],
          [
           18
          ],
          [
           15
          ],
          [
           36
          ],
          [
           20
          ],
          [
           36
          ],
          [
           34
          ],
          [
           10
          ],
          [
           10
          ],
          [
           20
          ],
          [
           12
          ],
          [
           3
          ],
          [
           36
          ],
          [
           36
          ],
          [
           7
          ],
          [
           20
          ],
          [
           10
          ],
          [
           15
          ],
          [
           31
          ],
          [
           7
          ],
          [
           20
          ],
          [
           10
          ],
          [
           26
          ],
          [
           18
          ],
          [
           32
          ],
          [
           22
          ],
          [
           10
          ],
          [
           35
          ],
          [
           30
          ],
          [
           32
          ],
          [
           10
          ],
          [
           11
          ],
          [
           10
          ],
          [
           27
          ],
          [
           10
          ],
          [
           14
          ],
          [
           24
          ],
          [
           31
          ],
          [
           12
          ],
          [
           13
          ],
          [
           28
          ],
          [
           18
          ],
          [
           32
          ],
          [
           10
          ],
          [
           4
          ],
          [
           4
          ],
          [
           18
          ],
          [
           21
          ],
          [
           18
          ],
          [
           18
          ],
          [
           36
          ],
          [
           4
          ],
          [
           23
          ],
          [
           34
          ],
          [
           19
          ],
          [
           20
          ],
          [
           10
          ],
          [
           18
          ]
         ],
         "hovertemplate": "<b>%{hovertext}</b><br><br>class=%{marker.color}<br>PC 1=%{x}<br>PC 2=%{y}<br>PC 3=%{z}<br>Algorithm=%{customdata[0]}<extra></extra>",
         "hovertext": [
          "Ethereum",
          "Monero",
          "Ethereum Classic",
          "ZCash",
          "DigiByte",
          "MyriadCoin",
          "Riecoin",
          "Diamond",
          "Verge",
          "FeatherCoin",
          "MediterraneanCoin",
          "Vertcoin",
          "DigitalNote ",
          "StorjCoin",
          "FairCoin",
          "Unitus",
          "Cryptonite",
          "Crypto",
          "Expanse",
          "Siacoin",
          "Decred",
          "HOdlcoin",
          "SoilCoin",
          "Komodo",
          "Karbo",
          "Circuits of Value",
          "ZCoin",
          "Elementrem",
          "ZClassic",
          "Cannabis Industry Coin",
          "Bikercoins",
          "HexxCoin",
          "Citadel",
          "Zero",
          "Zoin",
          "DubaiCoin",
          "TajCoin",
          "Coinonat",
          "Quantum Resistant Ledger",
          "Espers",
          "Dynamic",
          "Nano",
          "ChanCoin",
          "Dinastycoin",
          "LeviarCoin",
          "SmartCash",
          "Sumokoin",
          "BitcoinZ",
          "VIVO Coin",
          "Bitcoin Gold",
          "Pirl",
          "Innova",
          "Ellaism",
          "GoByte",
          "SHIELD",
          "UltraNote",
          "BitCoal",
          "DaxxCoin",
          "Lethean",
          "Photon",
          "SparksPay",
          "GunCoin",
          "Interzone",
          "1717 Masonic Commemorative Token",
          "Niobio Cash",
          "Travelflex",
          "KREDS",
          "Stipend",
          "Callisto Network",
          "BitTube",
          "Aidos Kuneen",
          "Bitrolium",
          "Alpenschillling",
          "Bitcoin Green",
          "Monero Classic",
          "Jumpcoin",
          "Infinex",
          "GINcoin",
          "PlatinCoin",
          "Loki",
          "Newton Coin",
          "MassGrid",
          "PluraCoin",
          "Muse",
          "PlusOneCoin",
          "Absolute Coin",
          "Webchain",
          "Ryo",
          "XDNA",
          "CrypticCoin",
          "Actinium",
          "FREDEnergy",
          "Universal Molecule",
          "Lithium",
          "PirateCash",
          "Exosis",
          "Beam",
          "Bithereum",
          "UFO Coin",
          "BlakeCoin",
          "Groestlcoin",
          "JoinCoin",
          "Vollar",
          "Reality Clash",
          "Beldex",
          "Horizen"
         ],
         "legendgroup": "3",
         "marker": {
          "color": [
           3,
           3,
           3,
           3,
           3,
           3,
           3,
           3,
           3,
           3,
           3,
           3,
           3,
           3,
           3,
           3,
           3,
           3,
           3,
           3,
           3,
           3,
           3,
           3,
           3,
           3,
           3,
           3,
           3,
           3,
           3,
           3,
           3,
           3,
           3,
           3,
           3,
           3,
           3,
           3,
           3,
           3,
           3,
           3,
           3,
           3,
           3,
           3,
           3,
           3,
           3,
           3,
           3,
           3,
           3,
           3,
           3,
           3,
           3,
           3,
           3,
           3,
           3,
           3,
           3,
           3,
           3,
           3,
           3,
           3,
           3,
           3,
           3,
           3,
           3,
           3,
           3,
           3,
           3,
           3,
           3,
           3,
           3,
           3,
           3,
           3,
           3,
           3,
           3,
           3,
           3,
           3,
           3,
           3,
           3,
           3,
           3,
           3,
           3,
           3,
           3,
           3,
           3,
           3,
           3,
           3
          ],
          "coloraxis": "coloraxis",
          "symbol": "square"
         },
         "mode": "markers",
         "name": "3",
         "scene": "scene",
         "showlegend": true,
         "type": "scatter3d",
         "x": [
          -0.044115820639380667,
          -0.0019787168801870705,
          -0.04190713694535408,
          -0.034542165989834804,
          0.2626521664598679,
          -0.07616221500578786,
          -0.06045818406817424,
          -0.2600808609299686,
          0.28601445459301744,
          -0.12620090950354448,
          -0.07029897613701015,
          -0.10393698106764325,
          0.2140167324084588,
          0.3501018995932361,
          -0.25937184593121554,
          -0.12088944906267338,
          -0.08713532343260867,
          -0.09924834851953865,
          -0.04541239160841497,
          0.530150367005994,
          -0.15104789339573366,
          0.06401802524971467,
          -0.01816281205333099,
          -0.8235720988136203,
          0.008856599628586238,
          -0.09464194941336575,
          -0.1106661624993033,
          -0.04508116820936347,
          -0.03456888430618455,
          0.008864459760886425,
          0.009031413849638785,
          -0.09999152384175997,
          -0.00020256187948285487,
          -0.034589570709494304,
          -0.0996286201462456,
          -0.023933821244579153,
          -0.16173551886383636,
          -0.12666987641528557,
          -0.00013455232051170132,
          0.7092250484390461,
          0.052439455189957455,
          0.03584108925836958,
          0.020094446349204414,
          0.056178021954485714,
          0.009397136228466428,
          -0.004860099750185104,
          0.009671099113087712,
          0.25612368161392884,
          -0.1324125897972882,
          -0.034393901301296576,
          -0.016458835577726372,
          -0.13219726063968237,
          -0.04271851487424599,
          -0.13233890379302823,
          -0.10792656987428939,
          1.1590841316637652,
          0.008831706865432044,
          0.06321798766698715,
          0.014528354594138256,
          1.4108879168661705,
          -0.13241765925740742,
          -0.12316697452082022,
          0.025363592392214335,
          0.2844981899448486,
          0.014056459585438361,
          -0.015920709360252486,
          -0.08471757975583236,
          -0.17280295439390583,
          0.023708528149319976,
          0.019955543355983554,
          -0.07773905996649845,
          -0.03308086299425809,
          -0.10755111843883758,
          0.2739418951771621,
          0.00906524936916993,
          -0.12678010037345958,
          -0.09977829865601179,
          -0.11078514168725491,
          0.014704349427658055,
          0.005005101194027194,
          2.492297747360233,
          -0.08005737770361601,
          0.02720376694310405,
          0.31754243123006065,
          -0.06715060698136247,
          -0.302946311080613,
          0.015688373659788892,
          -0.006710967413723899,
          -0.28359400422190045,
          0.10591324309364256,
          -0.10994170894375596,
          0.11851311057641108,
          0.04235143130445616,
          0.041759217452992825,
          0.29659820616592764,
          -0.05096126410878846,
          -0.03167031932844299,
          -0.03417394339682482,
          -0.03456049484354006,
          0.11238382725114766,
          -0.05988728251917818,
          -0.12179398341289421,
          -0.017564051335571075,
          -0.0451244666688356,
          0.0375935755807437,
          -0.034543472362916404
         ],
         "y": [
          -1.1674924836159712,
          -1.5186306931884062,
          -1.1670158812254139,
          -1.255502448313196,
          -0.4684435862410768,
          -0.5436868481653927,
          -1.0359542347340867,
          -0.46141464050517594,
          -0.4623268143539476,
          -0.4647643126759288,
          -0.9480281156748889,
          -0.6851261248584912,
          -1.560541284235276,
          -2.6071065573815626,
          -0.4612500623048457,
          -0.5537017819618686,
          -0.5913068474468435,
          -0.7291491703718976,
          -1.167794882047058,
          -1.666299903575215,
          -1.338409944192938,
          -2.044706139538166,
          -1.387047152193253,
          1.0447622935797467,
          -1.6063472807720387,
          -0.5478289178819659,
          -0.6415616646083377,
          -1.1677198281367651,
          -1.2555086236009227,
          -1.606347238814202,
          -1.606309296797883,
          -0.7293119363240886,
          -1.51825002581004,
          -1.2555127594061413,
          -0.7292298346988138,
          -1.3432668536569279,
          -1.2506634000837125,
          -0.5099359249886387,
          -1.518221400001795,
          -1.2378616331034196,
          -1.9571497266648479,
          -1.7806023478750885,
          -1.6939724466884416,
          -1.5957311501928138,
          -1.6062294477900891,
          -0.7983489970839633,
          -1.606171756855889,
          -1.1917068349600513,
          -0.4661501376998917,
          -1.2554681805434944,
          -1.3866736976559448,
          -0.46610327370005783,
          -1.1672147051352597,
          -0.46613388139901785,
          -0.5508122115412497,
          -1.3542123502021262,
          -1.6063534374731325,
          -1.1442982714388383,
          -1.514976740425885,
          -1.6125882599318628,
          -0.4661503413528602,
          -0.4640895520032881,
          -1.737863129400431,
          -2.1259827335033528,
          -1.6051980561113557,
          -1.3865402384674352,
          -0.6808479482131314,
          -1.1629992415343982,
          -1.1528652365020748,
          -1.6039417552171216,
          -0.904609828776359,
          -1.2551726093079874,
          -0.6408866469066523,
          -2.038206397277405,
          -1.6063004117099586,
          -0.5099570037818996,
          -0.729265281104535,
          -0.641587405161854,
          -1.605090905531121,
          -1.5621504013425498,
          -1.0620449937554484,
          -0.8600590760052541,
          -1.6022665049665277,
          -2.389005899321285,
          -0.9923812141128748,
          -0.11045253404628018,
          -1.51482971758866,
          -1.4746290190320392,
          -0.24135923978803192,
          -1.2242623854724688,
          -0.6414043245944695,
          -1.5823048497549361,
          -1.8692789938559085,
          -1.8694029801534013,
          -2.213422082646363,
          -1.1239683823761892,
          -1.2548777025180782,
          -1.2554189376234643,
          -0.4441750071727916,
          -1.8542051196774514,
          -1.0358256728555078,
          -0.5539112947813337,
          -1.2068041461839558,
          -1.1677295584068486,
          -1.5999297250841642,
          -1.2555027502494986
         ],
         "z": [
          1.0125253083069272,
          1.3341564565868058,
          1.012990724019969,
          1.0929842196023634,
          0.49559317482074716,
          0.4540232012917246,
          0.8921053189089873,
          1.5380409593297555,
          0.48546992859403704,
          0.3700128928794544,
          0.811956660951493,
          0.5704793746662845,
          1.4363379174165642,
          0.3790238891679765,
          1.538028323345315,
          0.4496825656433307,
          0.49392895644623896,
          0.6106444089653233,
          1.0125684960766361,
          1.5734384222779898,
          2.342142029120763,
          1.8167773465546224,
          1.213613972084348,
          3.677812927795929,
          1.4145856466059066,
          0.4522892309742124,
          0.5301398600297552,
          1.0125882000769604,
          1.0929843232349277,
          1.4146104437763127,
          1.4146188244491607,
          0.6105213721899,
          1.3345671234581573,
          1.0929753752323432,
          0.6105447922520234,
          1.173349360916695,
          2.261770724099421,
          0.40958957065677076,
          1.334386294886572,
          2.5320595181721224,
          1.736188616637976,
          1.576123741593193,
          1.4950358459253834,
          1.4188936495560334,
          1.414682860652198,
          0.7018637598690747,
          1.414760544335826,
          1.139207668568779,
          0.3693395547058269,
          1.0929836445268333,
          1.2138924447022699,
          0.3693793465827829,
          1.0131518653030895,
          0.36935010278622415,
          0.4511219458658399,
          1.6019517597456798,
          1.4145913858071304,
          1.0346795895262617,
          1.3363483199955177,
          1.8938306477211388,
          0.36932603201011166,
          0.3703712829333509,
          1.5352239322531849,
          -0.06431408656272,
          1.41530127935207,
          1.2137632698057692,
          0.5726980009436415,
          2.1813253723711403,
          1.0269331259821315,
          1.416777086218081,
          0.7713662101790838,
          1.0930891475629658,
          0.5307565945358438,
          -0.144678041969918,
          1.4146037966164973,
          0.4095284887902934,
          0.6105572900869869,
          0.5301157195637696,
          1.415894631326948,
          1.3746922505866719,
          1.8202295306838014,
          0.731473638577953,
          1.4167489724705598,
          0.17694084354416076,
          0.8517647588729631,
          1.2165212458098902,
          1.338037785703167,
          1.2941495359713546,
          1.3378267417763665,
          1.1095456900573182,
          0.5302783420276487,
          1.432374793364946,
          1.6560163608135223,
          1.6558383386210438,
          0.01632096673646709,
          0.972374934814494,
          1.0935188376004399,
          1.093005104667182,
          0.37792731344072183,
          1.6713068818793972,
          0.8921505028035703,
          0.44969239383592,
          1.057386470494155,
          1.0125844913044788,
          1.4176119997856076,
          1.092984224669404
         ]
        },
        {
         "customdata": [
          [
           50
          ],
          [
           47
          ],
          [
           52
          ],
          [
           41
          ],
          [
           52
          ],
          [
           64
          ],
          [
           52
          ],
          [
           52
          ],
          [
           64
          ],
          [
           34
          ],
          [
           38
          ],
          [
           34
          ],
          [
           54
          ],
          [
           52
          ],
          [
           52
          ],
          [
           64
          ],
          [
           64
          ],
          [
           52
          ],
          [
           52
          ],
          [
           52
          ],
          [
           52
          ],
          [
           41
          ],
          [
           40
          ],
          [
           66
          ],
          [
           64
          ],
          [
           52
          ],
          [
           41
          ],
          [
           41
          ],
          [
           66
          ],
          [
           41
          ],
          [
           14
          ],
          [
           41
          ],
          [
           41
          ],
          [
           52
          ],
          [
           46
          ],
          [
           52
          ],
          [
           66
          ],
          [
           52
          ],
          [
           41
          ],
          [
           41
          ],
          [
           47
          ],
          [
           52
          ],
          [
           41
          ],
          [
           47
          ],
          [
           40
          ],
          [
           57
          ],
          [
           52
          ],
          [
           41
          ],
          [
           50
          ],
          [
           37
          ],
          [
           31
          ],
          [
           39
          ],
          [
           47
          ],
          [
           14
          ],
          [
           35
          ],
          [
           46
          ],
          [
           46
          ],
          [
           64
          ],
          [
           40
          ],
          [
           66
          ],
          [
           43
          ],
          [
           42
          ],
          [
           52
          ],
          [
           62
          ],
          [
           52
          ],
          [
           41
          ],
          [
           53
          ],
          [
           41
          ],
          [
           69
          ],
          [
           70
          ],
          [
           52
          ],
          [
           52
          ],
          [
           68
          ],
          [
           52
          ],
          [
           46
          ],
          [
           47
          ],
          [
           46
          ],
          [
           52
          ],
          [
           46
          ],
          [
           64
          ],
          [
           52
          ],
          [
           41
          ],
          [
           64
          ],
          [
           17
          ],
          [
           70
          ],
          [
           64
          ],
          [
           46
          ],
          [
           64
          ],
          [
           14
          ],
          [
           47
          ],
          [
           41
          ],
          [
           14
          ],
          [
           52
          ],
          [
           14
          ],
          [
           14
          ],
          [
           47
          ],
          [
           29
          ],
          [
           41
          ],
          [
           41
          ],
          [
           47
          ],
          [
           52
          ]
         ],
         "hovertemplate": "<b>%{hovertext}</b><br><br>class=%{marker.color}<br>PC 1=%{x}<br>PC 2=%{y}<br>PC 3=%{z}<br>Algorithm=%{customdata[0]}<extra></extra>",
         "hovertext": [
          "Bitshares",
          "PayCoin",
          "CasinoCoin",
          "Exclusive Coin",
          "FlutterCoin",
          "HyperStake",
          "MintCoin",
          "Nautilus Coin",
          "SuperCoin",
          "TeslaCoin",
          "TittieCoin",
          "Crypti",
          "BurstCoin",
          "RubyCoin",
          "Dnotes",
          "Ucoin",
          "Squall Coin",
          "Diggits",
          "GPU Coin",
          "ZeitCoin",
          "SafeExchangeCoin",
          "Nebuchadnezzar",
          "Let it Ride",
          "MudraCoin",
          "Lutetium Coin",
          "BitCurrency",
          "Opair",
          "CoffeeCoin",
          "RoyalCoin",
          "TeamUP",
          "ARK",
          "FreeCoin",
          "Creatio",
          "PandaCoin",
          "Allsafe",
          "Zilbercoin",
          "FindCoin",
          "RenosCoin",
          "Atmos",
          "MacronCoin",
          "ProCurrency",
          "GrowthCoin",
          "Phreak",
          "Ultimate Secure Cash",
          "QTUM",
          "Signatum",
          "Draftcoin",
          "Stakecoin",
          "Obsidian",
          "Cardano",
          "Rupee",
          "KekCoin",
          "Infinity Economics",
          "Lamden Tau",
          "Bulwark",
          "Kalkulus",
          "Digiwage",
          "Monkey Project",
          "TokenPay",
          "Tokyo Coin",
          "BiblePay",
          "Poa Network",
          "Velox",
          "Ontology",
          "MedicCoin",
          "Deviant Coin",
          "Semux",
          "Zealium",
          "Proton",
          "Bitcoin Incognito",
          "HollyWoodCoin",
          "Xt3ch",
          "Dekado",
          "Lynx",
          "Poseidon Quark",
          "BitcoinWSpectrum",
          "Dystem",
          "Peony Coin",
          "Vitae",
          "ARENON",
          "MMOCoin",
          "Ketan",
          "PAXEX",
          "Acute Angle Cloud",
          "Bettex coin",
          "Junson Ming Chan Coin",
          "Crypto Sports",
          "Dash Platinum",
          "ALAX",
          "NeosCoin",
          "Radium",
          "Lisk",
          "HiCoin",
          "EOS",
          "Oxycoin",
          "TigerCash",
          "Waves",
          "Particl",
          "Nxt",
          "ZEPHYR",
          "BitcoinPlus"
         ],
         "legendgroup": "0",
         "marker": {
          "color": [
           0,
           0,
           0,
           0,
           0,
           0,
           0,
           0,
           0,
           0,
           0,
           0,
           0,
           0,
           0,
           0,
           0,
           0,
           0,
           0,
           0,
           0,
           0,
           0,
           0,
           0,
           0,
           0,
           0,
           0,
           0,
           0,
           0,
           0,
           0,
           0,
           0,
           0,
           0,
           0,
           0,
           0,
           0,
           0,
           0,
           0,
           0,
           0,
           0,
           0,
           0,
           0,
           0,
           0,
           0,
           0,
           0,
           0,
           0,
           0,
           0,
           0,
           0,
           0,
           0,
           0,
           0,
           0,
           0,
           0,
           0,
           0,
           0,
           0,
           0,
           0,
           0,
           0,
           0,
           0,
           0,
           0,
           0,
           0,
           0,
           0,
           0,
           0,
           0,
           0,
           0,
           0,
           0,
           0,
           0,
           0,
           0,
           0,
           0,
           0,
           0
          ],
          "coloraxis": "coloraxis",
          "symbol": "x"
         },
         "mode": "markers",
         "name": "0",
         "scene": "scene",
         "showlegend": true,
         "type": "scatter3d",
         "x": [
          0.19911554310682364,
          0.13794113368146296,
          1.1848347385742672,
          0.17034690532623845,
          -0.08070213687288275,
          0.07053354474787706,
          0.4319675558451602,
          0.11085193738978581,
          0.045954706760368134,
          0.21054938816654026,
          0.23432267266396178,
          0.2098364948555247,
          0.21480806015544565,
          0.11085452639623745,
          0.11813582762208116,
          0.04543185987512152,
          -0.08688564464530206,
          0.11296493666739536,
          0.11328995878908706,
          1.6695212094245102,
          0.23061932110558098,
          0.17076532116445964,
          0.17662040909960516,
          0.036410612141433915,
          0.061751219529893986,
          0.11300488085848891,
          0.1721271053171228,
          0.17291104404821023,
          0.034376247448459796,
          0.17357314475178884,
          0.7162213773451741,
          0.17152158432752682,
          0.17076532116445964,
          0.9497075150512859,
          0.14338201411692542,
          0.11104420953500552,
          0.03467937606316277,
          0.11133642770606925,
          0.17305419305087355,
          0.18036611673196717,
          0.8973617722508322,
          0.13511933236806753,
          0.1707364142127499,
          0.13981256238756995,
          0.17821993986584259,
          0.08627484021350854,
          0.11090182656185749,
          0.17094428570408848,
          0.12262126942483287,
          1.0384195596626455,
          0.225245325584908,
          0.18153546499453926,
          0.3645125928923309,
          0.7227286183903326,
          0.20336886571483173,
          0.14352977066113962,
          0.1446969032100535,
          0.04546790149332536,
          0.17626051762788564,
          0.04587814921026626,
          0.4368313955297508,
          0.3025426358648857,
          0.11208372270592408,
          0.07600171877354193,
          0.1195348019144343,
          0.1714811000180903,
          0.5022746933862359,
          0.17123713166070179,
          0.01852089189079121,
          -0.11914116077358249,
          0.11129135153633538,
          0.11100408367043453,
          0.024804510822644166,
          2.54652817934393,
          0.1496837277341371,
          0.13952014747996355,
          0.14339079905220356,
          0.281107580812674,
          0.14507987537714315,
          0.04603603312115784,
          0.11469968026014746,
          0.17252496681660265,
          0.04626801979097727,
          0.7882587748068862,
          0.013169513072078665,
          0.30504696098677636,
          0.14323593727071746,
          0.045399018701721236,
          0.7385326898085924,
          0.13791226296251963,
          0.17040982907605196,
          0.7167527073755823,
          0.36262479849547363,
          0.7287334317538077,
          0.7302711112595934,
          0.1628424162254283,
          0.5021963693227088,
          0.1704886012026675,
          0.12943008202674622,
          0.5842902030442172,
          0.11045610657185374
         ],
         "y": [
          -0.79300809663761,
          -0.9418971181348265,
          -0.6877246722973008,
          -1.2050631776883092,
          -0.14621626572764057,
          -0.1906107276145999,
          -0.6483898251197203,
          -0.722610485528583,
          -0.19629152705503622,
          -1.511555014777789,
          -1.3259767563015565,
          -1.5117036488741604,
          -0.8155981778857646,
          -0.7226072766907554,
          -0.7210050504500934,
          -0.19641559713533577,
          0.1867821066594189,
          -0.7221356406050623,
          -0.7220800500758453,
          -0.37833193778396024,
          -0.9021612559631429,
          -1.2049696978276594,
          -1.2487282617831699,
          -0.10831038601930768,
          -0.19274654727019974,
          -0.7221102746586776,
          -1.2046636668688218,
          -1.2044769930196317,
          -0.10874871556824868,
          -1.2043660738633808,
          -3.538207557589043,
          -1.2047997461728557,
          -1.2049696978276594,
          -0.5339727484954047,
          -0.9857496413398869,
          -0.7225723096566132,
          -0.10868059482377425,
          -0.7225014512435379,
          -1.2044552480994386,
          -1.2028120164095413,
          -0.7784738920908385,
          -0.7173217344983345,
          -1.2049779923471164,
          -0.9414948474913519,
          -1.24836929821574,
          -0.5027622222548838,
          -0.7225991526452846,
          -1.204935046198979,
          -0.8101217188782703,
          -1.1921281437938547,
          -1.6434750856159173,
          -1.2926998964439818,
          -0.8909806737193859,
          -3.536764069221102,
          -1.4680933086261065,
          -0.9857162977063635,
          -0.9854626772794829,
          -0.19640742833178476,
          -1.2488100705519807,
          -0.10621899845981285,
          -1.6747561124408923,
          -1.5432168845948206,
          -0.7223431838548035,
          -0.27972752420970703,
          -0.7206817116339448,
          -1.2048152339860265,
          -1.828375861911823,
          -1.2048703306209843,
          0.022908788870488323,
          0.4499815227392704,
          -0.7225105099977928,
          -0.7225798090521827,
          -0.020755812741285094,
          -1.2089448904281368,
          -0.9843956035604574,
          -0.9415463269703971,
          -0.9857485789453774,
          -0.6859808208677514,
          -0.9853709358316863,
          -0.19628160404958395,
          -0.7217605110094881,
          -1.2045936528738976,
          -0.19623524620313065,
          -3.5932583210964895,
          0.06678078815669942,
          -0.13640866629576168,
          -0.9857831404618828,
          -0.19642313917080254,
          -3.53319201234139,
          -0.9419051622726617,
          -1.2050500864407263,
          -3.5380903872722738,
          -0.6660315211977395,
          -3.535295533843051,
          -3.5349401366969184,
          -0.9363011149654076,
          -2.4972490436566064,
          -1.205031821156059,
          -1.0077932206129772,
          -2.0803843987682926,
          -0.7226995230622906
         ],
         "z": [
          -1.2625895581452065,
          -1.149777800362758,
          -1.4798195236456986,
          -0.9085857667852468,
          -0.704738506891284,
          -1.8333580540977332,
          -1.3520680725797685,
          -1.3507860394257407,
          -1.8332627199462355,
          -0.6269457319251637,
          -0.7829697029699194,
          -0.6271686727976119,
          -1.64191554085374,
          -1.3508225686949666,
          -1.3497222808515112,
          -1.8332155507799195,
          -1.402520091381575,
          -1.3506050483836396,
          -1.3503330860229248,
          -1.1334192645191692,
          -1.5615537922467395,
          -0.9085422485027974,
          -0.8683101651474122,
          -1.9132229356852595,
          -1.8318411017421445,
          -1.3508309092934188,
          -0.9084256492387033,
          -0.9085054301713468,
          -1.9136608140038054,
          -0.907918905434533,
          -1.1150463338111725,
          -0.9084774700338993,
          -0.9085422485027974,
          -1.2806881238897474,
          -1.1095689380747296,
          -1.3506991661327528,
          -1.9136348492226307,
          -1.350746735355057,
          -0.9083473363748233,
          -0.9077218044755878,
          -0.9834721015844489,
          -1.346402565249769,
          -0.9085195657833638,
          -1.1493616703364713,
          -0.8681662747859266,
          -1.5515385016768897,
          -1.3507834660215896,
          -0.9084490490462956,
          -1.270213291691493,
          -0.6494877847286976,
          -0.5065013000421837,
          -0.8281331192358752,
          -1.130371280277574,
          -1.114225176086175,
          -0.6673053530351696,
          -1.1095582258804206,
          -1.1093370468696333,
          -1.833213433515077,
          -0.8683279542413694,
          -1.911905421635778,
          -1.623672387405725,
          -1.3789803991645082,
          -1.3505474609767292,
          -1.7506735573154502,
          -1.3497277070651994,
          -0.9083915447354562,
          -2.6830215293669304,
          -0.9084086549315104,
          -2.0341763606240915,
          -1.6436935227483358,
          -1.350765579458162,
          -1.3507238381537838,
          -1.9938748420325503,
          -2.2281887863537397,
          -1.1081601476261786,
          -1.1495858403542139,
          -1.10955542979026,
          -1.3133837616202213,
          -1.1093836735026705,
          -1.83313889709965,
          -1.3502506473839777,
          -0.9081202322975988,
          -1.8330382292182978,
          -1.449137478039262,
          -2.074368642114472,
          -1.8342676633137316,
          -1.1095720504926425,
          -1.8332161005165104,
          -1.1131579455851828,
          -1.1497585033735291,
          -0.9085656973101285,
          -1.114969581769371,
          -1.329208571880673,
          -1.1153769968972056,
          -1.1153829611080053,
          -1.1476455386509832,
          -1.2874100885399626,
          -0.9085668286121481,
          -0.6910563127974754,
          -2.4377052906820142,
          -1.3508187662807687
         ]
        },
        {
         "customdata": [
          [
           59
          ]
         ],
         "hovertemplate": "<b>%{hovertext}</b><br><br>class=%{marker.color}<br>PC 1=%{x}<br>PC 2=%{y}<br>PC 3=%{z}<br>Algorithm=%{customdata[0]}<extra></extra>",
         "hovertext": [
          "BitTorrent"
         ],
         "legendgroup": "2",
         "marker": {
          "color": [
           2
          ],
          "coloraxis": "coloraxis",
          "symbol": "cross"
         },
         "mode": "markers",
         "name": "2",
         "scene": "scene",
         "showlegend": true,
         "type": "scatter3d",
         "x": [
          25.425131617698273
         ],
         "y": [
          4.04288436880068
         ],
         "z": [
          -0.7867724942297915
         ]
        }
       ],
       "layout": {
        "coloraxis": {
         "colorbar": {
          "title": {
           "text": "class"
          }
         },
         "colorscale": [
          [
           0,
           "#0d0887"
          ],
          [
           0.1111111111111111,
           "#46039f"
          ],
          [
           0.2222222222222222,
           "#7201a8"
          ],
          [
           0.3333333333333333,
           "#9c179e"
          ],
          [
           0.4444444444444444,
           "#bd3786"
          ],
          [
           0.5555555555555556,
           "#d8576b"
          ],
          [
           0.6666666666666666,
           "#ed7953"
          ],
          [
           0.7777777777777778,
           "#fb9f3a"
          ],
          [
           0.8888888888888888,
           "#fdca26"
          ],
          [
           1,
           "#f0f921"
          ]
         ]
        },
        "legend": {
         "title": {
          "text": "class"
         },
         "tracegroupgap": 0,
         "x": 0,
         "y": 1
        },
        "margin": {
         "t": 60
        },
        "scene": {
         "domain": {
          "x": [
           0,
           1
          ],
          "y": [
           0,
           1
          ]
         },
         "xaxis": {
          "title": {
           "text": "PC 1"
          }
         },
         "yaxis": {
          "title": {
           "text": "PC 2"
          }
         },
         "zaxis": {
          "title": {
           "text": "PC 3"
          }
         }
        },
        "template": {
         "data": {
          "bar": [
           {
            "error_x": {
             "color": "#2a3f5f"
            },
            "error_y": {
             "color": "#2a3f5f"
            },
            "marker": {
             "line": {
              "color": "#E5ECF6",
              "width": 0.5
             }
            },
            "type": "bar"
           }
          ],
          "barpolar": [
           {
            "marker": {
             "line": {
              "color": "#E5ECF6",
              "width": 0.5
             }
            },
            "type": "barpolar"
           }
          ],
          "carpet": [
           {
            "aaxis": {
             "endlinecolor": "#2a3f5f",
             "gridcolor": "white",
             "linecolor": "white",
             "minorgridcolor": "white",
             "startlinecolor": "#2a3f5f"
            },
            "baxis": {
             "endlinecolor": "#2a3f5f",
             "gridcolor": "white",
             "linecolor": "white",
             "minorgridcolor": "white",
             "startlinecolor": "#2a3f5f"
            },
            "type": "carpet"
           }
          ],
          "choropleth": [
           {
            "colorbar": {
             "outlinewidth": 0,
             "ticks": ""
            },
            "type": "choropleth"
           }
          ],
          "contour": [
           {
            "colorbar": {
             "outlinewidth": 0,
             "ticks": ""
            },
            "colorscale": [
             [
              0,
              "#0d0887"
             ],
             [
              0.1111111111111111,
              "#46039f"
             ],
             [
              0.2222222222222222,
              "#7201a8"
             ],
             [
              0.3333333333333333,
              "#9c179e"
             ],
             [
              0.4444444444444444,
              "#bd3786"
             ],
             [
              0.5555555555555556,
              "#d8576b"
             ],
             [
              0.6666666666666666,
              "#ed7953"
             ],
             [
              0.7777777777777778,
              "#fb9f3a"
             ],
             [
              0.8888888888888888,
              "#fdca26"
             ],
             [
              1,
              "#f0f921"
             ]
            ],
            "type": "contour"
           }
          ],
          "contourcarpet": [
           {
            "colorbar": {
             "outlinewidth": 0,
             "ticks": ""
            },
            "type": "contourcarpet"
           }
          ],
          "heatmap": [
           {
            "colorbar": {
             "outlinewidth": 0,
             "ticks": ""
            },
            "colorscale": [
             [
              0,
              "#0d0887"
             ],
             [
              0.1111111111111111,
              "#46039f"
             ],
             [
              0.2222222222222222,
              "#7201a8"
             ],
             [
              0.3333333333333333,
              "#9c179e"
             ],
             [
              0.4444444444444444,
              "#bd3786"
             ],
             [
              0.5555555555555556,
              "#d8576b"
             ],
             [
              0.6666666666666666,
              "#ed7953"
             ],
             [
              0.7777777777777778,
              "#fb9f3a"
             ],
             [
              0.8888888888888888,
              "#fdca26"
             ],
             [
              1,
              "#f0f921"
             ]
            ],
            "type": "heatmap"
           }
          ],
          "heatmapgl": [
           {
            "colorbar": {
             "outlinewidth": 0,
             "ticks": ""
            },
            "colorscale": [
             [
              0,
              "#0d0887"
             ],
             [
              0.1111111111111111,
              "#46039f"
             ],
             [
              0.2222222222222222,
              "#7201a8"
             ],
             [
              0.3333333333333333,
              "#9c179e"
             ],
             [
              0.4444444444444444,
              "#bd3786"
             ],
             [
              0.5555555555555556,
              "#d8576b"
             ],
             [
              0.6666666666666666,
              "#ed7953"
             ],
             [
              0.7777777777777778,
              "#fb9f3a"
             ],
             [
              0.8888888888888888,
              "#fdca26"
             ],
             [
              1,
              "#f0f921"
             ]
            ],
            "type": "heatmapgl"
           }
          ],
          "histogram": [
           {
            "marker": {
             "colorbar": {
              "outlinewidth": 0,
              "ticks": ""
             }
            },
            "type": "histogram"
           }
          ],
          "histogram2d": [
           {
            "colorbar": {
             "outlinewidth": 0,
             "ticks": ""
            },
            "colorscale": [
             [
              0,
              "#0d0887"
             ],
             [
              0.1111111111111111,
              "#46039f"
             ],
             [
              0.2222222222222222,
              "#7201a8"
             ],
             [
              0.3333333333333333,
              "#9c179e"
             ],
             [
              0.4444444444444444,
              "#bd3786"
             ],
             [
              0.5555555555555556,
              "#d8576b"
             ],
             [
              0.6666666666666666,
              "#ed7953"
             ],
             [
              0.7777777777777778,
              "#fb9f3a"
             ],
             [
              0.8888888888888888,
              "#fdca26"
             ],
             [
              1,
              "#f0f921"
             ]
            ],
            "type": "histogram2d"
           }
          ],
          "histogram2dcontour": [
           {
            "colorbar": {
             "outlinewidth": 0,
             "ticks": ""
            },
            "colorscale": [
             [
              0,
              "#0d0887"
             ],
             [
              0.1111111111111111,
              "#46039f"
             ],
             [
              0.2222222222222222,
              "#7201a8"
             ],
             [
              0.3333333333333333,
              "#9c179e"
             ],
             [
              0.4444444444444444,
              "#bd3786"
             ],
             [
              0.5555555555555556,
              "#d8576b"
             ],
             [
              0.6666666666666666,
              "#ed7953"
             ],
             [
              0.7777777777777778,
              "#fb9f3a"
             ],
             [
              0.8888888888888888,
              "#fdca26"
             ],
             [
              1,
              "#f0f921"
             ]
            ],
            "type": "histogram2dcontour"
           }
          ],
          "mesh3d": [
           {
            "colorbar": {
             "outlinewidth": 0,
             "ticks": ""
            },
            "type": "mesh3d"
           }
          ],
          "parcoords": [
           {
            "line": {
             "colorbar": {
              "outlinewidth": 0,
              "ticks": ""
             }
            },
            "type": "parcoords"
           }
          ],
          "pie": [
           {
            "automargin": true,
            "type": "pie"
           }
          ],
          "scatter": [
           {
            "marker": {
             "colorbar": {
              "outlinewidth": 0,
              "ticks": ""
             }
            },
            "type": "scatter"
           }
          ],
          "scatter3d": [
           {
            "line": {
             "colorbar": {
              "outlinewidth": 0,
              "ticks": ""
             }
            },
            "marker": {
             "colorbar": {
              "outlinewidth": 0,
              "ticks": ""
             }
            },
            "type": "scatter3d"
           }
          ],
          "scattercarpet": [
           {
            "marker": {
             "colorbar": {
              "outlinewidth": 0,
              "ticks": ""
             }
            },
            "type": "scattercarpet"
           }
          ],
          "scattergeo": [
           {
            "marker": {
             "colorbar": {
              "outlinewidth": 0,
              "ticks": ""
             }
            },
            "type": "scattergeo"
           }
          ],
          "scattergl": [
           {
            "marker": {
             "colorbar": {
              "outlinewidth": 0,
              "ticks": ""
             }
            },
            "type": "scattergl"
           }
          ],
          "scattermapbox": [
           {
            "marker": {
             "colorbar": {
              "outlinewidth": 0,
              "ticks": ""
             }
            },
            "type": "scattermapbox"
           }
          ],
          "scatterpolar": [
           {
            "marker": {
             "colorbar": {
              "outlinewidth": 0,
              "ticks": ""
             }
            },
            "type": "scatterpolar"
           }
          ],
          "scatterpolargl": [
           {
            "marker": {
             "colorbar": {
              "outlinewidth": 0,
              "ticks": ""
             }
            },
            "type": "scatterpolargl"
           }
          ],
          "scatterternary": [
           {
            "marker": {
             "colorbar": {
              "outlinewidth": 0,
              "ticks": ""
             }
            },
            "type": "scatterternary"
           }
          ],
          "surface": [
           {
            "colorbar": {
             "outlinewidth": 0,
             "ticks": ""
            },
            "colorscale": [
             [
              0,
              "#0d0887"
             ],
             [
              0.1111111111111111,
              "#46039f"
             ],
             [
              0.2222222222222222,
              "#7201a8"
             ],
             [
              0.3333333333333333,
              "#9c179e"
             ],
             [
              0.4444444444444444,
              "#bd3786"
             ],
             [
              0.5555555555555556,
              "#d8576b"
             ],
             [
              0.6666666666666666,
              "#ed7953"
             ],
             [
              0.7777777777777778,
              "#fb9f3a"
             ],
             [
              0.8888888888888888,
              "#fdca26"
             ],
             [
              1,
              "#f0f921"
             ]
            ],
            "type": "surface"
           }
          ],
          "table": [
           {
            "cells": {
             "fill": {
              "color": "#EBF0F8"
             },
             "line": {
              "color": "white"
             }
            },
            "header": {
             "fill": {
              "color": "#C8D4E3"
             },
             "line": {
              "color": "white"
             }
            },
            "type": "table"
           }
          ]
         },
         "layout": {
          "annotationdefaults": {
           "arrowcolor": "#2a3f5f",
           "arrowhead": 0,
           "arrowwidth": 1
          },
          "autotypenumbers": "strict",
          "coloraxis": {
           "colorbar": {
            "outlinewidth": 0,
            "ticks": ""
           }
          },
          "colorscale": {
           "diverging": [
            [
             0,
             "#8e0152"
            ],
            [
             0.1,
             "#c51b7d"
            ],
            [
             0.2,
             "#de77ae"
            ],
            [
             0.3,
             "#f1b6da"
            ],
            [
             0.4,
             "#fde0ef"
            ],
            [
             0.5,
             "#f7f7f7"
            ],
            [
             0.6,
             "#e6f5d0"
            ],
            [
             0.7,
             "#b8e186"
            ],
            [
             0.8,
             "#7fbc41"
            ],
            [
             0.9,
             "#4d9221"
            ],
            [
             1,
             "#276419"
            ]
           ],
           "sequential": [
            [
             0,
             "#0d0887"
            ],
            [
             0.1111111111111111,
             "#46039f"
            ],
            [
             0.2222222222222222,
             "#7201a8"
            ],
            [
             0.3333333333333333,
             "#9c179e"
            ],
            [
             0.4444444444444444,
             "#bd3786"
            ],
            [
             0.5555555555555556,
             "#d8576b"
            ],
            [
             0.6666666666666666,
             "#ed7953"
            ],
            [
             0.7777777777777778,
             "#fb9f3a"
            ],
            [
             0.8888888888888888,
             "#fdca26"
            ],
            [
             1,
             "#f0f921"
            ]
           ],
           "sequentialminus": [
            [
             0,
             "#0d0887"
            ],
            [
             0.1111111111111111,
             "#46039f"
            ],
            [
             0.2222222222222222,
             "#7201a8"
            ],
            [
             0.3333333333333333,
             "#9c179e"
            ],
            [
             0.4444444444444444,
             "#bd3786"
            ],
            [
             0.5555555555555556,
             "#d8576b"
            ],
            [
             0.6666666666666666,
             "#ed7953"
            ],
            [
             0.7777777777777778,
             "#fb9f3a"
            ],
            [
             0.8888888888888888,
             "#fdca26"
            ],
            [
             1,
             "#f0f921"
            ]
           ]
          },
          "colorway": [
           "#636efa",
           "#EF553B",
           "#00cc96",
           "#ab63fa",
           "#FFA15A",
           "#19d3f3",
           "#FF6692",
           "#B6E880",
           "#FF97FF",
           "#FECB52"
          ],
          "font": {
           "color": "#2a3f5f"
          },
          "geo": {
           "bgcolor": "white",
           "lakecolor": "white",
           "landcolor": "#E5ECF6",
           "showlakes": true,
           "showland": true,
           "subunitcolor": "white"
          },
          "hoverlabel": {
           "align": "left"
          },
          "hovermode": "closest",
          "mapbox": {
           "style": "light"
          },
          "paper_bgcolor": "white",
          "plot_bgcolor": "#E5ECF6",
          "polar": {
           "angularaxis": {
            "gridcolor": "white",
            "linecolor": "white",
            "ticks": ""
           },
           "bgcolor": "#E5ECF6",
           "radialaxis": {
            "gridcolor": "white",
            "linecolor": "white",
            "ticks": ""
           }
          },
          "scene": {
           "xaxis": {
            "backgroundcolor": "#E5ECF6",
            "gridcolor": "white",
            "gridwidth": 2,
            "linecolor": "white",
            "showbackground": true,
            "ticks": "",
            "zerolinecolor": "white"
           },
           "yaxis": {
            "backgroundcolor": "#E5ECF6",
            "gridcolor": "white",
            "gridwidth": 2,
            "linecolor": "white",
            "showbackground": true,
            "ticks": "",
            "zerolinecolor": "white"
           },
           "zaxis": {
            "backgroundcolor": "#E5ECF6",
            "gridcolor": "white",
            "gridwidth": 2,
            "linecolor": "white",
            "showbackground": true,
            "ticks": "",
            "zerolinecolor": "white"
           }
          },
          "shapedefaults": {
           "line": {
            "color": "#2a3f5f"
           }
          },
          "ternary": {
           "aaxis": {
            "gridcolor": "white",
            "linecolor": "white",
            "ticks": ""
           },
           "baxis": {
            "gridcolor": "white",
            "linecolor": "white",
            "ticks": ""
           },
           "bgcolor": "#E5ECF6",
           "caxis": {
            "gridcolor": "white",
            "linecolor": "white",
            "ticks": ""
           }
          },
          "title": {
           "x": 0.05
          },
          "xaxis": {
           "automargin": true,
           "gridcolor": "white",
           "linecolor": "white",
           "ticks": "",
           "title": {
            "standoff": 15
           },
           "zerolinecolor": "white",
           "zerolinewidth": 2
          },
          "yaxis": {
           "automargin": true,
           "gridcolor": "white",
           "linecolor": "white",
           "ticks": "",
           "title": {
            "standoff": 15
           },
           "zerolinecolor": "white",
           "zerolinewidth": 2
          }
         }
        },
        "width": 800
       }
      }
     },
     "metadata": {}
    }
   ],
   "source": [
    "# Creating a 3D-Scatter with the PCA data and the clusters\n",
    "fig = px.scatter_3d(\n",
    "    clustered_df,\n",
    "    x=\"PC 1\",\n",
    "    y=\"PC 2\",\n",
    "    z=\"PC 3\",\n",
    "    hover_name=\"CoinName\",\n",
    "    hover_data=[\"Algorithm\"],\n",
    "    color=\"class\",\n",
    "    symbol=\"class\",\n",
    "    width=800\n",
    ")\n",
    "fig.update_layout(legend=dict(x=0, y=1))\n",
    "fig.show()"
   ]
  },
  {
   "cell_type": "markdown",
   "metadata": {},
   "source": [
    "#### Table of Tradable Cryptocurrencies"
   ]
  },
  {
   "cell_type": "code",
   "execution_count": 79,
   "metadata": {},
   "outputs": [
    {
     "output_type": "display_data",
     "data": {},
     "metadata": {}
    },
    {
     "output_type": "execute_result",
     "data": {
      "text/html": "<div id='1305'>\n\n\n\n\n\n  <div class=\"bk-root\" id=\"6fe2e2d8-3dd6-44c1-8650-dbb9c0c43f61\" data-root-id=\"1305\"></div>\n</div>\n<script type=\"application/javascript\">(function(root) {\n  function embed_document(root) {\n    var docs_json = {\"926ae529-1fbc-44bd-b8be-722521edea1f\":{\"roots\":{\"references\":[{\"attributes\":{},\"id\":\"1308\",\"type\":\"Selection\"},{\"attributes\":{\"editor\":{\"id\":\"1330\"},\"field\":\"TotalCoinsMined\",\"formatter\":{\"id\":\"1329\"},\"title\":\"TotalCoinsMined\"},\"id\":\"1331\",\"type\":\"TableColumn\"},{\"attributes\":{},\"id\":\"1315\",\"type\":\"IntEditor\"},{\"attributes\":{\"editor\":{\"id\":\"1325\"},\"field\":\"TotalCoinSupply\",\"formatter\":{\"id\":\"1324\"},\"title\":\"TotalCoinSupply\"},\"id\":\"1326\",\"type\":\"TableColumn\"},{\"attributes\":{\"format\":\"0,0.0[00000]\"},\"id\":\"1329\",\"type\":\"NumberFormatter\"},{\"attributes\":{\"margin\":[5,5,5,5],\"name\":\"HSpacer02141\",\"sizing_mode\":\"stretch_width\"},\"id\":\"1306\",\"type\":\"Spacer\"},{\"attributes\":{},\"id\":\"1320\",\"type\":\"IntEditor\"},{\"attributes\":{},\"id\":\"1335\",\"type\":\"IntEditor\"},{\"attributes\":{\"editor\":{\"id\":\"1315\"},\"field\":\"Algorithm\",\"formatter\":{\"id\":\"1314\"},\"title\":\"Algorithm\"},\"id\":\"1316\",\"type\":\"TableColumn\"},{\"attributes\":{\"children\":[{\"id\":\"1306\"},{\"id\":\"1339\"},{\"id\":\"1345\"}],\"margin\":[0,0,0,0],\"name\":\"Row02137\",\"tags\":[\"embedded\"]},\"id\":\"1305\",\"type\":\"Row\"},{\"attributes\":{},\"id\":\"1334\",\"type\":\"NumberFormatter\"},{\"attributes\":{},\"id\":\"1319\",\"type\":\"NumberFormatter\"},{\"attributes\":{\"columns\":[{\"id\":\"1311\"},{\"id\":\"1316\"},{\"id\":\"1321\"},{\"id\":\"1326\"},{\"id\":\"1331\"},{\"id\":\"1336\"}],\"height\":300,\"reorderable\":false,\"source\":{\"id\":\"1307\"},\"view\":{\"id\":\"1340\"}},\"id\":\"1339\",\"type\":\"DataTable\"},{\"attributes\":{},\"id\":\"1330\",\"type\":\"NumberEditor\"},{\"attributes\":{\"editor\":{\"id\":\"1335\"},\"field\":\"class\",\"formatter\":{\"id\":\"1334\"},\"title\":\"class\"},\"id\":\"1336\",\"type\":\"TableColumn\"},{\"attributes\":{\"source\":{\"id\":\"1307\"}},\"id\":\"1340\",\"type\":\"CDSView\"},{\"attributes\":{},\"id\":\"1325\",\"type\":\"StringEditor\"},{\"attributes\":{},\"id\":\"1342\",\"type\":\"UnionRenderers\"},{\"attributes\":{},\"id\":\"1309\",\"type\":\"StringFormatter\"},{\"attributes\":{\"editor\":{\"id\":\"1320\"},\"field\":\"ProofType\",\"formatter\":{\"id\":\"1319\"},\"title\":\"ProofType\"},\"id\":\"1321\",\"type\":\"TableColumn\"},{\"attributes\":{\"data\":{\"Algorithm\":{\"__ndarray__\":\"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\",\"dtype\":\"int32\",\"order\":\"little\",\"shape\":[532]},\"CoinName\":[\"42 Coin\",\"404Coin\",\"EliteCoin\",\"Bitcoin\",\"Ethereum\",\"Litecoin\",\"Dash\",\"Monero\",\"Ethereum Classic\",\"ZCash\",\"Bitshares\",\"DigiByte\",\"BitcoinDark\",\"PayCoin\",\"ProsperCoin\",\"KoboCoin\",\"Spreadcoin\",\"Argentum\",\"Aurora Coin\",\"BlueCoin\",\"MyriadCoin\",\"MoonCoin\",\"ZetaCoin\",\"SexCoin\",\"Quatloo\",\"EnergyCoin\",\"QuarkCoin\",\"Riecoin\",\"Digitalcoin \",\"BitBar\",\"Catcoin\",\"CryptoBullion\",\"CannaCoin\",\"CryptCoin\",\"CasinoCoin\",\"Diamond\",\"Verge\",\"DevCoin\",\"EarthCoin\",\"E-Gulden\",\"Einsteinium\",\"Emerald\",\"Exclusive Coin\",\"FlutterCoin\",\"Franko\",\"FeatherCoin\",\"GrandCoin\",\"GlobalCoin\",\"GoldCoin\",\"HoboNickels\",\"HyperStake\",\"Infinite Coin\",\"IOCoin\",\"IXcoin\",\"KrugerCoin\",\"LuckyCoin\",\"Litebar \",\"MaxCoin\",\"MegaCoin\",\"MediterraneanCoin\",\"MintCoin\",\"MinCoin\",\"MazaCoin\",\"Nautilus Coin\",\"NavCoin\",\"NobleCoin\",\"Namecoin\",\"NyanCoin\",\"OpalCoin\",\"Orbitcoin\",\"PotCoin\",\"PhoenixCoin\",\"Reddcoin\",\"RonPaulCoin\",\"StableCoin\",\"SmartCoin\",\"SuperCoin\",\"SyncCoin\",\"SysCoin\",\"TeslaCoin\",\"TigerCoin\",\"TittieCoin\",\"TorCoin\",\"TerraCoin\",\"UnbreakableCoin\",\"Unobtanium\",\"UroCoin\",\"UnitaryStatus Dollar\",\"UltraCoin\",\"ViaCoin\",\"VeriCoin\",\"Vertcoin\",\"WorldCoin\",\"X11 Coin\",\"Crypti\",\"JouleCoin\",\"StealthCoin\",\"ZCC Coin\",\"ByteCoin\",\"DigitalNote \",\"BurstCoin\",\"StorjCoin\",\"MonaCoin\",\"Neutron\",\"FairCoin\",\"Gulden\",\"RubyCoin\",\"PesetaCoin\",\"Kore\",\"Wild Beast Coin\",\"Dnotes\",\"Flo\",\"8BIT Coin\",\"Sativa Coin\",\"ArtByte\",\"Folding Coin\",\"Ucoin\",\"Unitus\",\"CypherPunkCoin\",\"OmniCron\",\"Vtorrent\",\"GreenCoin\",\"Cryptonite\",\"MasterCoin\",\"SoonCoin\",\"1Credit\",\"IslaCoin\",\"Nexus\",\"MarsCoin \",\"Crypto\",\"Anarchists Prime\",\"Droidz\",\"BowsCoin\",\"Squall Coin\",\"Song Coin\",\"BitZeny\",\"Diggits\",\"Expanse\",\"Paycon\",\"Siacoin\",\"Emercoin\",\"EverGreenCoin\",\"MindCoin\",\"I0coin\",\"Decred\",\"Revolution VR\",\"HOdlcoin\",\"EDRCoin\",\"Hitcoin\",\"Gamecredits\",\"DubaiCoin\",\"CarpeDiemCoin\",\"PWR Coin\",\"BillaryCoin\",\"GPU Coin\",\"Adzcoin\",\"SoilCoin\",\"YoCoin\",\"SibCoin\",\"EuropeCoin\",\"ZeitCoin\",\"SwingCoin\",\"SafeExchangeCoin\",\"Nebuchadnezzar\",\"Francs\",\"BolivarCoin\",\"Ratecoin\",\"Revenu\",\"Clockcoin\",\"VIP Tokens\",\"BitSend\",\"Omni\",\"Let it Ride\",\"PutinCoin\",\"iBankCoin\",\"Frankywillcoin\",\"MudraCoin\",\"PizzaCoin\",\"Lutetium Coin\",\"Komodo\",\"GoldBlocks\",\"CarterCoin\",\"Karbo\",\"BitTokens\",\"ZayedCoin\",\"MustangCoin\",\"ZoneCoin\",\"Circuits of Value\",\"RootCoin\",\"DopeCoin\",\"BitCurrency\",\"DollarCoin\",\"Swiscoin\",\"Shilling\",\"BuzzCoin\",\"Opair\",\"PesoBit\",\"Halloween Coin\",\"ZCoin\",\"CoffeeCoin\",\"RoyalCoin\",\"GanjaCoin V2\",\"TeamUP\",\"LanaCoin\",\"Elementrem\",\"ZClassic\",\"ARK\",\"InsaneCoin\",\"KiloCoin\",\"ArtexCoin\",\"EmberCoin\",\"XenixCoin\",\"FreeCoin\",\"PLNCoin\",\"AquariusCoin\",\"Kurrent\",\"Creatio\",\"Eternity\",\"Eurocoin\",\"BitcoinFast\",\"Stakenet\",\"BitConnect Coin\",\"MoneyCoin\",\"Enigma\",\"Cannabis Industry Coin\",\"Russiacoin\",\"PandaCoin\",\"GameUnits\",\"GAKHcoin\",\"Allsafe\",\"LiteCreed\",\"OsmiumCoin\",\"Bikercoins\",\"HexxCoin\",\"Klingon Empire Darsek\",\"Internet of People\",\"KushCoin\",\"Printerium\",\"PacCoin\",\"Impeach\",\"Citadel\",\"Zilbercoin\",\"FirstCoin\",\"BeaverCoin\",\"FindCoin\",\"VaultCoin\",\"Zero\",\"OpenChat\",\"Canada eCoin\",\"Zoin\",\"RenosCoin\",\"DubaiCoin\",\"VirtacoinPlus\",\"TajCoin\",\"Impact\",\"EB3coin\",\"Atmos\",\"HappyCoin\",\"Coinonat\",\"MacronCoin\",\"Condensate\",\"Independent Money System\",\"ArgusCoin\",\"LomoCoin\",\"ProCurrency\",\"GoldReserve\",\"BenjiRolls\",\"GrowthCoin\",\"ILCoin\",\"Phreak\",\"Degas Coin\",\"HTML5 Coin\",\"Ultimate Secure Cash\",\"EquiTrader\",\"QTUM\",\"Quantum Resistant Ledger\",\"Espers\",\"Dynamic\",\"Nano\",\"ChanCoin\",\"Dinastycoin\",\"Denarius\",\"DigitalPrice\",\"Virta Unique Coin\",\"Bitcoin Planet\",\"Unify\",\"BritCoin\",\"SocialCoin\",\"ArcticCoin\",\"DAS\",\"Linda\",\"LeviarCoin\",\"DeepOnion\",\"Bitcore\",\"gCn Coin\",\"SmartCash\",\"Signatum\",\"Onix\",\"Cream\",\"Bitcoin Cash\",\"Monoeci\",\"Draftcoin\",\"Vechain\",\"Sojourn Coin\",\"Stakecoin\",\"NewYorkCoin\",\"FrazCoin\",\"Kronecoin\",\"AdCoin\",\"Linx\",\"CoinonatX\",\"Ethereum Dark\",\"Sumokoin\",\"Obsidian\",\"Cardano\",\"Regalcoin\",\"BitcoinZ\",\"TrezarCoin\",\"Elements\",\"TerraNovaCoin\",\"VIVO Coin\",\"Rupee\",\"Bitcoin Gold\",\"WomenCoin\",\"Theresa May Coin\",\"NamoCoin\",\"LUXCoin\",\"Pirl\",\"Xios\",\"Bitcloud 2.0\",\"eBoost\",\"KekCoin\",\"BlackholeCoin\",\"Infinity Economics\",\"Pura\",\"Innova\",\"Ellaism\",\"GoByte\",\"Magnet\",\"Lamden Tau\",\"Electra\",\"Bitcoin Diamond\",\"SHIELD\",\"Cash & Back Coin\",\"UltraNote\",\"BitCoal\",\"DaxxCoin\",\"Bulwark\",\"Kalkulus\",\"AC3\",\"Lethean\",\"GermanCoin\",\"LiteCoin Ultra\",\"PopularCoin\",\"PhantomX\",\"Photon\",\"Sucre\",\"SparksPay\",\"Digiwage\",\"GunCoin\",\"IrishCoin\",\"Trollcoin\",\"Litecoin Plus\",\"Monkey Project\",\"Pioneer Coin\",\"UnitedBitcoin\",\"Interzone\",\"TokenPay\",\"1717 Masonic Commemorative Token\",\"My Big Coin\",\"TurtleCoin\",\"MUNcoin\",\"Unified Society USDEX\",\"Niobio Cash\",\"ShareChain\",\"Travelflex\",\"KREDS\",\"Tokyo Coin\",\"BiblePay\",\"LitecoinCash\",\"BitFlip\",\"LottoCoin\",\"Crypto Improvement Fund\",\"Stipend\",\"Poa Network\",\"Pushi\",\"Ellerium\",\"Velox\",\"Ontology\",\"Callisto Network\",\"BitTube\",\"Poseidon\",\"Aidos Kuneen\",\"Bitspace\",\"Briacoin\",\"Ignition\",\"Bitrolium\",\"MedicCoin\",\"Alpenschillling\",\"Bitcoin Green\",\"Deviant Coin\",\"Abjcoin\",\"Semux\",\"FuturoCoin\",\"Carebit\",\"Zealium\",\"Monero Classic\",\"Proton\",\"iDealCash\",\"Jumpcoin\",\"Infinex\",\"Bitcoin Incognito\",\"KEYCO\",\"HollyWoodCoin\",\"GINcoin\",\"PlatinCoin\",\"Loki\",\"Newton Coin\",\"Swisscoin\",\"Xt3ch\",\"MassGrid\",\"TheVig\",\"PluraCoin\",\"EmaratCoin\",\"Dekado\",\"Lynx\",\"Poseidon Quark\",\"BitcoinWSpectrum\",\"Muse\",\"Motion\",\"PlusOneCoin\",\"Axe\",\"Trivechain\",\"Dystem\",\"Giant\",\"Peony Coin\",\"Absolute Coin\",\"Vitae\",\"HexCoin\",\"TPCash\",\"Webchain\",\"Ryo\",\"Urals Coin\",\"Qwertycoin\",\"ARENON\",\"EUNO\",\"MMOCoin\",\"Ketan\",\"Project Pai\",\"XDNA\",\"PAXEX\",\"Azart\",\"ThunderStake\",\"Kcash\",\"Xchange\",\"Acute Angle Cloud\",\"CrypticCoin\",\"Bettex coin\",\"Actinium\",\"Bitcoin SV\",\"BitMoney\",\"Junson Ming Chan Coin\",\"FREDEnergy\",\"HerbCoin\",\"Universal Molecule\",\"Lithium\",\"PirateCash\",\"Exosis\",\"Block-Logic\",\"Oduwa\",\"Beam\",\"Galilel\",\"Bithereum\",\"Crypto Sports\",\"Credit\",\"SLICE\",\"Dash Platinum\",\"Nasdacoin\",\"Beetle Coin\",\"Titan Coin\",\"Award\",\"BLAST\",\"Bitcoin Rhodium\",\"GlobalToken\",\"Insane Coin\",\"ALAX\",\"LiteDoge\",\"SolarCoin\",\"TruckCoin\",\"UFO Coin\",\"OrangeCoin\",\"BlakeCoin\",\"BitstarCoin\",\"NeosCoin\",\"HyperCoin\",\"PinkCoin\",\"Crypto Escudo\",\"AudioCoin\",\"IncaKoin\",\"Piggy Coin\",\"Crown Coin\",\"Genstake\",\"SmileyCoin\",\"XiaoMiCoin\",\"Groestlcoin\",\"CapriCoin\",\" ClubCoin\",\"Radium\",\"Bata\",\"Pakcoin\",\"Creditbit \",\"OKCash\",\"Lisk\",\"HiCoin\",\"WhiteCoin\",\"FriendshipCoin\",\"JoinCoin\",\"Triangles Coin\",\"Vollar\",\"EOS\",\"Reality Clash\",\"Oxycoin\",\"TigerCash\",\"Waves\",\"Particl\",\"BitTorrent\",\"Nxt\",\"ZEPHYR\",\"Gapcoin\",\"Beldex\",\"Horizen\",\"BitcoinPlus\"],\"ProofType\":{\"__ndarray__\":\"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\",\"dtype\":\"int32\",\"order\":\"little\",\"shape\":[532]},\"TotalCoinSupply\":[\"42\",\"532000000\",\"314159265359\",\"21000000\",\"0\",\"84000000\",\"22000000\",\"0\",\"210000000\",\"21000000\",\"3600570502\",\"21000000000\",\"22000000\",\"12500000\",\"21000000\",\"350000000\",\"20000000\",\"64000000\",\"16768584\",\"0\",\"2000000000\",\"384000000000\",\"169795588\",\"250000000\",\"100000000\",\"0\",\"247000000\",\"84000000\",\"48166000\",\"500000\",\"21000000 \",\"1000000\",\"13140000\",\"18000000\",\"40000000000\",\"4380000\",\"16555000000\",\"21000000000\",\"13500000000\",\"21000000 \",\"299792458\",\"32000000\",\"0\",\"0\",\"11235813\",\"336000000\",\"1420609614\",\"70000000\",\"72245700\",\"120000000\",\"0\",\"90600000000\",\"22000000\",\"21000000\",\"265420800\",\"20000000\",\"1350000\",\"100000000\",\"42000000\",\"200000000\",\"0\",\"10000000\",\"2419200000\",\"16180000\",\"0\",\"15000000000\",\"21000000\",\"337000000\",\"0\",\"3770000\",\"420000000\",\"98000000\",\"0\",\"21000000\",\"250000000\",\"51200000\",\"0\",\"1000\",\"888000000\",\"100000000\",\"47011968\",\"2300000000\",\"10000000\",\"42000000\",\"80000000\",\"250000\",\"0\",\"1600000000\",\"100000000\",\"23000000\",\"0\",\"84000000\",\"265420800\",\"5500000\",\"0\",\"45000000\",\"0\",\"1000000000\",\"184467440735\",\"10000000000\",\"2158812800\",\"500000000\",\"105120000\",\"68000000\",\"0\",\"1680000000\",\"0\",\"166386000\",\"12000000\",\"2628000\",\"500000000\",\"160000000\",\"0\",\"10000000\",\"1000000000\",\"1000000000\",\"20000000\",\"0\",\"0\",\"3371337\",\"20000000\",\"10000000000\",\"1840000000\",\"619478\",\"21000000\",\"92000000000\",\"0\",\"78000000\",\"33000000\",\"65789100\",\"53760000\",\"5060000\",\"21000000\",\"0\",\"210240000\",\"250000000\",\"100000000\",\"16906397\",\"50000000\",\"0\",\"1000000000\",\"26298000\",\"16000000\",\"21000000\",\"21000000\",\"210000000\",\"81962100\",\"22000000\",\"26550000000\",\"84000000\",\"10500000\",\"21626280000 \",\"0\",\"42000000\",\"221052632\",\"84000000\",\"30000000\",\"168351300\",\"24000000\",\"384000000\",\" 99000000000\",\"40000000\",\"2147483647\",\"20000000\",\"20000000\",\"25000000\",\"75000000\",\"222725000\",\"525000000\",\"90000000\",\"139000000\",\"616448\",\"33500000\",\"2000000000\",\"44333333\",\"100000000\",\"200000000\",\"25000000\",\"657000000\",\"200000000\",\"50000000\",\"90000000\",\"10000000\",\"21000000\",\"9736000\",\"3000000\",\"21000000\",\"1200000000\",\"0\",\"200000000\",\"0\",\"10638298\",\"3100000000\",\"30000000\",\"20000000000\",\"74000000\",\"0\",\"1500000000\",\"21400000\",\"39999898\",\"2500124\",\"100000000\",\"301000000\",\"7506000000\",\"26205539\",\"21000000\",\"125000000\",\"30000000\",\"10000000000\",\"500000000\",\"850000000\",\"3853326.77707314\",\"50000000\",\"38540000 \",\"42000000\",\"228000000\",\"20000000\",\"60000000\",\"20000000\",\"33000000\",\"76500000\",\"28000000\",\"650659833\",\"5000000\",\"21000000\",\"144000000\",\"32514916898\",\"13000000\",\"3315789\",\"15000000\",\"78835200\",\"2714286\",\"25000000\",\"9999999\",\"500000000\",\"21000000\",\"9354000\",\"20000000\",\"100000000000\",\"21933333\",\"185000000\",\"55000000\",\"110000000\",\"3360000\",\"14524851.4827\",\"1000000000\",\"17000000\",\"1000000000\",\"100000000 \",\"21000000\",\"34426423\",\"2232901\",\"100000000\",\"36900000\",\"110000000\",\"4000000000\",\"110290030\",\"100000000\",\"48252000\",\"400000000\",\"500000000\",\"21212121\",\"28600000\",\"1000000000\",\"75000000000\",\"40000000\",\"35520400\",\"2000000000\",\"2500000000\",\"30000000\",\"105000000\",\"90000000000\",\"200084200\",\"72000000\",\"100000000\",\"105000000\",\"50000000000\",\"0\",\"340282367\",\"30000000\",\"2000000000\",\"10000000\",\"100000000\",\"120000000\",\"100000000\",\"19276800\",\"30000000\",\" 75000000\",\"60000000\",\"18900000\",\"50000000000\",\"54000000\",\"18898187.6216583\",\"21000000\",\"200000000000\",\"5000000000\",\"137500000\",\"1100000000\",\"100000000\",\"21000000\",\"9507271\",\"17405891.19707116\",\"86712634466\",\"10500000000\",\"61599965\",\"0\",\"20000000\",\"84000000\",\"100000000\",\"100000000\",\"48252000\",\"4200000\",\"88888888\",\"91388946\",\"45000000000\",\"27000000\",\"21000000000\",\"400000000\",\"1800000000\",\"15733333\",\"27000000\",\"24000000\",\"21000000\",\"25000000000\",\"100000000\",\"1200000000\",\"60000000\",\"156306732.71\",\"21000000\",\"200000000\",\"100000000\",\"21000000\",\"14788275.991\",\"9000000000\",\"350000000\",\"45000000\",\"280000000\",\"31800000\",\"144000000\",\"500000000\",\"30000000000\",\"210000000\",\"660000000\",\"210000000\",\"85000000000\",\"12500000\",\"10000000000\",\"27716121\",\"20000000\",\"550000000\",\"999481516\",\"50000000000\",\"150000000\",\"4999999999\",\"50000000\",\" 90000000000\",\"19800000\",\"21000000\",\"120000000\",\"500000000\",\"64000000\",\"900000000\",\"4000000\",\"21000000\",\"23000000\",\"20166000\",\"23000000\",\"25000000\",\"1618033\",\"30000000\",\"1000000000000\",\"16600000\",\"232000000\",\"336000000\",\"10000000000\",\"100000000\",\"1100000000\",\"800000000\",\"5200000000\",\"840000000\",\"40000000\",\"18406979840\",\"500000000\",\"19340594\",\"252460800\",\"25000000\",\"60000000\",\"124000000\",\"1000000000\",\"6500000000\",\"1000000000\",\"21000000\",\"25000000\",\"50000000\",\"3000000\",\"5000000\",\"70000000\",\"500000000\",\"300000000\",\"21000000\",\"88000000\",\"30000000\",\"100000000\",\"100000000\",\"200000000\",\"80000000\",\"18400000\",\"45000000\",\"5121951220\",\"21000000\",\"26280000\",\"21000000\",\"18000000\",\"26000000\",\"10500000\",\"600000518\",\"150000000\",\"184000000000\",\"10200000000\",\"44000000\",\"168000000\",\"100000000\",\"1000000000\",\"84000000\",\"90000000\",\"92000000000\",\"650000000 \",\"100262205\",\"18081806 \",\"22075700\",\"21000000\",\"21000000\",\"82546564\",\"21000000\",\"5151000\",\"16880000000\",\"52500000\",\"100000000\",\"22105263\",\"1000000000\",\"1750000000\",\"88188888\",\"210000000\",\"184470000000\",\"55000000\",\"50000000\",\"260000000\",\"210000000\",\"2100000000\",\"366000000\",\"100000000\",\"25000000\",\"18000000000\",\"1000000000\",\"100000000\",\"1000000000\",\"7600000000\",\"50000000\",\"84000000\",\"21000000\",\"70000000000\",\"0\",\"8080000000\",\"54000000\",\"105120001.44\",\"25228800\",\"105000000\",\"21000000\",\"120000000\",\"21000000\",\"262800000\",\"19035999\",\"30886000\",\"13370000\",\"74800000000\",\"100000000\",\"19700000\",\"84000000\",\"500000000\",\"5000000000\",\"420000000\",\"64000000\",\"2100000\",\"168000000\",\"30000000\",\"1000000000\",\"35000000000\",\"98100000000\",\"0\",\"4000000000\",\"200000000\",\"7000000000\",\"54256119\",\"21000000\",\"0\",\"500000000\",\"1000000000\",\"10500000000\",\"190000000\",\"1000000000\",\"42000000\",\"15000000\",\"50000000000\",\"400000000\",\"105000000\",\"208000000\",\"160000000\",\"9000000\",\"5000000\",\"182000000\",\"16504333\",\"105000000\",\"159918400\",\"10008835635\",\"300000000\",\"60168145\",\"2800000\",\"120000\",\"2100000000\",\"0\",\"24487944\",\"0\",\"1000000000\",\"100000000\",\"8634140\",\"990000000000\",\"1000000000\",\"2000000000\",\"250000000\",\"1400222610\",\"21000000\",\"1000000\"],\"TotalCoinsMined\":{\"__ndarray__\":\"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\",\"dtype\":\"float64\",\"order\":\"little\",\"shape\":[532]},\"class\":{\"__ndarray__\":\"BAAAAAQAAAABAAAABAAAAAMAAAAEAAAABAAAAAMAAAADAAAAAwAAAAAAAAADAAAABAAAAAAAAAAEAAAABAAAAAQAAAAEAAAABAAAAAQAAAADAAAAAQAAAAQAAAAEAAAABAAAAAQAAAAEAAAAAwAAAAQAAAAEAAAABAAAAAQAAAAEAAAABAAAAAAAAAADAAAAAwAAAAQAAAAEAAAABAAAAAQAAAAEAAAAAAAAAAAAAAAEAAAAAwAAAAQAAAAEAAAABAAAAAQAAAAAAAAABAAAAAQAAAAEAAAABAAAAAQAAAAEAAAABAAAAAQAAAADAAAAAAAAAAQAAAAEAAAAAAAAAAQAAAAEAAAABAAAAAQAAAAEAAAABAAAAAQAAAAEAAAABAAAAAQAAAAEAAAABAAAAAAAAAAEAAAABAAAAAAAAAAEAAAAAAAAAAQAAAAEAAAABAAAAAQAAAAEAAAABAAAAAQAAAAEAAAABAAAAAMAAAAEAAAABAAAAAAAAAAEAAAABAAAAAQAAAABAAAAAwAAAAAAAAADAAAABAAAAAQAAAADAAAABAAAAAAAAAAEAAAABAAAAAQAAAAAAAAABAAAAAQAAAAEAAAABAAAAAQAAAAAAAAAAwAAAAQAAAAEAAAABAAAAAQAAAADAAAABAAAAAQAAAAEAAAABAAAAAQAAAAEAAAAAwAAAAQAAAAEAAAABAAAAAAAAAAEAAAABAAAAAAAAAADAAAABAAAAAMAAAAEAAAABAAAAAQAAAAEAAAAAwAAAAQAAAADAAAABAAAAAQAAAAEAAAABAAAAAQAAAAEAAAABAAAAAAAAAAEAAAAAwAAAAQAAAAEAAAABAAAAAAAAAAEAAAAAAAAAAAAAAAEAAAABAAAAAQAAAAEAAAABAAAAAQAAAAEAAAABAAAAAAAAAAEAAAABAAAAAQAAAAAAAAABAAAAAAAAAADAAAABAAAAAQAAAADAAAABAAAAAQAAAAEAAAABAAAAAMAAAAEAAAABAAAAAAAAAAEAAAABAAAAAQAAAAEAAAAAAAAAAQAAAAEAAAAAwAAAAAAAAAAAAAABAAAAAAAAAAEAAAAAwAAAAMAAAAAAAAABAAAAAQAAAAEAAAABAAAAAQAAAAAAAAABAAAAAQAAAAEAAAAAAAAAAQAAAAEAAAABAAAAAQAAAAEAAAABAAAAAQAAAADAAAABAAAAAAAAAAEAAAABAAAAAAAAAAEAAAABAAAAAMAAAADAAAABAAAAAQAAAAEAAAABAAAAAQAAAAEAAAAAwAAAAAAAAAEAAAABAAAAAAAAAAEAAAAAwAAAAQAAAAEAAAAAwAAAAAAAAADAAAABAAAAAMAAAAEAAAABAAAAAAAAAAEAAAAAwAAAAAAAAAEAAAABAAAAAQAAAAEAAAAAAAAAAQAAAAEAAAAAAAAAAQAAAAAAAAABAAAAAQAAAAAAAAABAAAAAAAAAADAAAAAwAAAAMAAAADAAAAAwAAAAMAAAAEAAAABAAAAAQAAAAEAAAABAAAAAQAAAAEAAAABAAAAAQAAAAEAAAAAwAAAAQAAAAEAAAAAQAAAAMAAAAAAAAABAAAAAQAAAAEAAAABAAAAAAAAAAEAAAABAAAAAAAAAAEAAAABAAAAAQAAAAEAAAABAAAAAQAAAAEAAAAAwAAAAAAAAAAAAAABAAAAAMAAAAEAAAABAAAAAQAAAADAAAAAAAAAAMAAAAEAAAABAAAAAQAAAAEAAAAAwAAAAQAAAAEAAAABAAAAAAAAAAEAAAAAAAAAAQAAAADAAAAAwAAAAMAAAAEAAAAAAAAAAQAAAAEAAAAAwAAAAQAAAADAAAAAwAAAAMAAAAAAAAAAAAAAAQAAAADAAAABAAAAAQAAAAEAAAABAAAAAMAAAAEAAAAAwAAAAAAAAADAAAABAAAAAQAAAAEAAAAAAAAAAQAAAAEAAAAAwAAAAAAAAADAAAABAAAAAEAAAAEAAAABAAAAAMAAAAEAAAAAwAAAAMAAAAAAAAAAAAAAAQAAAAEAAAABAAAAAQAAAADAAAAAAAAAAQAAAAEAAAAAAAAAAAAAAADAAAAAwAAAAQAAAADAAAABAAAAAQAAAAEAAAAAwAAAAAAAAADAAAAAwAAAAAAAAAEAAAAAAAAAAQAAAAEAAAAAAAAAAMAAAAAAAAABAAAAAMAAAADAAAAAAAAAAQAAAAAAAAAAwAAAAMAAAADAAAAAwAAAAQAAAAAAAAAAwAAAAQAAAADAAAABAAAAAAAAAAAAAAAAAAAAAAAAAADAAAABAAAAAMAAAAEAAAABAAAAAAAAAAEAAAAAAAAAAMAAAAAAAAABAAAAAQAAAADAAAAAwAAAAQAAAABAAAAAAAAAAQAAAAAAAAAAAAAAAQAAAADAAAAAAAAAAQAAAAEAAAABAAAAAQAAAAAAAAAAwAAAAAAAAADAAAABAAAAAQAAAAAAAAAAwAAAAQAAAADAAAAAwAAAAMAAAADAAAABAAAAAQAAAADAAAABAAAAAMAAAAAAAAABAAAAAQAAAAAAAAABAAAAAQAAAAEAAAABAAAAAQAAAAEAAAABAAAAAQAAAAAAAAABAAAAAQAAAAEAAAAAwAAAAQAAAADAAAABAAAAAAAAAAEAAAABAAAAAQAAAAEAAAABAAAAAQAAAAEAAAABAAAAAQAAAAEAAAAAwAAAAQAAAAEAAAAAAAAAAQAAAAEAAAABAAAAAQAAAAAAAAAAAAAAAQAAAAEAAAAAwAAAAQAAAADAAAAAAAAAAMAAAAAAAAAAAAAAAAAAAAAAAAAAgAAAAAAAAAAAAAABAAAAAMAAAADAAAAAAAAAA==\",\"dtype\":\"int32\",\"order\":\"little\",\"shape\":[532]}},\"selected\":{\"id\":\"1308\"},\"selection_policy\":{\"id\":\"1342\"}},\"id\":\"1307\",\"type\":\"ColumnDataSource\"},{\"attributes\":{},\"id\":\"1310\",\"type\":\"StringEditor\"},{\"attributes\":{\"margin\":[5,5,5,5],\"name\":\"HSpacer02142\",\"sizing_mode\":\"stretch_width\"},\"id\":\"1345\",\"type\":\"Spacer\"},{\"attributes\":{},\"id\":\"1324\",\"type\":\"StringFormatter\"},{\"attributes\":{\"editor\":{\"id\":\"1310\"},\"field\":\"CoinName\",\"formatter\":{\"id\":\"1309\"},\"title\":\"CoinName\"},\"id\":\"1311\",\"type\":\"TableColumn\"},{\"attributes\":{},\"id\":\"1314\",\"type\":\"NumberFormatter\"}],\"root_ids\":[\"1305\"]},\"title\":\"Bokeh Application\",\"version\":\"2.2.3\"}};\n    var render_items = [{\"docid\":\"926ae529-1fbc-44bd-b8be-722521edea1f\",\"root_ids\":[\"1305\"],\"roots\":{\"1305\":\"6fe2e2d8-3dd6-44c1-8650-dbb9c0c43f61\"}}];\n    root.Bokeh.embed.embed_items_notebook(docs_json, render_items);\n  }\n  if (root.Bokeh !== undefined && root.Bokeh.Panel !== undefined) {\n    embed_document(root);\n  } else {\n    var attempts = 0;\n    var timer = setInterval(function(root) {\n      if (root.Bokeh !== undefined && root.Bokeh.Panel !== undefined) {\n        clearInterval(timer);\n        embed_document(root);\n      } else if (document.readyState == \"complete\") {\n        attempts++;\n        if (attempts > 100) {\n          clearInterval(timer);\n          console.log(\"Bokeh: ERROR: Unable to run BokehJS code because BokehJS library is missing\");\n        }\n      }\n    }, 10, root)\n  }\n})(window);</script>",
      "application/vnd.holoviews_exec.v0+json": "",
      "text/plain": [
       ":Table   [CoinName,Algorithm,ProofType,TotalCoinSupply,TotalCoinsMined,class]"
      ]
     },
     "metadata": {
      "application/vnd.holoviews_exec.v0+json": {
       "id": "1305"
      }
     },
     "execution_count": 79
    }
   ],
   "source": [
    "# Table with tradable cryptos\n",
    "clustered_df.hvplot.table(columns=['CoinName', 'Algorithm', 'ProofType', 'TotalCoinSupply', \"TotalCoinsMined\", 'class'], width=600)"
   ]
  },
  {
   "cell_type": "code",
   "execution_count": null,
   "metadata": {},
   "outputs": [],
   "source": [
    "# Printing the total number of tradable cryptocurrencies\n"
   ]
  },
  {
   "cell_type": "markdown",
   "metadata": {},
   "source": [
    "#### Scatter Plot with Tradable Cryptocurrencies"
   ]
  },
  {
   "cell_type": "code",
   "execution_count": null,
   "metadata": {},
   "outputs": [],
   "source": [
    "# Scaling data to create the scatter plot\n"
   ]
  },
  {
   "cell_type": "code",
   "execution_count": 80,
   "metadata": {},
   "outputs": [
    {
     "output_type": "display_data",
     "data": {},
     "metadata": {}
    },
    {
     "output_type": "execute_result",
     "data": {
      "text/html": "<div id='1357'>\n\n\n\n\n\n  <div class=\"bk-root\" id=\"338bfdda-fc3a-403d-9f6a-6ef98c0a0c58\" data-root-id=\"1357\"></div>\n</div>\n<script type=\"application/javascript\">(function(root) {\n  function embed_document(root) {\n    var docs_json = {\"3fb13e1f-d213-40cc-89c5-ff1012184c5a\":{\"roots\":{\"references\":[{\"attributes\":{\"margin\":[5,5,5,5],\"name\":\"HSpacer02358\",\"sizing_mode\":\"stretch_width\"},\"id\":\"1649\",\"type\":\"Spacer\"},{\"attributes\":{},\"id\":\"1386\",\"type\":\"ResetTool\"},{\"attributes\":{\"fill_color\":{\"value\":\"#9367bc\"},\"line_color\":{\"value\":\"#9367bc\"},\"size\":{\"units\":\"screen\",\"value\":5.477225575051661},\"x\":{\"field\":\"TotalCoinsMined\"},\"y\":{\"field\":\"TotalCoinSupply\"}},\"id\":\"1483\",\"type\":\"Scatter\"},{\"attributes\":{},\"id\":\"1503\",\"type\":\"UnionRenderers\"},{\"attributes\":{\"data\":{\"CoinName\":[\"EliteCoin\",\"MoonCoin\",\"ByteCoin\",\"gCn Coin\",\"TurtleCoin\",\"Qwertycoin\"],\"TotalCoinSupply\":[\"314159265359\",\"384000000000\",\"184467440735\",\"200000000000\",\"1000000000000\",\"184470000000\"],\"TotalCoinsMined\":{\"__ndarray__\":\"xAK6QcJEG0IAAAAAAABWQAAAB3WebUVCAABOq2v7QkI9ipsSw74oQl3NAOrTLTdC\",\"dtype\":\"float64\",\"order\":\"little\",\"shape\":[6]},\"class\":[1,1,1,1,1,1]},\"selected\":{\"id\":\"1418\"},\"selection_policy\":{\"id\":\"1434\"}},\"id\":\"1417\",\"type\":\"ColumnDataSource\"},{\"attributes\":{\"children\":[{\"id\":\"1358\"},{\"id\":\"1366\"},{\"id\":\"1649\"}],\"margin\":[0,0,0,0],\"name\":\"Row02353\",\"tags\":[\"embedded\"]},\"id\":\"1357\",\"type\":\"Row\"},{\"attributes\":{\"below\":[{\"id\":\"1375\"}],\"center\":[{\"id\":\"1378\"},{\"id\":\"1381\"}],\"left\":[{\"id\":\"1379\"}],\"margin\":[5,5,5,5],\"min_border_bottom\":10,\"min_border_left\":10,\"min_border_right\":10,\"min_border_top\":10,\"plot_height\":300,\"plot_width\":700,\"renderers\":[{\"id\":\"1405\"},{\"id\":\"1423\"},{\"id\":\"1442\"},{\"id\":\"1463\"},{\"id\":\"1486\"}],\"right\":[{\"id\":\"1415\"}],\"sizing_mode\":\"fixed\",\"title\":{\"id\":\"1367\"},\"toolbar\":{\"id\":\"1388\"},\"x_range\":{\"id\":\"1359\"},\"x_scale\":{\"id\":\"1371\"},\"y_range\":{\"id\":\"1360\"},\"y_scale\":{\"id\":\"1373\"}},\"id\":\"1366\",\"subtype\":\"Figure\",\"type\":\"Plot\"},{\"attributes\":{\"label\":{\"value\":\"1\"},\"renderers\":[{\"id\":\"1423\"}]},\"id\":\"1435\",\"type\":\"LegendItem\"},{\"attributes\":{\"fill_alpha\":{\"value\":0.2},\"fill_color\":{\"value\":\"#9367bc\"},\"line_alpha\":{\"value\":0.2},\"line_color\":{\"value\":\"#9367bc\"},\"size\":{\"units\":\"screen\",\"value\":5.477225575051661},\"x\":{\"field\":\"TotalCoinsMined\"},\"y\":{\"field\":\"TotalCoinSupply\"}},\"id\":\"1485\",\"type\":\"Scatter\"},{\"attributes\":{\"source\":{\"id\":\"1417\"}},\"id\":\"1424\",\"type\":\"CDSView\"},{\"attributes\":{\"fill_color\":{\"value\":\"#2ba02b\"},\"line_color\":{\"value\":\"#2ba02b\"},\"size\":{\"units\":\"screen\",\"value\":5.477225575051661},\"x\":{\"field\":\"TotalCoinsMined\"},\"y\":{\"field\":\"TotalCoinSupply\"}},\"id\":\"1439\",\"type\":\"Scatter\"},{\"attributes\":{\"label\":{\"value\":\"4\"},\"renderers\":[{\"id\":\"1486\"}]},\"id\":\"1504\",\"type\":\"LegendItem\"},{\"attributes\":{\"data\":{\"CoinName\":[\"Ethereum\",\"Monero\",\"Ethereum Classic\",\"ZCash\",\"DigiByte\",\"MyriadCoin\",\"Riecoin\",\"Diamond\",\"Verge\",\"FeatherCoin\",\"MediterraneanCoin\",\"Vertcoin\",\"DigitalNote \",\"StorjCoin\",\"FairCoin\",\"Unitus\",\"Cryptonite\",\"Crypto\",\"Expanse\",\"Siacoin\",\"Decred\",\"HOdlcoin\",\"SoilCoin\",\"Komodo\",\"Karbo\",\"Circuits of Value\",\"ZCoin\",\"Elementrem\",\"ZClassic\",\"Cannabis Industry Coin\",\"Bikercoins\",\"HexxCoin\",\"Citadel\",\"Zero\",\"Zoin\",\"DubaiCoin\",\"TajCoin\",\"Coinonat\",\"Quantum Resistant Ledger\",\"Espers\",\"Dynamic\",\"Nano\",\"ChanCoin\",\"Dinastycoin\",\"LeviarCoin\",\"SmartCash\",\"Sumokoin\",\"BitcoinZ\",\"VIVO Coin\",\"Bitcoin Gold\",\"Pirl\",\"Innova\",\"Ellaism\",\"GoByte\",\"SHIELD\",\"UltraNote\",\"BitCoal\",\"DaxxCoin\",\"Lethean\",\"Photon\",\"SparksPay\",\"GunCoin\",\"Interzone\",\"1717 Masonic Commemorative Token\",\"Niobio Cash\",\"Travelflex\",\"KREDS\",\"Stipend\",\"Callisto Network\",\"BitTube\",\"Aidos Kuneen\",\"Bitrolium\",\"Alpenschillling\",\"Bitcoin Green\",\"Monero Classic\",\"Jumpcoin\",\"Infinex\",\"GINcoin\",\"PlatinCoin\",\"Loki\",\"Newton Coin\",\"MassGrid\",\"PluraCoin\",\"Muse\",\"PlusOneCoin\",\"Absolute Coin\",\"Webchain\",\"Ryo\",\"XDNA\",\"CrypticCoin\",\"Actinium\",\"FREDEnergy\",\"Universal Molecule\",\"Lithium\",\"PirateCash\",\"Exosis\",\"Beam\",\"Bithereum\",\"UFO Coin\",\"BlakeCoin\",\"Groestlcoin\",\"JoinCoin\",\"Vollar\",\"Reality Clash\",\"Beldex\",\"Horizen\"],\"TotalCoinSupply\":[\"0\",\"0\",\"210000000\",\"21000000\",\"21000000000\",\"2000000000\",\"84000000\",\"4380000\",\"16555000000\",\"336000000\",\"200000000\",\"84000000\",\"10000000000\",\"500000000\",\"0\",\"0\",\"1840000000\",\"65789100\",\"16906397\",\"0\",\"21000000\",\"81962100\",\"30000000\",\"200000000\",\"10000000\",\"1200000000\",\"21400000\",\"26205539\",\"21000000\",\"21000000\",\"25000000\",\"9999999\",\"185000000\",\"17000000\",\"21000000\",\"2232901\",\"36900000\",\"48252000\",\"105000000\",\"50000000000\",\"0\",\"340282367\",\"30000000\",\"2000000000\",\"54000000\",\"5000000000\",\"88888888\",\"21000000000\",\"27000000\",\"21000000\",\"156306732.71\",\"45000000\",\"280000000\",\"31800000\",\"660000000\",\"85000000000\",\"12500000\",\"10000000000\",\"999481516\",\" 90000000000\",\"21000000\",\"500000000\",\"23000000\",\"1618033\",\"336000000\",\"100000000\",\"1100000000\",\"19340594\",\"6500000000\",\"1000000000\",\"25000000\",\"70000000\",\"300000000\",\"21000000\",\"18400000\",\"21000000\",\"26280000\",\"10500000\",\"600000518\",\"150000000\",\"184000000000\",\"168000000\",\"1000000000\",\"18081806 \",\"21000000\",\"52500000\",\"1750000000\",\"88188888\",\"366000000\",\"7600000000\",\"84000000\",\"8080000000\",\"105120001.44\",\"25228800\",\"105000000\",\"21000000\",\"262800000\",\"30886000\",\"4000000000\",\"7000000000\",\"105000000\",\"2800000\",\"2100000000\",\"24487944\",\"1400222610\",\"21000000\"],\"TotalCoinsMined\":{\"__ndarray__\":\"2/m++oWsmUFmkFFyf2dwQQAAAFztBptBAAAAEAQqXEEAACi86D4FQgAAgMotKNlBjF0hSWmgh0GgX6nfEzZJQf32aMnKqw1CMPUDShPgqEEzMzOHh0eDQcd3iN7KZohBcSCmnaK6+UEAAADAuGaIQQAAADhjXYlBAAAAsGYMj0EAAADMeR3FQQAAAEBSNmpBAAAAwKUEZEEAAEizP9MeQmSJs90OxWNBAAAAoE7WZUEAAAAAaMBVQQAAAEzcoZtBKodcLhjXXUEAAAAAZc3NQVHN+E/m3lxBAAAAMNb9eEEAAACA+2lVQQAAAADC2S1BAAAAAOTYYUHogY9xsqA8QQcKvNAc7GRBHHiWeW1nWkEAAADYxa9xQQAAAIAiCUFBIY+gfVA9Z0EAAAAA+E5jQWUIVsOfdZBBAADce2Q8FUKonWsKIt5yQQAAAKTUxJ9BkdtqsfWNcUEAAMDBkfbaQQAAAGDxAmtBSx+nv2Ky4EEAAACgexBhQQM+oN4favNBUXuZyafIT0H5hGyRy2dwQQAAACDNNIBBKVyPwtZRWEEAAADgsVRoQQAAALicP1ZB6fCQBqC2vEE4+JX7JPURQgAAAACIKlFBAAAAhC0Mv0ESg2C58Uy6QVkXqs3vBRxCqQRZVX7vXUEAAADBjd6xQUTdB4OlumZBAAAAAHGwOEHFrxjPlu6fQSVzHEidlplB1SHF48Uvw0FESwPG0XVlQQAAAEqIhK1BdXWf684Vk0EAAAAAhNd3QQAAAFQxA5FBg3RsWu0SekF9BpRr9bJiQQAAAAC8jG5Bk0EJJOIXdEFEUX1tNnJTQQRTE+2nplpBAAAAAMCU9EAAAAAALkRyQQAAor2wOiNCg20UIDEyoEElyzPgHbHAQQAAAIAfWnFBOFBexWN9YEGotR8+EW5pQddG4emEt21BAAAAQESoUkF7Zgl2ANNRQQAAAIrVje9BAAAAQKQBakGQLFLGP9LbQZO4O1ApFThBx93xJ6g5bkEAAAAACrRpQTMzM7MvyRhBAAAAAGMEgUEAAAA4VPx3QQAAgPoBf+xBSAVkYldGdkG6qYxvxHmRQQAAAECdbUlBAAAAAITXl0H4eoiBgFp3QQAAgEGBNs1BAAAAYIbVW0E=\",\"dtype\":\"float64\",\"order\":\"little\",\"shape\":[106]},\"class\":[3,3,3,3,3,3,3,3,3,3,3,3,3,3,3,3,3,3,3,3,3,3,3,3,3,3,3,3,3,3,3,3,3,3,3,3,3,3,3,3,3,3,3,3,3,3,3,3,3,3,3,3,3,3,3,3,3,3,3,3,3,3,3,3,3,3,3,3,3,3,3,3,3,3,3,3,3,3,3,3,3,3,3,3,3,3,3,3,3,3,3,3,3,3,3,3,3,3,3,3,3,3,3,3,3,3]},\"selected\":{\"id\":\"1458\"},\"selection_policy\":{\"id\":\"1478\"}},\"id\":\"1457\",\"type\":\"ColumnDataSource\"},{\"attributes\":{},\"id\":\"1414\",\"type\":\"UnionRenderers\"},{\"attributes\":{\"active_drag\":\"auto\",\"active_inspect\":\"auto\",\"active_multi\":null,\"active_scroll\":\"auto\",\"active_tap\":\"auto\",\"tools\":[{\"id\":\"1361\"},{\"id\":\"1382\"},{\"id\":\"1383\"},{\"id\":\"1384\"},{\"id\":\"1385\"},{\"id\":\"1386\"}]},\"id\":\"1388\",\"type\":\"Toolbar\"},{\"attributes\":{\"margin\":[5,5,5,5],\"name\":\"HSpacer02357\",\"sizing_mode\":\"stretch_width\"},\"id\":\"1358\",\"type\":\"Spacer\"},{\"attributes\":{\"fill_alpha\":{\"value\":0.2},\"fill_color\":{\"value\":\"#1f77b3\"},\"line_alpha\":{\"value\":0.2},\"line_color\":{\"value\":\"#1f77b3\"},\"size\":{\"units\":\"screen\",\"value\":5.477225575051661},\"x\":{\"field\":\"TotalCoinsMined\"},\"y\":{\"field\":\"TotalCoinSupply\"}},\"id\":\"1404\",\"type\":\"Scatter\"},{\"attributes\":{\"data_source\":{\"id\":\"1399\"},\"glyph\":{\"id\":\"1402\"},\"hover_glyph\":null,\"muted_glyph\":{\"id\":\"1404\"},\"nonselection_glyph\":{\"id\":\"1403\"},\"selection_glyph\":null,\"view\":{\"id\":\"1406\"}},\"id\":\"1405\",\"type\":\"GlyphRenderer\"},{\"attributes\":{},\"id\":\"1455\",\"type\":\"UnionRenderers\"},{\"attributes\":{\"callback\":null,\"renderers\":[{\"id\":\"1405\"},{\"id\":\"1423\"},{\"id\":\"1442\"},{\"id\":\"1463\"},{\"id\":\"1486\"}],\"tags\":[\"hv_created\"],\"tooltips\":[[\"class\",\"@{class}\"],[\"TotalCoinsMined\",\"@{TotalCoinsMined}\"],[\"TotalCoinSupply\",\"@{TotalCoinSupply}\"],[\"CoinName\",\"@{CoinName}\"]]},\"id\":\"1361\",\"type\":\"HoverTool\"},{\"attributes\":{\"bottom_units\":\"screen\",\"fill_alpha\":0.5,\"fill_color\":\"lightgrey\",\"left_units\":\"screen\",\"level\":\"overlay\",\"line_alpha\":1.0,\"line_color\":\"black\",\"line_dash\":[4,4],\"line_width\":2,\"right_units\":\"screen\",\"top_units\":\"screen\"},\"id\":\"1387\",\"type\":\"BoxAnnotation\"},{\"attributes\":{},\"id\":\"1418\",\"type\":\"Selection\"},{\"attributes\":{\"data_source\":{\"id\":\"1436\"},\"glyph\":{\"id\":\"1439\"},\"hover_glyph\":null,\"muted_glyph\":{\"id\":\"1441\"},\"nonselection_glyph\":{\"id\":\"1440\"},\"selection_glyph\":null,\"view\":{\"id\":\"1443\"}},\"id\":\"1442\",\"type\":\"GlyphRenderer\"},{\"attributes\":{\"source\":{\"id\":\"1436\"}},\"id\":\"1443\",\"type\":\"CDSView\"},{\"attributes\":{},\"id\":\"1398\",\"type\":\"CategoricalTickFormatter\"},{\"attributes\":{\"fill_alpha\":{\"value\":0.1},\"fill_color\":{\"value\":\"#2ba02b\"},\"line_alpha\":{\"value\":0.1},\"line_color\":{\"value\":\"#2ba02b\"},\"size\":{\"units\":\"screen\",\"value\":5.477225575051661},\"x\":{\"field\":\"TotalCoinsMined\"},\"y\":{\"field\":\"TotalCoinSupply\"}},\"id\":\"1440\",\"type\":\"Scatter\"},{\"attributes\":{\"data_source\":{\"id\":\"1417\"},\"glyph\":{\"id\":\"1420\"},\"hover_glyph\":null,\"muted_glyph\":{\"id\":\"1422\"},\"nonselection_glyph\":{\"id\":\"1421\"},\"selection_glyph\":null,\"view\":{\"id\":\"1424\"}},\"id\":\"1423\",\"type\":\"GlyphRenderer\"},{\"attributes\":{\"fill_alpha\":{\"value\":0.1},\"fill_color\":{\"value\":\"#1f77b3\"},\"line_alpha\":{\"value\":0.1},\"line_color\":{\"value\":\"#1f77b3\"},\"size\":{\"units\":\"screen\",\"value\":5.477225575051661},\"x\":{\"field\":\"TotalCoinsMined\"},\"y\":{\"field\":\"TotalCoinSupply\"}},\"id\":\"1403\",\"type\":\"Scatter\"},{\"attributes\":{\"end\":1032416801156.6912,\"reset_end\":1032416801156.6912,\"reset_start\":-42428087675.042145,\"start\":-42428087675.042145,\"tags\":[[[\"TotalCoinsMined\",\"TotalCoinsMined\",null]]]},\"id\":\"1359\",\"type\":\"Range1d\"},{\"attributes\":{\"fill_alpha\":{\"value\":0.1},\"fill_color\":{\"value\":\"#ff7e0e\"},\"line_alpha\":{\"value\":0.1},\"line_color\":{\"value\":\"#ff7e0e\"},\"size\":{\"units\":\"screen\",\"value\":5.477225575051661},\"x\":{\"field\":\"TotalCoinsMined\"},\"y\":{\"field\":\"TotalCoinSupply\"}},\"id\":\"1421\",\"type\":\"Scatter\"},{\"attributes\":{\"label\":{\"value\":\"0\"},\"renderers\":[{\"id\":\"1405\"}]},\"id\":\"1416\",\"type\":\"LegendItem\"},{\"attributes\":{},\"id\":\"1481\",\"type\":\"Selection\"},{\"attributes\":{\"source\":{\"id\":\"1399\"}},\"id\":\"1406\",\"type\":\"CDSView\"},{\"attributes\":{},\"id\":\"1434\",\"type\":\"UnionRenderers\"},{\"attributes\":{\"label\":{\"value\":\"2\"},\"renderers\":[{\"id\":\"1442\"}]},\"id\":\"1456\",\"type\":\"LegendItem\"},{\"attributes\":{\"text\":\"\",\"text_color\":{\"value\":\"black\"},\"text_font_size\":{\"value\":\"12pt\"}},\"id\":\"1367\",\"type\":\"Title\"},{\"attributes\":{\"data\":{\"CoinName\":[\"Bitshares\",\"PayCoin\",\"CasinoCoin\",\"Exclusive Coin\",\"FlutterCoin\",\"HyperStake\",\"MintCoin\",\"Nautilus Coin\",\"SuperCoin\",\"TeslaCoin\",\"TittieCoin\",\"Crypti\",\"BurstCoin\",\"RubyCoin\",\"Dnotes\",\"Ucoin\",\"Squall Coin\",\"Diggits\",\"GPU Coin\",\"ZeitCoin\",\"SafeExchangeCoin\",\"Nebuchadnezzar\",\"Let it Ride\",\"MudraCoin\",\"Lutetium Coin\",\"BitCurrency\",\"Opair\",\"CoffeeCoin\",\"RoyalCoin\",\"TeamUP\",\"ARK\",\"FreeCoin\",\"Creatio\",\"PandaCoin\",\"Allsafe\",\"Zilbercoin\",\"FindCoin\",\"RenosCoin\",\"Atmos\",\"MacronCoin\",\"ProCurrency\",\"GrowthCoin\",\"Phreak\",\"Ultimate Secure Cash\",\"QTUM\",\"Signatum\",\"Draftcoin\",\"Stakecoin\",\"Obsidian\",\"Cardano\",\"Rupee\",\"KekCoin\",\"Infinity Economics\",\"Lamden Tau\",\"Bulwark\",\"Kalkulus\",\"Digiwage\",\"Monkey Project\",\"TokenPay\",\"Tokyo Coin\",\"BiblePay\",\"Poa Network\",\"Velox\",\"Ontology\",\"MedicCoin\",\"Deviant Coin\",\"Semux\",\"Zealium\",\"Proton\",\"Bitcoin Incognito\",\"HollyWoodCoin\",\"Xt3ch\",\"Dekado\",\"Lynx\",\"Poseidon Quark\",\"BitcoinWSpectrum\",\"Dystem\",\"Peony Coin\",\"Vitae\",\"ARENON\",\"MMOCoin\",\"Ketan\",\"PAXEX\",\"Acute Angle Cloud\",\"Bettex coin\",\"Junson Ming Chan Coin\",\"Crypto Sports\",\"Dash Platinum\",\"ALAX\",\"NeosCoin\",\"Radium\",\"Lisk\",\"HiCoin\",\"EOS\",\"Oxycoin\",\"TigerCash\",\"Waves\",\"Particl\",\"Nxt\",\"ZEPHYR\",\"BitcoinPlus\"],\"TotalCoinSupply\":[\"3600570502\",\"12500000\",\"40000000000\",\"0\",\"0\",\"0\",\"0\",\"16180000\",\"0\",\"100000000\",\"2300000000\",\"0\",\"2158812800\",\"0\",\"500000000\",\"20000000\",\"0\",\"100000000\",\"221052632\",\" 99000000000\",\"2147483647\",\"20000000\",\"33500000\",\"200000000\",\"657000000\",\"0\",\"74000000\",\"39999898\",\"2500124\",\"301000000\",\"125000000\",\"50000000\",\"20000000\",\"32514916898\",\"15000000\",\"55000000\",\"14524851.4827\",\"34426423\",\"110290030\",\"400000000\",\"75000000000\",\"2000000000\",\"30000000\",\"200084200\",\"100000000\",\"137500000\",\"17405891.19707116\",\"61599965\",\"91388946\",\"45000000000\",\"24000000\",\"21000000\",\"9000000000\",\"500000000\",\"27716121\",\"20000000\",\"120000000\",\"21000000\",\"25000000\",\"800000000\",\"5200000000\",\"252460800\",\"124000000\",\"1000000000\",\"500000000\",\"88000000\",\"100000000\",\"80000000\",\"45000000\",\"21000000\",\"26000000\",\"44000000\",\"90000000\",\"92000000000\",\"650000000 \",\"100262205\",\"21000000\",\"16880000000\",\"100000000\",\"55000000\",\"260000000\",\"210000000\",\"100000000\",\"1000000000\",\"50000000\",\"0\",\"13370000\",\"19700000\",\"1000000000\",\"21000000\",\"9000000\",\"159918400\",\"10008835635\",\"0\",\"0\",\"1000000000\",\"100000000\",\"8634140\",\"1000000000\",\"2000000000\",\"1000000\"],\"TotalCoinsMined\":{\"__ndarray__\":\"AAAAOiFt5EEpu0/cGOFmQa625wpfoCJCAAAAQJaqVUHBNFQR94a7QftcscYLA9lB0/wVEd7UE0IAAAAAZNxuQSes/m3mLYhBJrzuvrUik0Gxp502ryzYQQAAAACE15dBAAAA8CwE20GF80Sm1ux5QRqL3sPG0aRBAAAAAIqFREFIisgQwBcUQQAAAACE15dBAAAAkAtNg0FWnZ2VUDchQgAAwP///99BAAAAANASc0H8k1OFq2aCQQAAAADQElNBAAAAIIOUw0EAAAAwvTekQSsMLjuqppFBAAAAIHq6oUEAAAAADhNDQXh6paJD/nBBAAAAkCHMmUEAAAAAhNeHQQAAAADQEnNBtVU3hK59H0K3QKeXoQ9kQYyDbPs6TEZBRUdybza0a0EAAADorTCBQQRWjnMxf5pBAAAAWTTtt0EAAABE0/iXQQmkXOpol7FBYEctP6K5ZUEAAAAgWbpjQQAAAACE15dBAAAAeCK+mUHya5UVeMxxQQAAAACAhE5BAAAAAITXd0EAACjNfiUYQgAAAABg43ZB4PPDyeaEZ0EAALDPiMMAQmFvfsfpK7FBvu0uXFlEaUGq2m5OlytwQQAAAAD2CHpBAAAAAPXPUEFWAY1Yqn9zQQAAAFoqdKtB8dd4J/5n2kEAAAB+NGCoQVomKNKtYnhBAACAuJRlw0EAAKAYR92vQU0Fpq323HRBAAAAACvJMkFM2vnC1h9lQQAAAACWzFBBjX70YrDMZEGzdrvL83SCQUhQ/AAsG11Bz/PnRZrhfEFZ5otViSEyQujU/Hk0uURBGNIByAGRi0FNI9YPZgRbQZblkOe4zC9BIUABrTd/j0FxPQpfeGByQf+yq29isZlBB1Ybc0PKYUEAAADADy9RQQAAAABlzc1BcmCHS1PkWUFwTkFiKgcQQvT+3KxthT1B1Y1/4hbXJUEAAAAAZc3NQV5Lxo9QwVBBBonp3l4nTUEAAACw9ZycQQKaLf58oAJC2T2JBSNqzkEUrtdyjLnQQQAAAABlzc1BAAAAAITXl0HZqskxyLRhQQAAAABlzc1B847T/mTN3UFH2AHxb1T/QA==\",\"dtype\":\"float64\",\"order\":\"little\",\"shape\":[101]},\"class\":[0,0,0,0,0,0,0,0,0,0,0,0,0,0,0,0,0,0,0,0,0,0,0,0,0,0,0,0,0,0,0,0,0,0,0,0,0,0,0,0,0,0,0,0,0,0,0,0,0,0,0,0,0,0,0,0,0,0,0,0,0,0,0,0,0,0,0,0,0,0,0,0,0,0,0,0,0,0,0,0,0,0,0,0,0,0,0,0,0,0,0,0,0,0,0,0,0,0,0,0,0]},\"selected\":{\"id\":\"1400\"},\"selection_policy\":{\"id\":\"1414\"}},\"id\":\"1399\",\"type\":\"ColumnDataSource\"},{\"attributes\":{\"fill_alpha\":{\"value\":0.2},\"fill_color\":{\"value\":\"#ff7e0e\"},\"line_alpha\":{\"value\":0.2},\"line_color\":{\"value\":\"#ff7e0e\"},\"size\":{\"units\":\"screen\",\"value\":5.477225575051661},\"x\":{\"field\":\"TotalCoinsMined\"},\"y\":{\"field\":\"TotalCoinSupply\"}},\"id\":\"1422\",\"type\":\"Scatter\"},{\"attributes\":{},\"id\":\"1373\",\"type\":\"CategoricalScale\"},{\"attributes\":{\"fill_alpha\":{\"value\":0.2},\"fill_color\":{\"value\":\"#2ba02b\"},\"line_alpha\":{\"value\":0.2},\"line_color\":{\"value\":\"#2ba02b\"},\"size\":{\"units\":\"screen\",\"value\":5.477225575051661},\"x\":{\"field\":\"TotalCoinsMined\"},\"y\":{\"field\":\"TotalCoinSupply\"}},\"id\":\"1441\",\"type\":\"Scatter\"},{\"attributes\":{},\"id\":\"1478\",\"type\":\"UnionRenderers\"},{\"attributes\":{\"axis_label\":\"TotalCoinsMined\",\"bounds\":\"auto\",\"formatter\":{\"id\":\"1396\"},\"major_label_orientation\":\"horizontal\",\"ticker\":{\"id\":\"1376\"}},\"id\":\"1375\",\"type\":\"LinearAxis\"},{\"attributes\":{},\"id\":\"1371\",\"type\":\"LinearScale\"},{\"attributes\":{\"click_policy\":\"mute\",\"items\":[{\"id\":\"1416\"},{\"id\":\"1435\"},{\"id\":\"1456\"},{\"id\":\"1479\"},{\"id\":\"1504\"}],\"location\":[0,0],\"title\":\"class\"},\"id\":\"1415\",\"type\":\"Legend\"},{\"attributes\":{},\"id\":\"1376\",\"type\":\"BasicTicker\"},{\"attributes\":{\"fill_alpha\":{\"value\":0.2},\"fill_color\":{\"value\":\"#d62628\"},\"line_alpha\":{\"value\":0.2},\"line_color\":{\"value\":\"#d62628\"},\"size\":{\"units\":\"screen\",\"value\":5.477225575051661},\"x\":{\"field\":\"TotalCoinsMined\"},\"y\":{\"field\":\"TotalCoinSupply\"}},\"id\":\"1462\",\"type\":\"Scatter\"},{\"attributes\":{\"overlay\":{\"id\":\"1387\"}},\"id\":\"1385\",\"type\":\"BoxZoomTool\"},{\"attributes\":{\"axis\":{\"id\":\"1375\"},\"grid_line_color\":null,\"ticker\":null},\"id\":\"1378\",\"type\":\"Grid\"},{\"attributes\":{},\"id\":\"1396\",\"type\":\"BasicTickFormatter\"},{\"attributes\":{\"data\":{\"CoinName\":[\"42 Coin\",\"404Coin\",\"Bitcoin\",\"Litecoin\",\"Dash\",\"BitcoinDark\",\"ProsperCoin\",\"KoboCoin\",\"Spreadcoin\",\"Argentum\",\"Aurora Coin\",\"BlueCoin\",\"ZetaCoin\",\"SexCoin\",\"Quatloo\",\"EnergyCoin\",\"QuarkCoin\",\"Digitalcoin \",\"BitBar\",\"Catcoin\",\"CryptoBullion\",\"CannaCoin\",\"CryptCoin\",\"DevCoin\",\"EarthCoin\",\"E-Gulden\",\"Einsteinium\",\"Emerald\",\"Franko\",\"GrandCoin\",\"GlobalCoin\",\"GoldCoin\",\"HoboNickels\",\"Infinite Coin\",\"IOCoin\",\"IXcoin\",\"KrugerCoin\",\"LuckyCoin\",\"Litebar \",\"MaxCoin\",\"MegaCoin\",\"MinCoin\",\"MazaCoin\",\"NavCoin\",\"NobleCoin\",\"Namecoin\",\"NyanCoin\",\"OpalCoin\",\"Orbitcoin\",\"PotCoin\",\"PhoenixCoin\",\"Reddcoin\",\"RonPaulCoin\",\"StableCoin\",\"SmartCoin\",\"SyncCoin\",\"SysCoin\",\"TigerCoin\",\"TorCoin\",\"TerraCoin\",\"UnbreakableCoin\",\"Unobtanium\",\"UroCoin\",\"UnitaryStatus Dollar\",\"UltraCoin\",\"ViaCoin\",\"VeriCoin\",\"WorldCoin\",\"X11 Coin\",\"JouleCoin\",\"StealthCoin\",\"ZCC Coin\",\"MonaCoin\",\"Neutron\",\"Gulden\",\"PesetaCoin\",\"Kore\",\"Wild Beast Coin\",\"Flo\",\"8BIT Coin\",\"Sativa Coin\",\"ArtByte\",\"Folding Coin\",\"CypherPunkCoin\",\"OmniCron\",\"Vtorrent\",\"GreenCoin\",\"MasterCoin\",\"SoonCoin\",\"1Credit\",\"IslaCoin\",\"Nexus\",\"MarsCoin \",\"Anarchists Prime\",\"Droidz\",\"BowsCoin\",\"Song Coin\",\"BitZeny\",\"Paycon\",\"Emercoin\",\"EverGreenCoin\",\"MindCoin\",\"I0coin\",\"Revolution VR\",\"EDRCoin\",\"Hitcoin\",\"Gamecredits\",\"DubaiCoin\",\"CarpeDiemCoin\",\"PWR Coin\",\"BillaryCoin\",\"Adzcoin\",\"YoCoin\",\"SibCoin\",\"EuropeCoin\",\"SwingCoin\",\"Francs\",\"BolivarCoin\",\"Ratecoin\",\"Revenu\",\"Clockcoin\",\"VIP Tokens\",\"BitSend\",\"Omni\",\"PutinCoin\",\"iBankCoin\",\"Frankywillcoin\",\"PizzaCoin\",\"GoldBlocks\",\"CarterCoin\",\"BitTokens\",\"ZayedCoin\",\"MustangCoin\",\"ZoneCoin\",\"RootCoin\",\"DopeCoin\",\"DollarCoin\",\"Swiscoin\",\"Shilling\",\"BuzzCoin\",\"PesoBit\",\"Halloween Coin\",\"GanjaCoin V2\",\"LanaCoin\",\"InsaneCoin\",\"KiloCoin\",\"ArtexCoin\",\"EmberCoin\",\"XenixCoin\",\"PLNCoin\",\"AquariusCoin\",\"Kurrent\",\"Eternity\",\"Eurocoin\",\"BitcoinFast\",\"Stakenet\",\"BitConnect Coin\",\"MoneyCoin\",\"Enigma\",\"Russiacoin\",\"GameUnits\",\"GAKHcoin\",\"LiteCreed\",\"OsmiumCoin\",\"Klingon Empire Darsek\",\"Internet of People\",\"KushCoin\",\"Printerium\",\"PacCoin\",\"Impeach\",\"FirstCoin\",\"BeaverCoin\",\"VaultCoin\",\"OpenChat\",\"Canada eCoin\",\"VirtacoinPlus\",\"Impact\",\"EB3coin\",\"HappyCoin\",\"Condensate\",\"Independent Money System\",\"ArgusCoin\",\"LomoCoin\",\"GoldReserve\",\"BenjiRolls\",\"ILCoin\",\"Degas Coin\",\"HTML5 Coin\",\"EquiTrader\",\"Denarius\",\"DigitalPrice\",\"Virta Unique Coin\",\"Bitcoin Planet\",\"Unify\",\"BritCoin\",\"SocialCoin\",\"ArcticCoin\",\"DAS\",\"Linda\",\"DeepOnion\",\"Bitcore\",\"Onix\",\"Cream\",\"Bitcoin Cash\",\"Monoeci\",\"Vechain\",\"Sojourn Coin\",\"NewYorkCoin\",\"FrazCoin\",\"Kronecoin\",\"AdCoin\",\"Linx\",\"CoinonatX\",\"Ethereum Dark\",\"Regalcoin\",\"TrezarCoin\",\"Elements\",\"TerraNovaCoin\",\"WomenCoin\",\"Theresa May Coin\",\"NamoCoin\",\"LUXCoin\",\"Xios\",\"Bitcloud 2.0\",\"eBoost\",\"BlackholeCoin\",\"Pura\",\"Magnet\",\"Electra\",\"Bitcoin Diamond\",\"Cash & Back Coin\",\"AC3\",\"GermanCoin\",\"LiteCoin Ultra\",\"PopularCoin\",\"PhantomX\",\"Sucre\",\"IrishCoin\",\"Trollcoin\",\"Litecoin Plus\",\"Pioneer Coin\",\"UnitedBitcoin\",\"My Big Coin\",\"MUNcoin\",\"Unified Society USDEX\",\"ShareChain\",\"LitecoinCash\",\"BitFlip\",\"LottoCoin\",\"Crypto Improvement Fund\",\"Pushi\",\"Ellerium\",\"Poseidon\",\"Bitspace\",\"Briacoin\",\"Ignition\",\"Abjcoin\",\"FuturoCoin\",\"Carebit\",\"iDealCash\",\"KEYCO\",\"Swisscoin\",\"TheVig\",\"EmaratCoin\",\"Motion\",\"Axe\",\"Trivechain\",\"Giant\",\"HexCoin\",\"TPCash\",\"Urals Coin\",\"EUNO\",\"Project Pai\",\"Azart\",\"ThunderStake\",\"Kcash\",\"Xchange\",\"Bitcoin SV\",\"BitMoney\",\"HerbCoin\",\"Block-Logic\",\"Oduwa\",\"Galilel\",\"Credit\",\"SLICE\",\"Nasdacoin\",\"Beetle Coin\",\"Titan Coin\",\"Award\",\"BLAST\",\"Bitcoin Rhodium\",\"GlobalToken\",\"Insane Coin\",\"LiteDoge\",\"SolarCoin\",\"TruckCoin\",\"OrangeCoin\",\"BitstarCoin\",\"HyperCoin\",\"PinkCoin\",\"Crypto Escudo\",\"AudioCoin\",\"IncaKoin\",\"Piggy Coin\",\"Crown Coin\",\"Genstake\",\"SmileyCoin\",\"XiaoMiCoin\",\"CapriCoin\",\" ClubCoin\",\"Bata\",\"Pakcoin\",\"Creditbit \",\"OKCash\",\"WhiteCoin\",\"FriendshipCoin\",\"Triangles Coin\",\"Gapcoin\"],\"TotalCoinSupply\":[\"42\",\"532000000\",\"21000000\",\"84000000\",\"22000000\",\"22000000\",\"21000000\",\"350000000\",\"20000000\",\"64000000\",\"16768584\",\"0\",\"169795588\",\"250000000\",\"100000000\",\"0\",\"247000000\",\"48166000\",\"500000\",\"21000000 \",\"1000000\",\"13140000\",\"18000000\",\"21000000000\",\"13500000000\",\"21000000 \",\"299792458\",\"32000000\",\"11235813\",\"1420609614\",\"70000000\",\"72245700\",\"120000000\",\"90600000000\",\"22000000\",\"21000000\",\"265420800\",\"20000000\",\"1350000\",\"100000000\",\"42000000\",\"10000000\",\"2419200000\",\"0\",\"15000000000\",\"21000000\",\"337000000\",\"0\",\"3770000\",\"420000000\",\"98000000\",\"0\",\"21000000\",\"250000000\",\"51200000\",\"1000\",\"888000000\",\"47011968\",\"10000000\",\"42000000\",\"80000000\",\"250000\",\"0\",\"1600000000\",\"100000000\",\"23000000\",\"0\",\"265420800\",\"5500000\",\"45000000\",\"0\",\"1000000000\",\"105120000\",\"68000000\",\"1680000000\",\"166386000\",\"12000000\",\"2628000\",\"160000000\",\"0\",\"10000000\",\"1000000000\",\"1000000000\",\"0\",\"3371337\",\"20000000\",\"10000000000\",\"619478\",\"21000000\",\"92000000000\",\"0\",\"78000000\",\"33000000\",\"53760000\",\"5060000\",\"21000000\",\"210240000\",\"250000000\",\"50000000\",\"1000000000\",\"26298000\",\"16000000\",\"21000000\",\"210000000\",\"22000000\",\"26550000000\",\"84000000\",\"10500000\",\"21626280000 \",\"0\",\"42000000\",\"84000000\",\"168351300\",\"24000000\",\"384000000\",\"40000000\",\"20000000\",\"25000000\",\"75000000\",\"222725000\",\"525000000\",\"90000000\",\"139000000\",\"616448\",\"2000000000\",\"44333333\",\"100000000\",\"25000000\",\"50000000\",\"90000000\",\"21000000\",\"9736000\",\"3000000\",\"21000000\",\"0\",\"200000000\",\"10638298\",\"3100000000\",\"30000000\",\"20000000000\",\"0\",\"1500000000\",\"100000000\",\"7506000000\",\"30000000\",\"10000000000\",\"500000000\",\"850000000\",\"3853326.77707314\",\"38540000 \",\"42000000\",\"228000000\",\"60000000\",\"20000000\",\"33000000\",\"76500000\",\"28000000\",\"650659833\",\"5000000\",\"144000000\",\"13000000\",\"3315789\",\"78835200\",\"2714286\",\"500000000\",\"21000000\",\"9354000\",\"20000000\",\"100000000000\",\"21933333\",\"110000000\",\"3360000\",\"1000000000\",\"1000000000\",\"100000000 \",\"100000000\",\"110000000\",\"4000000000\",\"100000000\",\"500000000\",\"21212121\",\"28600000\",\"1000000000\",\"40000000\",\"35520400\",\"2500000000\",\"105000000\",\"90000000000\",\"72000000\",\"10000000\",\"100000000\",\"120000000\",\"100000000\",\"19276800\",\"30000000\",\" 75000000\",\"60000000\",\"18900000\",\"50000000000\",\"18898187.6216583\",\"21000000\",\"1100000000\",\"100000000\",\"21000000\",\"9507271\",\"86712634466\",\"10500000000\",\"0\",\"20000000\",\"84000000\",\"100000000\",\"100000000\",\"48252000\",\"4200000\",\"27000000\",\"400000000\",\"1800000000\",\"15733333\",\"25000000000\",\"100000000\",\"1200000000\",\"60000000\",\"21000000\",\"200000000\",\"100000000\",\"14788275.991\",\"350000000\",\"144000000\",\"30000000000\",\"210000000\",\"210000000\",\"550000000\",\"50000000000\",\"150000000\",\"4999999999\",\"50000000\",\"19800000\",\"64000000\",\"900000000\",\"4000000\",\"23000000\",\"20166000\",\"30000000\",\"16600000\",\"232000000\",\"10000000000\",\"840000000\",\"40000000\",\"18406979840\",\"500000000\",\"25000000\",\"60000000\",\"21000000\",\"50000000\",\"3000000\",\"5000000\",\"30000000\",\"100000000\",\"200000000\",\"5121951220\",\"18000000\",\"10200000000\",\"100000000\",\"84000000\",\"22075700\",\"21000000\",\"82546564\",\"5151000\",\"22105263\",\"1000000000\",\"210000000\",\"50000000\",\"2100000000\",\"25000000\",\"18000000000\",\"1000000000\",\"100000000\",\"21000000\",\"70000000000\",\"54000000\",\"120000000\",\"21000000\",\"19035999\",\"74800000000\",\"100000000\",\"84000000\",\"500000000\",\"5000000000\",\"420000000\",\"64000000\",\"2100000\",\"168000000\",\"30000000\",\"35000000000\",\"98100000000\",\"0\",\"200000000\",\"54256119\",\"0\",\"500000000\",\"1000000000\",\"10500000000\",\"190000000\",\"1000000000\",\"42000000\",\"15000000\",\"50000000000\",\"400000000\",\"208000000\",\"160000000\",\"5000000\",\"182000000\",\"16504333\",\"105000000\",\"300000000\",\"60168145\",\"120000\",\"250000000\"],\"TotalCoinsMined\":{\"__ndarray__\":\"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\",\"dtype\":\"float64\",\"order\":\"little\",\"shape\":[318]},\"class\":[4,4,4,4,4,4,4,4,4,4,4,4,4,4,4,4,4,4,4,4,4,4,4,4,4,4,4,4,4,4,4,4,4,4,4,4,4,4,4,4,4,4,4,4,4,4,4,4,4,4,4,4,4,4,4,4,4,4,4,4,4,4,4,4,4,4,4,4,4,4,4,4,4,4,4,4,4,4,4,4,4,4,4,4,4,4,4,4,4,4,4,4,4,4,4,4,4,4,4,4,4,4,4,4,4,4,4,4,4,4,4,4,4,4,4,4,4,4,4,4,4,4,4,4,4,4,4,4,4,4,4,4,4,4,4,4,4,4,4,4,4,4,4,4,4,4,4,4,4,4,4,4,4,4,4,4,4,4,4,4,4,4,4,4,4,4,4,4,4,4,4,4,4,4,4,4,4,4,4,4,4,4,4,4,4,4,4,4,4,4,4,4,4,4,4,4,4,4,4,4,4,4,4,4,4,4,4,4,4,4,4,4,4,4,4,4,4,4,4,4,4,4,4,4,4,4,4,4,4,4,4,4,4,4,4,4,4,4,4,4,4,4,4,4,4,4,4,4,4,4,4,4,4,4,4,4,4,4,4,4,4,4,4,4,4,4,4,4,4,4,4,4,4,4,4,4,4,4,4,4,4,4,4,4,4,4,4,4,4,4,4,4,4,4,4,4,4,4,4,4,4,4,4,4,4,4,4,4,4,4,4,4,4,4,4,4,4,4]},\"selected\":{\"id\":\"1481\"},\"selection_policy\":{\"id\":\"1503\"}},\"id\":\"1480\",\"type\":\"ColumnDataSource\"},{\"attributes\":{\"axis_label\":\"TotalCoinSupply\",\"bounds\":\"auto\",\"formatter\":{\"id\":\"1398\"},\"major_label_orientation\":\"horizontal\",\"ticker\":{\"id\":\"1380\"}},\"id\":\"1379\",\"type\":\"CategoricalAxis\"},{\"attributes\":{\"fill_color\":{\"value\":\"#1f77b3\"},\"line_color\":{\"value\":\"#1f77b3\"},\"size\":{\"units\":\"screen\",\"value\":5.477225575051661},\"x\":{\"field\":\"TotalCoinsMined\"},\"y\":{\"field\":\"TotalCoinSupply\"}},\"id\":\"1402\",\"type\":\"Scatter\"},{\"attributes\":{},\"id\":\"1380\",\"type\":\"CategoricalTicker\"},{\"attributes\":{\"axis\":{\"id\":\"1379\"},\"dimension\":1,\"grid_line_color\":null,\"ticker\":null},\"id\":\"1381\",\"type\":\"Grid\"},{\"attributes\":{\"data_source\":{\"id\":\"1457\"},\"glyph\":{\"id\":\"1460\"},\"hover_glyph\":null,\"muted_glyph\":{\"id\":\"1462\"},\"nonselection_glyph\":{\"id\":\"1461\"},\"selection_glyph\":null,\"view\":{\"id\":\"1464\"}},\"id\":\"1463\",\"type\":\"GlyphRenderer\"},{\"attributes\":{\"fill_color\":{\"value\":\"#ff7e0e\"},\"line_color\":{\"value\":\"#ff7e0e\"},\"size\":{\"units\":\"screen\",\"value\":5.477225575051661},\"x\":{\"field\":\"TotalCoinsMined\"},\"y\":{\"field\":\"TotalCoinSupply\"}},\"id\":\"1420\",\"type\":\"Scatter\"},{\"attributes\":{},\"id\":\"1458\",\"type\":\"Selection\"},{\"attributes\":{\"fill_color\":{\"value\":\"#d62628\"},\"line_color\":{\"value\":\"#d62628\"},\"size\":{\"units\":\"screen\",\"value\":5.477225575051661},\"x\":{\"field\":\"TotalCoinsMined\"},\"y\":{\"field\":\"TotalCoinSupply\"}},\"id\":\"1460\",\"type\":\"Scatter\"},{\"attributes\":{\"factors\":[\"3600570502\",\"12500000\",\"40000000000\",\"0\",\"16180000\",\"100000000\",\"2300000000\",\"2158812800\",\"500000000\",\"20000000\",\"221052632\",\" 99000000000\",\"2147483647\",\"33500000\",\"200000000\",\"657000000\",\"74000000\",\"39999898\",\"2500124\",\"301000000\",\"125000000\",\"50000000\",\"32514916898\",\"15000000\",\"55000000\",\"14524851.4827\",\"34426423\",\"110290030\",\"400000000\",\"75000000000\",\"2000000000\",\"30000000\",\"200084200\",\"137500000\",\"17405891.19707116\",\"61599965\",\"91388946\",\"45000000000\",\"24000000\",\"21000000\",\"9000000000\",\"27716121\",\"120000000\",\"25000000\",\"800000000\",\"5200000000\",\"252460800\",\"124000000\",\"1000000000\",\"88000000\",\"80000000\",\"45000000\",\"26000000\",\"44000000\",\"90000000\",\"92000000000\",\"650000000 \",\"100262205\",\"16880000000\",\"260000000\",\"210000000\",\"13370000\",\"19700000\",\"9000000\",\"159918400\",\"10008835635\",\"8634140\",\"1000000\",\"314159265359\",\"384000000000\",\"184467440735\",\"200000000000\",\"1000000000000\",\"184470000000\",\"990000000000\",\"21000000000\",\"84000000\",\"4380000\",\"16555000000\",\"336000000\",\"10000000000\",\"1840000000\",\"65789100\",\"16906397\",\"81962100\",\"10000000\",\"1200000000\",\"21400000\",\"26205539\",\"9999999\",\"185000000\",\"17000000\",\"2232901\",\"36900000\",\"48252000\",\"105000000\",\"50000000000\",\"340282367\",\"54000000\",\"5000000000\",\"88888888\",\"27000000\",\"156306732.71\",\"280000000\",\"31800000\",\"660000000\",\"85000000000\",\"999481516\",\" 90000000000\",\"23000000\",\"1618033\",\"1100000000\",\"19340594\",\"6500000000\",\"70000000\",\"300000000\",\"18400000\",\"26280000\",\"10500000\",\"600000518\",\"150000000\",\"184000000000\",\"168000000\",\"18081806 \",\"52500000\",\"1750000000\",\"88188888\",\"366000000\",\"7600000000\",\"8080000000\",\"105120001.44\",\"25228800\",\"262800000\",\"30886000\",\"4000000000\",\"7000000000\",\"2800000\",\"2100000000\",\"24487944\",\"1400222610\",\"42\",\"532000000\",\"22000000\",\"350000000\",\"64000000\",\"16768584\",\"169795588\",\"250000000\",\"247000000\",\"48166000\",\"500000\",\"21000000 \",\"13140000\",\"18000000\",\"13500000000\",\"299792458\",\"32000000\",\"11235813\",\"1420609614\",\"72245700\",\"90600000000\",\"265420800\",\"1350000\",\"42000000\",\"2419200000\",\"15000000000\",\"337000000\",\"3770000\",\"420000000\",\"98000000\",\"51200000\",\"1000\",\"888000000\",\"47011968\",\"250000\",\"1600000000\",\"5500000\",\"105120000\",\"68000000\",\"1680000000\",\"166386000\",\"12000000\",\"2628000\",\"160000000\",\"3371337\",\"619478\",\"78000000\",\"33000000\",\"53760000\",\"5060000\",\"210240000\",\"26298000\",\"16000000\",\"26550000000\",\"21626280000 \",\"168351300\",\"384000000\",\"40000000\",\"75000000\",\"222725000\",\"525000000\",\"139000000\",\"616448\",\"44333333\",\"9736000\",\"3000000\",\"10638298\",\"3100000000\",\"20000000000\",\"1500000000\",\"7506000000\",\"850000000\",\"3853326.77707314\",\"38540000 \",\"228000000\",\"60000000\",\"76500000\",\"28000000\",\"650659833\",\"5000000\",\"144000000\",\"13000000\",\"3315789\",\"78835200\",\"2714286\",\"9354000\",\"100000000000\",\"21933333\",\"110000000\",\"3360000\",\"100000000 \",\"21212121\",\"28600000\",\"35520400\",\"2500000000\",\"90000000000\",\"72000000\",\"19276800\",\" 75000000\",\"18900000\",\"18898187.6216583\",\"9507271\",\"86712634466\",\"10500000000\",\"4200000\",\"1800000000\",\"15733333\",\"25000000000\",\"14788275.991\",\"30000000000\",\"550000000\",\"4999999999\",\"19800000\",\"900000000\",\"4000000\",\"20166000\",\"16600000\",\"232000000\",\"840000000\",\"18406979840\",\"5121951220\",\"10200000000\",\"22075700\",\"82546564\",\"5151000\",\"22105263\",\"18000000000\",\"70000000000\",\"19035999\",\"74800000000\",\"2100000\",\"35000000000\",\"98100000000\",\"54256119\",\"190000000\",\"208000000\",\"182000000\",\"16504333\",\"60168145\",\"120000\"],\"tags\":[[[\"TotalCoinSupply\",\"TotalCoinSupply\",null]]]},\"id\":\"1360\",\"type\":\"FactorRange\"},{\"attributes\":{\"fill_alpha\":{\"value\":0.1},\"fill_color\":{\"value\":\"#9367bc\"},\"line_alpha\":{\"value\":0.1},\"line_color\":{\"value\":\"#9367bc\"},\"size\":{\"units\":\"screen\",\"value\":5.477225575051661},\"x\":{\"field\":\"TotalCoinsMined\"},\"y\":{\"field\":\"TotalCoinSupply\"}},\"id\":\"1484\",\"type\":\"Scatter\"},{\"attributes\":{},\"id\":\"1382\",\"type\":\"SaveTool\"},{\"attributes\":{\"fill_alpha\":{\"value\":0.1},\"fill_color\":{\"value\":\"#d62628\"},\"line_alpha\":{\"value\":0.1},\"line_color\":{\"value\":\"#d62628\"},\"size\":{\"units\":\"screen\",\"value\":5.477225575051661},\"x\":{\"field\":\"TotalCoinsMined\"},\"y\":{\"field\":\"TotalCoinSupply\"}},\"id\":\"1461\",\"type\":\"Scatter\"},{\"attributes\":{\"label\":{\"value\":\"3\"},\"renderers\":[{\"id\":\"1463\"}]},\"id\":\"1479\",\"type\":\"LegendItem\"},{\"attributes\":{},\"id\":\"1400\",\"type\":\"Selection\"},{\"attributes\":{},\"id\":\"1383\",\"type\":\"PanTool\"},{\"attributes\":{},\"id\":\"1384\",\"type\":\"WheelZoomTool\"},{\"attributes\":{\"data_source\":{\"id\":\"1480\"},\"glyph\":{\"id\":\"1483\"},\"hover_glyph\":null,\"muted_glyph\":{\"id\":\"1485\"},\"nonselection_glyph\":{\"id\":\"1484\"},\"selection_glyph\":null,\"view\":{\"id\":\"1487\"}},\"id\":\"1486\",\"type\":\"GlyphRenderer\"},{\"attributes\":{\"source\":{\"id\":\"1480\"}},\"id\":\"1487\",\"type\":\"CDSView\"},{\"attributes\":{},\"id\":\"1437\",\"type\":\"Selection\"},{\"attributes\":{\"source\":{\"id\":\"1457\"}},\"id\":\"1464\",\"type\":\"CDSView\"},{\"attributes\":{\"data\":{\"CoinName\":[\"BitTorrent\"],\"TotalCoinSupply\":[\"990000000000\"],\"TotalCoinsMined\":{\"__ndarray__\":\"xfR7nv3PbEI=\",\"dtype\":\"float64\",\"order\":\"little\",\"shape\":[1]},\"class\":[2]},\"selected\":{\"id\":\"1437\"},\"selection_policy\":{\"id\":\"1455\"}},\"id\":\"1436\",\"type\":\"ColumnDataSource\"}],\"root_ids\":[\"1357\"]},\"title\":\"Bokeh Application\",\"version\":\"2.2.3\"}};\n    var render_items = [{\"docid\":\"3fb13e1f-d213-40cc-89c5-ff1012184c5a\",\"root_ids\":[\"1357\"],\"roots\":{\"1357\":\"338bfdda-fc3a-403d-9f6a-6ef98c0a0c58\"}}];\n    root.Bokeh.embed.embed_items_notebook(docs_json, render_items);\n  }\n  if (root.Bokeh !== undefined && root.Bokeh.Panel !== undefined) {\n    embed_document(root);\n  } else {\n    var attempts = 0;\n    var timer = setInterval(function(root) {\n      if (root.Bokeh !== undefined && root.Bokeh.Panel !== undefined) {\n        clearInterval(timer);\n        embed_document(root);\n      } else if (document.readyState == \"complete\") {\n        attempts++;\n        if (attempts > 100) {\n          clearInterval(timer);\n          console.log(\"Bokeh: ERROR: Unable to run BokehJS code because BokehJS library is missing\");\n        }\n      }\n    }, 10, root)\n  }\n})(window);</script>",
      "application/vnd.holoviews_exec.v0+json": "",
      "text/plain": [
       ":NdOverlay   [class]\n",
       "   :Scatter   [TotalCoinsMined]   (TotalCoinSupply,CoinName)"
      ]
     },
     "metadata": {
      "application/vnd.holoviews_exec.v0+json": {
       "id": "1357"
      }
     },
     "execution_count": 80
    }
   ],
   "source": [
    "# Plotting the scatter with x=\"TotalCoinsMined\" and y=\"TotalCoinSupply\"\n",
    "clustered_df.hvplot.scatter(\n",
    "x=\"TotalCoinsMined\",\n",
    "y=\"TotalCoinSupply\",\n",
    "hover_cols=[\"CoinName\"],\n",
    "by=\"class\",)"
   ]
  },
  {
   "cell_type": "code",
   "execution_count": null,
   "metadata": {},
   "outputs": [],
   "source": []
  }
 ],
 "metadata": {
  "file_extension": ".py",
  "kernelspec": {
   "display_name": "machinelearning",
   "language": "python",
   "name": "machinelearning"
  },
  "language_info": {
   "codemirror_mode": {
    "name": "ipython",
    "version": 3
   },
   "file_extension": ".py",
   "mimetype": "text/x-python",
   "name": "python",
   "nbconvert_exporter": "python",
   "pygments_lexer": "ipython3",
   "version": "3.7.9-final"
  },
  "mimetype": "text/x-python",
  "name": "python",
  "npconvert_exporter": "python",
  "pygments_lexer": "ipython3",
  "version": 3
 },
 "nbformat": 4,
 "nbformat_minor": 4
}