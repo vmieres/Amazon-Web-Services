{
 "cells": [
  {
   "cell_type": "markdown",
   "metadata": {},
   "source": [
    "# Clustering Crypto"
   ]
  },
  {
   "cell_type": "code",
   "execution_count": 4,
   "metadata": {},
   "outputs": [],
   "source": [
    "# Initial imports\n",
    "import requests\n",
    "import pandas as pd\n",
    "from pathlib import Path\n",
    "import matplotlib.pyplot as plt\n",
    "import hvplot.pandas\n",
    "import plotly.express as px\n",
    "from sklearn.preprocessing import StandardScaler, MinMaxScaler\n",
    "from sklearn.decomposition import PCA\n",
    "from sklearn.cluster import KMeans"
   ]
  },
  {
   "cell_type": "markdown",
   "metadata": {},
   "source": [
    "### Fetching Cryptocurrency Data"
   ]
  },
  {
   "cell_type": "code",
   "execution_count": 2,
   "metadata": {},
   "outputs": [],
   "source": [
    "# Using the following endpoint to fetch json data\n",
    "url = \"https://min-api.cryptocompare.com/data/all/coinlist\""
   ]
  },
  {
   "cell_type": "code",
   "execution_count": null,
   "metadata": {},
   "outputs": [],
   "source": [
    "# Creating a DataFrame \n",
    "# HINT: You will need to use the 'Data' key from the json response, then transpose the DataFrame.\n",
    "crypto_df = pd.read_csv(file_path, encoding=\"ISO-8859-1\")\n",
    "df_shopping.head(10)"
   ]
  },
  {
   "cell_type": "code",
   "execution_count": 5,
   "metadata": {},
   "outputs": [
    {
     "output_type": "execute_result",
     "data": {
      "text/plain": [
       "  Unnamed: 0   CoinName Algorithm  IsTrading ProofType  TotalCoinsMined  \\\n",
       "0         42    42 Coin    Scrypt       True   PoW/PoS     4.199995e+01   \n",
       "1        365    365Coin       X11       True   PoW/PoS              NaN   \n",
       "2        404    404Coin    Scrypt       True   PoW/PoS     1.055185e+09   \n",
       "3        611  SixEleven   SHA-256       True       PoW              NaN   \n",
       "4        808        808   SHA-256       True   PoW/PoS     0.000000e+00   \n",
       "5       1337  EliteCoin       X13       True   PoW/PoS     2.927942e+10   \n",
       "6       2015  2015 coin       X11       True   PoW/PoS              NaN   \n",
       "7        BTC    Bitcoin   SHA-256       True       PoW     1.792718e+07   \n",
       "8        ETH   Ethereum    Ethash       True       PoW     1.076842e+08   \n",
       "9        LTC   Litecoin    Scrypt       True       PoW     6.303924e+07   \n",
       "\n",
       "  TotalCoinSupply  \n",
       "0              42  \n",
       "1      2300000000  \n",
       "2       532000000  \n",
       "3          611000  \n",
       "4               0  \n",
       "5    314159265359  \n",
       "6               0  \n",
       "7        21000000  \n",
       "8               0  \n",
       "9        84000000  "
      ],
      "text/html": "<div>\n<style scoped>\n    .dataframe tbody tr th:only-of-type {\n        vertical-align: middle;\n    }\n\n    .dataframe tbody tr th {\n        vertical-align: top;\n    }\n\n    .dataframe thead th {\n        text-align: right;\n    }\n</style>\n<table border=\"1\" class=\"dataframe\">\n  <thead>\n    <tr style=\"text-align: right;\">\n      <th></th>\n      <th>Unnamed: 0</th>\n      <th>CoinName</th>\n      <th>Algorithm</th>\n      <th>IsTrading</th>\n      <th>ProofType</th>\n      <th>TotalCoinsMined</th>\n      <th>TotalCoinSupply</th>\n    </tr>\n  </thead>\n  <tbody>\n    <tr>\n      <th>0</th>\n      <td>42</td>\n      <td>42 Coin</td>\n      <td>Scrypt</td>\n      <td>True</td>\n      <td>PoW/PoS</td>\n      <td>4.199995e+01</td>\n      <td>42</td>\n    </tr>\n    <tr>\n      <th>1</th>\n      <td>365</td>\n      <td>365Coin</td>\n      <td>X11</td>\n      <td>True</td>\n      <td>PoW/PoS</td>\n      <td>NaN</td>\n      <td>2300000000</td>\n    </tr>\n    <tr>\n      <th>2</th>\n      <td>404</td>\n      <td>404Coin</td>\n      <td>Scrypt</td>\n      <td>True</td>\n      <td>PoW/PoS</td>\n      <td>1.055185e+09</td>\n      <td>532000000</td>\n    </tr>\n    <tr>\n      <th>3</th>\n      <td>611</td>\n      <td>SixEleven</td>\n      <td>SHA-256</td>\n      <td>True</td>\n      <td>PoW</td>\n      <td>NaN</td>\n      <td>611000</td>\n    </tr>\n    <tr>\n      <th>4</th>\n      <td>808</td>\n      <td>808</td>\n      <td>SHA-256</td>\n      <td>True</td>\n      <td>PoW/PoS</td>\n      <td>0.000000e+00</td>\n      <td>0</td>\n    </tr>\n    <tr>\n      <th>5</th>\n      <td>1337</td>\n      <td>EliteCoin</td>\n      <td>X13</td>\n      <td>True</td>\n      <td>PoW/PoS</td>\n      <td>2.927942e+10</td>\n      <td>314159265359</td>\n    </tr>\n    <tr>\n      <th>6</th>\n      <td>2015</td>\n      <td>2015 coin</td>\n      <td>X11</td>\n      <td>True</td>\n      <td>PoW/PoS</td>\n      <td>NaN</td>\n      <td>0</td>\n    </tr>\n    <tr>\n      <th>7</th>\n      <td>BTC</td>\n      <td>Bitcoin</td>\n      <td>SHA-256</td>\n      <td>True</td>\n      <td>PoW</td>\n      <td>1.792718e+07</td>\n      <td>21000000</td>\n    </tr>\n    <tr>\n      <th>8</th>\n      <td>ETH</td>\n      <td>Ethereum</td>\n      <td>Ethash</td>\n      <td>True</td>\n      <td>PoW</td>\n      <td>1.076842e+08</td>\n      <td>0</td>\n    </tr>\n    <tr>\n      <th>9</th>\n      <td>LTC</td>\n      <td>Litecoin</td>\n      <td>Scrypt</td>\n      <td>True</td>\n      <td>PoW</td>\n      <td>6.303924e+07</td>\n      <td>84000000</td>\n    </tr>\n  </tbody>\n</table>\n</div>"
     },
     "metadata": {},
     "execution_count": 5
    }
   ],
   "source": [
    "# Alternatively, using the provided csv file:\n",
    "file_path = Path(\"Resources/crypto_data.csv\")\n",
    "# Creating a DataFrame\n",
    "crypto_df = pd.read_csv(file_path)\n",
    "crypto_df.head(10)"
   ]
  },
  {
   "cell_type": "markdown",
   "metadata": {},
   "source": [
    "### Data Preprocessing"
   ]
  },
  {
   "cell_type": "code",
   "execution_count": 19,
   "metadata": {},
   "outputs": [
    {
     "output_type": "execute_result",
     "data": {
      "text/plain": [
       "    CoinName Algorithm  IsTrading ProofType  TotalCoinsMined TotalCoinSupply\n",
       "0    42 Coin    Scrypt       True   PoW/PoS     4.199995e+01              42\n",
       "1    365Coin       X11       True   PoW/PoS              NaN      2300000000\n",
       "2    404Coin    Scrypt       True   PoW/PoS     1.055185e+09       532000000\n",
       "3  SixEleven   SHA-256       True       PoW              NaN          611000\n",
       "4        808   SHA-256       True   PoW/PoS     0.000000e+00               0"
      ],
      "text/html": "<div>\n<style scoped>\n    .dataframe tbody tr th:only-of-type {\n        vertical-align: middle;\n    }\n\n    .dataframe tbody tr th {\n        vertical-align: top;\n    }\n\n    .dataframe thead th {\n        text-align: right;\n    }\n</style>\n<table border=\"1\" class=\"dataframe\">\n  <thead>\n    <tr style=\"text-align: right;\">\n      <th></th>\n      <th>CoinName</th>\n      <th>Algorithm</th>\n      <th>IsTrading</th>\n      <th>ProofType</th>\n      <th>TotalCoinsMined</th>\n      <th>TotalCoinSupply</th>\n    </tr>\n  </thead>\n  <tbody>\n    <tr>\n      <th>0</th>\n      <td>42 Coin</td>\n      <td>Scrypt</td>\n      <td>True</td>\n      <td>PoW/PoS</td>\n      <td>4.199995e+01</td>\n      <td>42</td>\n    </tr>\n    <tr>\n      <th>1</th>\n      <td>365Coin</td>\n      <td>X11</td>\n      <td>True</td>\n      <td>PoW/PoS</td>\n      <td>NaN</td>\n      <td>2300000000</td>\n    </tr>\n    <tr>\n      <th>2</th>\n      <td>404Coin</td>\n      <td>Scrypt</td>\n      <td>True</td>\n      <td>PoW/PoS</td>\n      <td>1.055185e+09</td>\n      <td>532000000</td>\n    </tr>\n    <tr>\n      <th>3</th>\n      <td>SixEleven</td>\n      <td>SHA-256</td>\n      <td>True</td>\n      <td>PoW</td>\n      <td>NaN</td>\n      <td>611000</td>\n    </tr>\n    <tr>\n      <th>4</th>\n      <td>808</td>\n      <td>SHA-256</td>\n      <td>True</td>\n      <td>PoW/PoS</td>\n      <td>0.000000e+00</td>\n      <td>0</td>\n    </tr>\n  </tbody>\n</table>\n</div>"
     },
     "metadata": {},
     "execution_count": 19
    }
   ],
   "source": [
    "# Keeping only necessary columns:\n",
    "'CoinName','Algorithm','IsTrading','ProofType','TotalCoinsMined','TotalCoinSupply'\n",
    "crypto_df = crypto_df.drop([\"Unnamed: 0\"], axis=1)\n",
    "crypto_df.head()"
   ]
  },
  {
   "cell_type": "code",
   "execution_count": 23,
   "metadata": {},
   "outputs": [
    {
     "output_type": "stream",
     "name": "stdout",
     "text": [
      "            CoinName       Algorithm  IsTrading ProofType  TotalCoinsMined  \\\n0            42 Coin          Scrypt       True   PoW/PoS     4.199995e+01   \n1            365Coin             X11       True   PoW/PoS              NaN   \n2            404Coin          Scrypt       True   PoW/PoS     1.055185e+09   \n3          SixEleven         SHA-256       True       PoW              NaN   \n4                808         SHA-256       True   PoW/PoS     0.000000e+00   \n5          EliteCoin             X13       True   PoW/PoS     2.927942e+10   \n6          2015 coin             X11       True   PoW/PoS              NaN   \n7            Bitcoin         SHA-256       True       PoW     1.792718e+07   \n8           Ethereum          Ethash       True       PoW     1.076842e+08   \n9           Litecoin          Scrypt       True       PoW     6.303924e+07   \n10              Dash             X11       True   PoW/PoS     9.031294e+06   \n11            Monero  CryptoNight-V7       True       PoW     1.720114e+07   \n12  Ethereum Classic          Ethash       True       PoW     1.133597e+08   \n13             ZCash        Equihash       True       PoW     7.383056e+06   \n14         Bitshares         SHA-512       True       PoS     2.741570e+09   \n15          DigiByte        Multiple       True       PoW     1.140622e+10   \n16       BitcoinDark         SHA-256       True   PoW/PoS     1.288862e+06   \n17        CraigsCoin             X11       True       PoS              NaN   \n18          Bitstake             X11       True   PoW/PoS     0.000000e+00   \n19           PayCoin         SHA-256       True       PoS     1.199533e+07   \n20       ProsperCoin          Scrypt       True       PoW     5.768310e+06   \n21            YbCoin        Multiple       True       PoS              NaN   \n22          DarkKush             X13       True   PoW/PoS              NaN   \n23          GiveCoin             X11       True       PoW              NaN   \n24          KoboCoin             X15       True   PoW/PoS     2.554254e+07   \n25         DarkToken           NIST5       True   PoW/PoS              NaN   \n26        CETUS Coin          Scrypt       True   PoW/PoS              NaN   \n27        Spreadcoin             X11       True       PoW     1.114973e+07   \n28     Insanity Coin             X11       True       PoW              NaN   \n29             ACoin         SHA-256       True       PoW     0.000000e+00   \n30         Aero Coin             X13       True       PoS     0.000000e+00   \n31         AlphaCoin          Scrypt       True       PoW              NaN   \n32             Aegis             X13       True       PoS              NaN   \n33      AmericanCoin          Scrypt       True       PoW              NaN   \n34         AlienCoin          Scrypt       True       PoW              NaN   \n35          ApexCoin             X13       True   PoW/PoS     0.000000e+00   \n36          ArchCoin          Scrypt       True       PoS     0.000000e+00   \n37          Argentum          Scrypt       True       PoW     1.220580e+07   \n38           AriCoin          Scrypt       True       PoW              NaN   \n39       Aurora Coin          Scrypt       True   PoW/PoS     1.813510e+07   \n40          BetaCoin         SHA-256       True       PoW     0.000000e+00   \n41          BeanCash         SHA-256       True   PoW/PoS              NaN   \n42          BlueCoin          Scrypt       True   PoW/PoS     6.354239e+08   \n43            BQCoin          Scrypt       True       PoW              NaN   \n44        MyriadCoin        Multiple       True       PoW     1.688254e+09   \n45          MoonCoin          Scrypt       True       PoW     8.800000e+01   \n46          ZetaCoin         SHA-256       True       PoW     1.702044e+08   \n47           SexCoin          Scrypt       True       PoW     1.289410e+08   \n48           Quatloo          Scrypt       True       PoW     7.357795e+06   \n49        EnergyCoin          Scrypt       True   PoW/PoS     1.230628e+08   \n\n   TotalCoinSupply  \n0               42  \n1       2300000000  \n2        532000000  \n3           611000  \n4                0  \n5     314159265359  \n6                0  \n7         21000000  \n8                0  \n9         84000000  \n10        22000000  \n11               0  \n12       210000000  \n13        21000000  \n14      3600570502  \n15     21000000000  \n16        22000000  \n17        30000000  \n18         1300000  \n19        12500000  \n20        21000000  \n21       200000000  \n22         3000000  \n23       500000000  \n24       350000000  \n25               0  \n26               0  \n27        20000000  \n28        50000000  \n29         1600000  \n30         7000000  \n31       210182000  \n32               0  \n33       168000000  \n34       200000000  \n35         6000000  \n36        16403135  \n37        64000000  \n38       322649400  \n39        16768584  \n40        32000000  \n41     50000000000  \n42               0  \n43        88000000  \n44      2000000000  \n45    384000000000  \n46       169795588  \n47       250000000  \n48       100000000  \n49               0  \n"
     ]
    }
   ],
   "source": [
    "# Keeping only cryptocurrencies that are trading\n",
    "crypto_df.drop(crypto_df[crypto_df['IsTrading'] !=True].index, inplace = True)\n",
    "print(crypto_df.head(50))"
   ]
  },
  {
   "cell_type": "code",
   "execution_count": null,
   "metadata": {},
   "outputs": [],
   "source": [
    "# Keeping only cryptocurrencies with a working algorithm\n"
   ]
  },
  {
   "cell_type": "code",
   "execution_count": null,
   "metadata": {},
   "outputs": [],
   "source": [
    "# Removing the \"IsTrading\" column\n"
   ]
  },
  {
   "cell_type": "code",
   "execution_count": null,
   "metadata": {},
   "outputs": [],
   "source": [
    "# Removing rows with at least 1 null value\n"
   ]
  },
  {
   "cell_type": "code",
   "execution_count": null,
   "metadata": {},
   "outputs": [],
   "source": [
    "# Removing rows with cryptocurrencies having no coins mined\n"
   ]
  },
  {
   "cell_type": "code",
   "execution_count": null,
   "metadata": {},
   "outputs": [],
   "source": [
    "# Dropping rows where there are 'N/A' text values\n"
   ]
  },
  {
   "cell_type": "code",
   "execution_count": null,
   "metadata": {},
   "outputs": [],
   "source": [
    "# Storing the 'CoinName'column in its own DataFrame prior to dropping it from crypto_df\n"
   ]
  },
  {
   "cell_type": "code",
   "execution_count": null,
   "metadata": {},
   "outputs": [],
   "source": [
    "# Dropping the 'CoinName' column since it's not going to be used on the clustering algorithm\n"
   ]
  },
  {
   "cell_type": "code",
   "execution_count": null,
   "metadata": {},
   "outputs": [],
   "source": [
    "# Creating dummy variables for text features\n"
   ]
  },
  {
   "cell_type": "code",
   "execution_count": null,
   "metadata": {},
   "outputs": [],
   "source": [
    "# Standardizing data\n"
   ]
  },
  {
   "cell_type": "markdown",
   "metadata": {},
   "source": [
    "### Reducing Dimensions Using PCA"
   ]
  },
  {
   "cell_type": "code",
   "execution_count": null,
   "metadata": {},
   "outputs": [],
   "source": [
    "# Using PCA to reduce dimensions to 3 principal components\n"
   ]
  },
  {
   "cell_type": "code",
   "execution_count": null,
   "metadata": {},
   "outputs": [],
   "source": [
    "# Creating a DataFrame with the principal components data\n"
   ]
  },
  {
   "cell_type": "markdown",
   "metadata": {},
   "source": [
    "### Clustering Crytocurrencies Using K-Means\n",
    "\n",
    "#### Finding the Best Value for `k` Using the Elbow Curve"
   ]
  },
  {
   "cell_type": "code",
   "execution_count": null,
   "metadata": {},
   "outputs": [],
   "source": [
    "inertia = []\n",
    "k = list(range(1, 11))\n",
    "\n",
    "# Calculating the inertia for the range of k values\n",
    "\n",
    "\n",
    "# Creating the Elbow Curve using hvPlot\n"
   ]
  },
  {
   "cell_type": "markdown",
   "metadata": {},
   "source": [
    "Running K-Means with `k=<your best value for k here>`"
   ]
  },
  {
   "cell_type": "code",
   "execution_count": null,
   "metadata": {},
   "outputs": [],
   "source": [
    "# Initializing the K-Means model\n",
    "\n",
    "# Fitting the model\n",
    "\n",
    "# Predicting clusters\n",
    "\n",
    "# Creating a new DataFrame including predicted clusters and cryptocurrencies features\n"
   ]
  },
  {
   "cell_type": "markdown",
   "metadata": {},
   "source": [
    "### Visualizing Results\n",
    "\n",
    "#### 3D-Scatter with Clusters"
   ]
  },
  {
   "cell_type": "code",
   "execution_count": null,
   "metadata": {},
   "outputs": [],
   "source": [
    "# Creating a 3D-Scatter with the PCA data and the clusters\n"
   ]
  },
  {
   "cell_type": "markdown",
   "metadata": {},
   "source": [
    "#### Table of Tradable Cryptocurrencies"
   ]
  },
  {
   "cell_type": "code",
   "execution_count": null,
   "metadata": {},
   "outputs": [],
   "source": [
    "# Table with tradable cryptos\n"
   ]
  },
  {
   "cell_type": "code",
   "execution_count": null,
   "metadata": {},
   "outputs": [],
   "source": [
    "# Printing the total number of tradable cryptocurrencies\n"
   ]
  },
  {
   "cell_type": "markdown",
   "metadata": {},
   "source": [
    "#### Scatter Plot with Tradable Cryptocurrencies"
   ]
  },
  {
   "cell_type": "code",
   "execution_count": null,
   "metadata": {},
   "outputs": [],
   "source": [
    "# Scaling data to create the scatter plot\n"
   ]
  },
  {
   "cell_type": "code",
   "execution_count": null,
   "metadata": {},
   "outputs": [],
   "source": [
    "# Plotting the scatter with x=\"TotalCoinsMined\" and y=\"TotalCoinSupply\"\n"
   ]
  }
 ],
 "metadata": {
  "file_extension": ".py",
  "kernelspec": {
   "display_name": "machinelearning",
   "language": "python",
   "name": "machinelearning"
  },
  "language_info": {
   "codemirror_mode": {
    "name": "ipython",
    "version": 3
   },
   "file_extension": ".py",
   "mimetype": "text/x-python",
   "name": "python",
   "nbconvert_exporter": "python",
   "pygments_lexer": "ipython3",
   "version": "3.7.9-final"
  },
  "mimetype": "text/x-python",
  "name": "python",
  "npconvert_exporter": "python",
  "pygments_lexer": "ipython3",
  "version": 3
 },
 "nbformat": 4,
 "nbformat_minor": 4
}